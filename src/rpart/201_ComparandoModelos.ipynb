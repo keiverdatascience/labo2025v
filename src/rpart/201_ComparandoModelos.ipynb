{
  "nbformat": 4,
  "nbformat_minor": 0,
  "metadata": {
    "colab": {
      "provenance": [],
      "include_colab_link": true
    },
    "kernelspec": {
      "name": "ir",
      "display_name": "R"
    },
    "language_info": {
      "name": "R"
    }
  },
  "cells": [
    {
      "cell_type": "markdown",
      "metadata": {
        "id": "view-in-github",
        "colab_type": "text"
      },
      "source": [
        "<a href=\"https://colab.research.google.com/github/keiverdatascience/labo2025v/blob/main/src/rpart/201_ComparandoModelos.ipynb\" target=\"_parent\"><img src=\"https://colab.research.google.com/assets/colab-badge.svg\" alt=\"Open In Colab\"/></a>"
      ]
    },
    {
      "cell_type": "markdown",
      "source": [
        "# Comparando Modelos"
      ],
      "metadata": {
        "id": "5DrvzQ9BsXmX"
      }
    },
    {
      "cell_type": "markdown",
      "source": [
        "Estamos en la  Clase 02\n",
        "<br> El objetivo de la materia es lograr la mejor predicción para nuestro probleama, para lo que se probarán pipelines con decenas de alternativas, será indispensable comparar varios modelos predictivos entre sí y decidir cual es el mejor\n",
        "<br> La tarea no es tan sencilla"
      ],
      "metadata": {
        "id": "Y2U9lu16sgta"
      }
    },
    {
      "cell_type": "markdown",
      "source": [
        "## Seteo del ambiente en Google Colab"
      ],
      "metadata": {
        "id": "kmLygy1TYPfg"
      }
    },
    {
      "cell_type": "markdown",
      "source": [
        "Esta parte se debe correr con el runtime en Python3\n",
        "<br>Ir al menu, Runtime -> Change Runtime Tipe -> Runtime type ->  **Python 3**"
      ],
      "metadata": {
        "id": "OikOm5K2YU3X"
      }
    },
    {
      "cell_type": "markdown",
      "source": [
        "Conectar la virtual machine donde esta corriendo Google Colab con el  Google Drive, para poder tener persistencia de archivos"
      ],
      "metadata": {
        "id": "4fmV5LyZdFyI"
      }
    },
    {
      "cell_type": "code",
      "source": [
        "# primero establecer el Runtime de Python 3\n",
        "from google.colab import drive\n",
        "drive.mount('/content/.drive')"
      ],
      "metadata": {
        "id": "ilEZ-bE2VybW",
        "outputId": "78e4456b-4738-4023-9651-1b09809c2fa9",
        "colab": {
          "base_uri": "https://localhost:8080/"
        }
      },
      "execution_count": 1,
      "outputs": [
        {
          "output_type": "stream",
          "name": "stdout",
          "text": [
            "Drive already mounted at /content/.drive; to attempt to forcibly remount, call drive.mount(\"/content/.drive\", force_remount=True).\n"
          ]
        }
      ]
    },
    {
      "cell_type": "markdown",
      "source": [
        "Para correr la siguiente celda es fundamental en Arranque en Frio haber copiado el archivo kaggle.json al Google Drive, en la carpeta indicada en el instructivo\n",
        "\n",
        "<br>los siguientes comando estan en shell script de Linux\n",
        "*   Crear las carpetas en el Google Drive\n",
        "*   \"instalar\" el archivo kaggle.json desde el Google Drive a la virtual machine para que pueda ser utilizado por la libreria  kaggle de Python\n",
        "*   Bajar el  **dataset_pequeno**  al  Google Drive  y tambien al disco local de la virtual machine que esta corriendo Google Colab\n",
        "\n"
      ],
      "metadata": {
        "id": "ilaKtqWldeWg"
      }
    },
    {
      "cell_type": "code",
      "source": [
        "%%shell\n",
        "\n",
        "mkdir -p \"/content/.drive/My Drive/labo1\"\n",
        "mkdir -p \"/content/buckets\"\n",
        "ln -s \"/content/.drive/My Drive/labo1\" /content/buckets/b1\n",
        "\n",
        "mkdir -p ~/.kaggle\n",
        "cp /content/buckets/b1/kaggle/kaggle.json  ~/.kaggle\n",
        "chmod 600 ~/.kaggle/kaggle.json\n",
        "\n",
        "\n",
        "mkdir -p /content/buckets/b1/exp\n",
        "mkdir -p /content/buckets/b1/datasets\n",
        "mkdir -p /content/datasets\n",
        "\n",
        "\n",
        "\n",
        "archivo_origen=\"https://storage.googleapis.com/open-courses/austral2025-af91/dataset_pequeno.csv\"\n",
        "archivo_destino=\"/content/datasets/dataset_pequeno.csv\"\n",
        "archivo_destino_bucket=\"/content/buckets/b1/datasets/dataset_pequeno.csv\"\n",
        "\n",
        "if ! test -f $archivo_destino_bucket; then\n",
        "  wget  $archivo_origen  -O $archivo_destino_bucket\n",
        "fi\n",
        "\n",
        "\n",
        "if ! test -f $archivo_destino; then\n",
        "  cp  $archivo_destino_bucket  $archivo_destino\n",
        "fi\n"
      ],
      "metadata": {
        "id": "W8dQFI5QYCFa",
        "outputId": "7a2a884b-8ce9-4b65-c49a-22bd12133ec1",
        "colab": {
          "base_uri": "https://localhost:8080/"
        }
      },
      "execution_count": 2,
      "outputs": [
        {
          "output_type": "stream",
          "name": "stdout",
          "text": [
            "ln: failed to create symbolic link '/content/buckets/b1/labo1': File exists\n"
          ]
        },
        {
          "output_type": "execute_result",
          "data": {
            "text/plain": []
          },
          "metadata": {},
          "execution_count": 2
        }
      ]
    },
    {
      "cell_type": "markdown",
      "source": [
        "# 1  Particion Training/Testing\n",
        "## Clase 02  Experimento 1"
      ],
      "metadata": {
        "id": "iV32-NeesVp6"
      }
    },
    {
      "cell_type": "markdown",
      "source": [
        "## 1.1  Objetivos\n",
        "Dado que es el primer experimento de la asignatura, acercar a l@s estudiantes las mejores prácticas de operación del ambiente de Google Cloud, realizando una minuciosa demostración en vivo narrando todas las consideraciones pertinentes para evitar accidentes, daños a terceros y a equipos.\n",
        "Dar soporte en el acto a  l@s estudiantes que necesitan ayuda para terminar de configurar el ambiente Google Cloud .\n",
        "<br>Repaso del concepto de  partición de un dataset al azar, estratificada en la clase\n",
        "<br>Dado que es el primer script que se mostrará en vivo a l@s estudiantes,  realizar una visita guiada del  mismo, su estructura y detalles.\n",
        "<br>Repaso del algoritmo Arbol de Decisión sus hiperparámetros, y la implementación con la librería  rpart.  Funciones  rpart::rpart  y rpart::predict\n",
        "<br>Concepto de replicabilidad de los experimentos mediante las semillas de los generadores de secuencias de números pseudoaleatorios.\n",
        "<br>Finalmente, el principal objetivo de este experimento es lograr que l@s estudiantes dimensionen la enorme variabilidad del error de medición de la ganancia de un árbol de decisión al realizar una partición <training, testing>,  contener la sorpresa de los estudiantes, descartar a la simple particion <training, testing> como método,  y construir en conjunto una solucion natural al problema."
      ],
      "metadata": {
        "id": "84Pnj9gVwpXB"
      }
    },
    {
      "cell_type": "markdown",
      "source": [
        "## 1.2 Introduccion"
      ],
      "metadata": {
        "id": "L9Cn0WThw37Y"
      }
    },
    {
      "cell_type": "markdown",
      "source": [
        "![Particiohn Training/Testing](https://storage.googleapis.com/open-courses/austral2025-af91/labo1r/C2_E1_particion.jpg)"
      ],
      "metadata": {
        "id": "ZELZ0R4itUVG"
      }
    },
    {
      "cell_type": "markdown",
      "source": [
        "![Dos tipos de error](https://storage.googleapis.com/open-courses/austral2025-af91/labo1r/C2_E1_target.jpg)"
      ],
      "metadata": {
        "id": "Wtc1ho58xLk-"
      }
    },
    {
      "cell_type": "markdown",
      "source": [
        "## 1.3  Bibliografía\n",
        "\n",
        "Demšar, J. [Statistical comparisons of classifiers over multiple data sets](https://www.jmlr.org/papers/volume7/demsar06a/demsar06a.pdf) J. Mach. Learn. Res. 7, 1–30 (2006).   \n",
        "Starmer, J. [Machine Learning Fundamentals: Cross Validation](https://www.youtube.com/watch?v=fSytzGwwBVw)Machine Learning Fundamentals: Cross Validation, StatQuest with Josh Starmer youtube channel, (2018)\n",
        "Hastie, T.[The elements of statistical learning: data mining, inference, and prediction](https://hastie.su.domains/Papers/ESLII.pdf) , volume 2. Springer, 2009  ( Chapter 7 Model Assessment and Selection )"
      ],
      "metadata": {
        "id": "oRWtRV34xZRT"
      }
    },
    {
      "cell_type": "markdown",
      "source": [
        "## 1.4 Codigo"
      ],
      "metadata": {
        "id": "VcgTQ2-Pyb8q"
      }
    },
    {
      "cell_type": "markdown",
      "source": [
        "Esta parte se debe correr con el runtime en lenguaje **R** Ir al menu, Runtime -> Change Runtime Tipe -> Runtime type -> R"
      ],
      "metadata": {
        "id": "SBXPU-_tabMb"
      }
    },
    {
      "cell_type": "markdown",
      "source": [
        "limpio el ambiente de R"
      ],
      "metadata": {
        "id": "SE94XRhWsxkX"
      }
    },
    {
      "cell_type": "code",
      "source": [
        "# limpio la memoria\n",
        "rm(list=ls(all.names=TRUE)) # remove all objects\n",
        "gc(full=TRUE, verbose=FALSE) # garbage collection"
      ],
      "metadata": {
        "id": "oZG_4br6szlT",
        "outputId": "9a5b0217-c453-4a44-db7c-7858cf909431",
        "colab": {
          "base_uri": "https://localhost:8080/",
          "height": 129
        }
      },
      "execution_count": 1,
      "outputs": [
        {
          "output_type": "display_data",
          "data": {
            "text/html": [
              "<table class=\"dataframe\">\n",
              "<caption>A matrix: 2 × 6 of type dbl</caption>\n",
              "<thead>\n",
              "\t<tr><th></th><th scope=col>used</th><th scope=col>(Mb)</th><th scope=col>gc trigger</th><th scope=col>(Mb)</th><th scope=col>max used</th><th scope=col>(Mb)</th></tr>\n",
              "</thead>\n",
              "<tbody>\n",
              "\t<tr><th scope=row>Ncells</th><td> 657244</td><td>35.2</td><td>1454474</td><td>77.7</td><td>1326126</td><td>70.9</td></tr>\n",
              "\t<tr><th scope=row>Vcells</th><td>1220271</td><td> 9.4</td><td>8388608</td><td>64.0</td><td>1975128</td><td>15.1</td></tr>\n",
              "</tbody>\n",
              "</table>\n"
            ],
            "text/markdown": "\nA matrix: 2 × 6 of type dbl\n\n| <!--/--> | used | (Mb) | gc trigger | (Mb) | max used | (Mb) |\n|---|---|---|---|---|---|---|\n| Ncells |  657244 | 35.2 | 1454474 | 77.7 | 1326126 | 70.9 |\n| Vcells | 1220271 |  9.4 | 8388608 | 64.0 | 1975128 | 15.1 |\n\n",
            "text/latex": "A matrix: 2 × 6 of type dbl\n\\begin{tabular}{r|llllll}\n  & used & (Mb) & gc trigger & (Mb) & max used & (Mb)\\\\\n\\hline\n\tNcells &  657244 & 35.2 & 1454474 & 77.7 & 1326126 & 70.9\\\\\n\tVcells & 1220271 &  9.4 & 8388608 & 64.0 & 1975128 & 15.1\\\\\n\\end{tabular}\n",
            "text/plain": [
              "       used    (Mb) gc trigger (Mb) max used (Mb)\n",
              "Ncells  657244 35.2 1454474    77.7 1326126  70.9\n",
              "Vcells 1220271  9.4 8388608    64.0 1975128  15.1"
            ]
          },
          "metadata": {}
        }
      ]
    },
    {
      "cell_type": "code",
      "source": [
        "Sys.time()"
      ],
      "metadata": {
        "id": "pJ8SsVA5ssnf",
        "outputId": "241f65de-5505-498a-f49d-165a60b2c28a",
        "colab": {
          "base_uri": "https://localhost:8080/",
          "height": 34
        }
      },
      "execution_count": 2,
      "outputs": [
        {
          "output_type": "display_data",
          "data": {
            "text/plain": [
              "[1] \"2025-10-15 01:09:31 UTC\""
            ]
          },
          "metadata": {}
        }
      ]
    },
    {
      "cell_type": "markdown",
      "source": [
        "* Instalacion de la libreria  rpart.plot  para dibujar el arbol\n",
        "* invocacion de las librerias  **data.table** y  **rpart**"
      ],
      "metadata": {
        "id": "3BrrQ47PeEb2"
      }
    },
    {
      "cell_type": "code",
      "source": [
        "# cargo las librerias que necesito\n",
        "require(\"data.table\")\n",
        "require(\"rpart\")\n"
      ],
      "metadata": {
        "id": "SxO-0Ql0khn6",
        "outputId": "ba8cb6b5-ff79-4ba2-e05f-5919cfc4ca71",
        "colab": {
          "base_uri": "https://localhost:8080/"
        }
      },
      "execution_count": 3,
      "outputs": [
        {
          "output_type": "stream",
          "name": "stderr",
          "text": [
            "Loading required package: data.table\n",
            "\n",
            "Loading required package: rpart\n",
            "\n"
          ]
        }
      ]
    },
    {
      "cell_type": "markdown",
      "source": [
        "###  Accion a Realizar\n",
        "PARAM$semilla  debe tener su primer semilla aleatoria"
      ],
      "metadata": {
        "id": "ZG9fCnZh3bWV"
      }
    },
    {
      "cell_type": "code",
      "source": [
        "PARAM <- list()\n",
        "PARAM$semilla <- 245681  # aqui debe ir su primer semilla\n",
        "PARAM$training_pct <- 70L  # entre  1L y 99L\n",
        "\n",
        "PARAM$rpart <- list (\n",
        "  \"cp\" = -1, # complejidad minima\n",
        "  \"minsplit\" = 170, # minima cantidad de regs en un nodo para hacer el split\n",
        "  \"minbucket\" = 70, # minima cantidad de regs en una hoja\n",
        "  \"maxdepth\" = 7 # profundidad máxima del arbol\n",
        ")\n"
      ],
      "metadata": {
        "id": "0nx5_OcE3Y9c"
      },
      "execution_count": 5,
      "outputs": []
    },
    {
      "cell_type": "code",
      "source": [
        "# particionar agrega una columna llamada fold a un dataset\n",
        "#  que consiste en una particion estratificada segun agrupa\n",
        "\n",
        "# particionar( data=dataset, division=c(70,30),\n",
        "#  agrupa=clase_ternaria, seed=semilla)   crea una particion 70, 30\n",
        "\n",
        "particionar <- function(\n",
        "    data, division, agrupa = \"\",\n",
        "    campo = \"fold\", start = 1, seed = NA) {\n",
        "  if (!is.na(seed)) set.seed(seed)\n",
        "\n",
        "  bloque <- unlist(mapply(function(x, y) {\n",
        "    rep(y, x)\n",
        "  }, division, seq(from = start, length.out = length(division))))\n",
        "\n",
        "  data[, (campo) := sample(rep(bloque, ceiling(.N / length(bloque))))[1:.N],\n",
        "    by = agrupa\n",
        "  ]\n",
        "}\n"
      ],
      "metadata": {
        "id": "8HLE9Dx80gjH"
      },
      "execution_count": 6,
      "outputs": []
    },
    {
      "cell_type": "code",
      "source": [
        "# carpeta de trabajo\n",
        "setwd(\"/content/buckets/b1/exp\")\n",
        "experimento <- \"exp201\"\n",
        "dir.create(experimento, showWarnings=FALSE)\n",
        "setwd( paste0(\"/content/buckets/b1/exp/\", experimento ))"
      ],
      "metadata": {
        "id": "sC4_nqcm0nUs"
      },
      "execution_count": 7,
      "outputs": []
    },
    {
      "cell_type": "code",
      "source": [
        "# lectura del dataset\n",
        "dataset <- fread(\"/content/datasets/dataset_pequeno.csv\")\n",
        "\n",
        "# trabajo solo con los datos con clase, es decir 202107\n",
        "dataset <- dataset[clase_ternaria != \"\"]"
      ],
      "metadata": {
        "id": "6yIEsZOw07q8"
      },
      "execution_count": 8,
      "outputs": []
    },
    {
      "cell_type": "code",
      "source": [
        "# particiono estratificadamente el dataset 70%, 30%\n",
        "particionar(dataset,\n",
        "  division = c(PARAM$training_pct, 100L -PARAM$training_pct),\n",
        "  agrupa = \"clase_ternaria\",\n",
        "  seed = PARAM$semilla # aqui se usa SU semilla\n",
        ")\n",
        "\n"
      ],
      "metadata": {
        "id": "FAO1Hhd52b5d"
      },
      "execution_count": 9,
      "outputs": []
    },
    {
      "cell_type": "code",
      "source": [
        "# genero el modelo\n",
        "# quiero predecir clase_ternaria a partir del resto\n",
        "# fold==1  es training,  el 70% de los datos\n",
        "modelo <- rpart(\"clase_ternaria ~ .\",\n",
        "  data = dataset[fold == 1],  # fold==1  es training, el 70% de los datos\n",
        "  xval = 0,\n",
        "  control = PARAM$rpart # aqui van los parametros\n",
        ")\n"
      ],
      "metadata": {
        "id": "s3UnHSLP2gN6"
      },
      "execution_count": 10,
      "outputs": []
    },
    {
      "cell_type": "code",
      "source": [
        "# aplico el modelo a los datos de testing\n",
        "prediccion <- predict(modelo, # el modelo que genere recien\n",
        "  dataset[fold == 2], # fold==2  es testing, el 30% de los datos\n",
        "  type = \"prob\"\n",
        ") # type= \"prob\"  es que devuelva la probabilidad\n"
      ],
      "metadata": {
        "id": "paQphV4A2jGz"
      },
      "execution_count": null,
      "outputs": []
    },
    {
      "cell_type": "code",
      "source": [
        "tb_prediccion <- as.data.table(list(\n",
        "  \"clase_ternaria\"=dataset[fold == 2, clase_ternaria],\n",
        "  \"prob\"=prediccion[, \"BAJA+2\"]\n",
        "))"
      ],
      "metadata": {
        "id": "fuLZ75pA29dT"
      },
      "execution_count": null,
      "outputs": []
    },
    {
      "cell_type": "code",
      "source": [
        "# calculo la ganancia de cada registro\n",
        "tb_prediccion[, ganancia := ifelse(clase_ternaria == \"BAJA+2\", 117000, -3000)]"
      ],
      "metadata": {
        "id": "LuG6ql_t3kOI"
      },
      "execution_count": null,
      "outputs": []
    },
    {
      "cell_type": "code",
      "source": [
        "# calculo la clase\n",
        "tb_prediccion[, Predicted := prob > (1/40) ]"
      ],
      "metadata": {
        "id": "xJ3WTMez3leO"
      },
      "execution_count": null,
      "outputs": []
    },
    {
      "cell_type": "code",
      "source": [
        "ganancia_test <-  tb_prediccion[ Predicted==TRUE,  sum(ganancia)]"
      ],
      "metadata": {
        "id": "cFQPacen4Wq6"
      },
      "execution_count": null,
      "outputs": []
    },
    {
      "cell_type": "code",
      "source": [
        "# normalizo la ganancia\n",
        "ganancia_test_normalizada <- ganancia_test / (( 100 - PARAM$training_pct ) / 100 )"
      ],
      "metadata": {
        "id": "dHjz0zhN4-nZ"
      },
      "execution_count": null,
      "outputs": []
    },
    {
      "cell_type": "code",
      "source": [
        "estimulos <- tb_prediccion[ Predicted==TRUE, .N]\n",
        "aciertos <- tb_prediccion[ Predicted & clase_ternaria == \"BAJA+2\", .N]\n"
      ],
      "metadata": {
        "id": "D7RUdTb95F6B"
      },
      "execution_count": null,
      "outputs": []
    },
    {
      "cell_type": "code",
      "source": [
        "# Resultado Final\n",
        "cat(\"Testing total: \", dataset[fold == 2, .N], \"\\n\")\n",
        "cat(\"Testing BAJA+2: \", dataset[fold == 2 & clase_ternaria == \"BAJA+2\", .N], \"\\n\")\n",
        "\n",
        "cat(\"Estimulos: \", estimulos, \"\\n\")\n",
        "cat(\"Aciertos (BAJA+2): \", aciertos, \"\\n\")\n",
        "\n",
        "cat(\"Ganancia en testing (normalizada): \", ganancia_test_normalizada, \"\\n\")\n"
      ],
      "metadata": {
        "id": "Lu1KM6fy5U7h",
        "outputId": "d0b3aa6c-c6af-47d0-d62e-3ec5b15c003e",
        "colab": {
          "base_uri": "https://localhost:8080/"
        }
      },
      "execution_count": null,
      "outputs": [
        {
          "output_type": "stream",
          "name": "stdout",
          "text": [
            "Testing total:  49370 \n",
            "Testing BAJA+2:  374 \n",
            "Estimulos:  2683 \n",
            "Aciertos (BAJA+2):  187 \n",
            "Ganancia en testing (normalizada):  47970000 \n"
          ]
        }
      ]
    },
    {
      "cell_type": "markdown",
      "source": [
        "### Acciones a realizar\n",
        "* Reportar la  *Ganancia en testing (normalizada)* <br> en la planilla colaborativa hoja  **C2-1sem**\n",
        "* Se discutirá en clase la variabilidad de las ganancias obtenidas de distintos alumnos"
      ],
      "metadata": {
        "id": "kHs-YoFB5rUa"
      }
    },
    {
      "cell_type": "markdown",
      "source": [
        "\n",
        "\n",
        "---\n",
        "\n"
      ],
      "metadata": {
        "id": "LBl_eIeO7WuM"
      }
    },
    {
      "cell_type": "markdown",
      "source": [
        "# 2  Medición Monte Carlo Cross Validation\n",
        "## Clase 02  Experimento 2"
      ],
      "metadata": {
        "id": "h43UCq9y7UlT"
      }
    },
    {
      "cell_type": "markdown",
      "source": [
        "## 2.1  Objetivos\n",
        "Mostrar el funcionamiento de la Montecarlo Cross Validation y que l@s estudiantes aprecien la disminución de la varianza de dicha metodología.\n",
        "Relación con el Teorema Central del Límite"
      ],
      "metadata": {
        "id": "wHPchGXK80VU"
      }
    },
    {
      "cell_type": "markdown",
      "source": [
        "## 2.2 Introduccion\n",
        "\n",
        "![Montecarlo](https://storage.googleapis.com/open-courses/austral2025-af91/labo1r/C2_E2_montecarlo.jpg)\n",
        "\n",
        "![Curva normal](https://storage.googleapis.com/open-courses/austral2025-af91/labo1r/C2_E2_normal.jpg)\n",
        "\n",
        "![Teorema Central del Limite](https://storage.googleapis.com/open-courses/austral2025-af91/labo1r/C2_E2_teoremacentralLimite.jpg)\n",
        "\n"
      ],
      "metadata": {
        "id": "g6YzACxl9DzS"
      }
    },
    {
      "cell_type": "markdown",
      "source": [],
      "metadata": {
        "id": "7laod2t4ArsH"
      }
    },
    {
      "cell_type": "markdown",
      "source": [
        "## 2.3  Bibliografía\n",
        "\n",
        "Demšar, J. [Statistical comparisons of classifiers over multiple data sets](https://www.jmlr.org/papers/volume7/demsar06a/demsar06a.pdf) J. Mach. Learn. Res. 7, 1–30 (2006).   \n",
        "Starmer, J. [Machine Learning Fundamentals: Cross Validation](https://www.youtube.com/watch?v=fSytzGwwBVw)Machine Learning Fundamentals: Cross Validation, StatQuest with Josh Starmer youtube channel, (2018)\n",
        "Hastie, T.[The elements of statistical learning: data mining, inference, and prediction](https://hastie.su.domains/Papers/ESLII.pdf) , volume 2. Springer, 2009  ( Chapter 7 Model Assessment and Selection )"
      ],
      "metadata": {
        "id": "lFcJeRAkAr-q"
      }
    },
    {
      "cell_type": "code",
      "source": [],
      "metadata": {
        "id": "KXSuYXQ26cLV"
      },
      "execution_count": null,
      "outputs": []
    },
    {
      "cell_type": "markdown",
      "source": [
        "## 2.4 Codigo  Montecarlo"
      ],
      "metadata": {
        "id": "0ztZzYolA2WK"
      }
    },
    {
      "cell_type": "markdown",
      "source": [
        "El código de la Montecarlo Cross Validation es notablemente más complejo que el anterior de una simple partición training/testing\n",
        "<br> Se crea la funcion ArbolEstimarGanancia()  que dada una semilla realiza la partición  training/testing, entrena en training, aplica el modelo a testing, y se calculan las ganancias\n",
        "<br> Se utiliza la funcion **mcmapply**  de R para aplicar ArbolEstimarGanancia a todos los elementos del vector de semillas"
      ],
      "metadata": {
        "id": "KLa06ZsiC-Oz"
      }
    },
    {
      "cell_type": "markdown",
      "source": [
        "Esta parte se debe correr con el runtime en lenguaje **R** Ir al menu, Runtime -> Change Runtime Tipe -> Runtime type -> R"
      ],
      "metadata": {
        "id": "ivFiBBOQA2Ws"
      }
    },
    {
      "cell_type": "markdown",
      "source": [
        "limpio el ambiente de R"
      ],
      "metadata": {
        "id": "TMSAQDXuA2Ws"
      }
    },
    {
      "cell_type": "code",
      "source": [
        "# limpio la memoria\n",
        "rm(list=ls(all.names=TRUE)) # remove all objects\n",
        "gc(full=TRUE, verbose=FALSE) # garbage collection"
      ],
      "metadata": {
        "id": "eakzb8y2A2Wt",
        "outputId": "0b58153e-4484-431b-c06c-3056ae4b792d",
        "colab": {
          "base_uri": "https://localhost:8080/",
          "height": 129
        }
      },
      "execution_count": 11,
      "outputs": [
        {
          "output_type": "display_data",
          "data": {
            "text/html": [
              "<table class=\"dataframe\">\n",
              "<caption>A matrix: 2 × 6 of type dbl</caption>\n",
              "<thead>\n",
              "\t<tr><th></th><th scope=col>used</th><th scope=col>(Mb)</th><th scope=col>gc trigger</th><th scope=col>(Mb)</th><th scope=col>max used</th><th scope=col>(Mb)</th></tr>\n",
              "</thead>\n",
              "<tbody>\n",
              "\t<tr><th scope=row>Ncells</th><td> 741870</td><td>39.7</td><td> 1454474</td><td> 77.7</td><td> 1454474</td><td> 77.7</td></tr>\n",
              "\t<tr><th scope=row>Vcells</th><td>1403447</td><td>10.8</td><td>84907200</td><td>647.8</td><td>79561420</td><td>607.1</td></tr>\n",
              "</tbody>\n",
              "</table>\n"
            ],
            "text/markdown": "\nA matrix: 2 × 6 of type dbl\n\n| <!--/--> | used | (Mb) | gc trigger | (Mb) | max used | (Mb) |\n|---|---|---|---|---|---|---|\n| Ncells |  741870 | 39.7 |  1454474 |  77.7 |  1454474 |  77.7 |\n| Vcells | 1403447 | 10.8 | 84907200 | 647.8 | 79561420 | 607.1 |\n\n",
            "text/latex": "A matrix: 2 × 6 of type dbl\n\\begin{tabular}{r|llllll}\n  & used & (Mb) & gc trigger & (Mb) & max used & (Mb)\\\\\n\\hline\n\tNcells &  741870 & 39.7 &  1454474 &  77.7 &  1454474 &  77.7\\\\\n\tVcells & 1403447 & 10.8 & 84907200 & 647.8 & 79561420 & 607.1\\\\\n\\end{tabular}\n",
            "text/plain": [
              "       used    (Mb) gc trigger (Mb)  max used (Mb) \n",
              "Ncells  741870 39.7  1454474    77.7  1454474  77.7\n",
              "Vcells 1403447 10.8 84907200   647.8 79561420 607.1"
            ]
          },
          "metadata": {}
        }
      ]
    },
    {
      "cell_type": "markdown",
      "source": [
        "* Instalacion de la libreria  rpart.plot  para dibujar el arbol\n",
        "* invocacion de las librerias  **data.table** y  **rpart**"
      ],
      "metadata": {
        "id": "559RkeYZA2Wv"
      }
    },
    {
      "cell_type": "code",
      "source": [
        "# cargo las librerias que necesito\n",
        "require(\"data.table\")\n",
        "require(\"rpart\")\n",
        "require(\"parallel\")"
      ],
      "metadata": {
        "id": "yf_S_HlsA2Wv",
        "outputId": "493a6eb0-d449-4d59-b68e-8c874b84c53c",
        "colab": {
          "base_uri": "https://localhost:8080/"
        }
      },
      "execution_count": 12,
      "outputs": [
        {
          "output_type": "stream",
          "name": "stderr",
          "text": [
            "Loading required package: parallel\n",
            "\n"
          ]
        }
      ]
    },
    {
      "cell_type": "markdown",
      "source": [
        "###  Accion a Realizar\n",
        "PARAM$semillas  debe tener sus cinco semillas aleatorias"
      ],
      "metadata": {
        "id": "a4oz2ulCA2Ww"
      }
    },
    {
      "cell_type": "code",
      "source": [
        "PARAM <- list()\n",
        "PARAM$semillas <- c(245681, 589007, 812351, 100507, 999979)  # aqui debe ir sus CINCO\n",
        "PARAM$training_pct <- 70L  # entre  1L y 99L\n",
        "\n",
        "PARAM$rpart <- list (\n",
        "  \"cp\" = -1, # complejidad minima\n",
        "  \"minsplit\" = 170, # minima cantidad de regs en un nodo para hacer el split\n",
        "  \"minbucket\" = 70, # minima cantidad de regs en una hoja\n",
        "  \"maxdepth\" = 7 # profundidad máxima del arbol\n",
        ")\n"
      ],
      "metadata": {
        "id": "yQ2OAP5AA2Wx"
      },
      "execution_count": 13,
      "outputs": []
    },
    {
      "cell_type": "code",
      "source": [
        "# particionar agrega una columna llamada fold a un dataset\n",
        "#  que consiste en una particion estratificada segun agrupa\n",
        "\n",
        "# particionar( data=dataset, division=c(70,30),\n",
        "#  agrupa=clase_ternaria, seed=semilla)   crea una particion 70, 30\n",
        "\n",
        "particionar <- function(\n",
        "    data, division, agrupa = \"\",\n",
        "    campo = \"fold\", start = 1, seed = NA) {\n",
        "  if (!is.na(seed)) set.seed(seed)\n",
        "\n",
        "  bloque <- unlist(mapply(function(x, y) {\n",
        "    rep(y, x)\n",
        "  }, division, seq(from = start, length.out = length(division))))\n",
        "\n",
        "  data[, (campo) := sample(rep(bloque, ceiling(.N / length(bloque))))[1:.N],\n",
        "    by = agrupa\n",
        "  ]\n",
        "}\n"
      ],
      "metadata": {
        "id": "97dMCVJWA2Wy"
      },
      "execution_count": 14,
      "outputs": []
    },
    {
      "cell_type": "code",
      "source": [
        "\n",
        "ArbolEstimarGanancia <- function(semilla, param_basicos) {\n",
        "  # particiono estratificadamente el dataset\n",
        "  particionar(dataset,\n",
        "    division = c(param_basicos$training_pct, 100L -param_basicos$training_pct),\n",
        "    agrupa = \"clase_ternaria\",\n",
        "    seed = semilla # aqui se usa SU semilla\n",
        "  )\n",
        "\n",
        "  # genero el modelo\n",
        "  # predecir clase_ternaria a partir del resto\n",
        "  modelo <- rpart(\"clase_ternaria ~ .\",\n",
        "    data = dataset[fold == 1], # fold==1  es training,  el 70% de los datos\n",
        "    xval = 0,\n",
        "    control = param_basicos$rpart\n",
        "  ) # aqui van los parametros del arbol\n",
        "\n",
        "  # aplico el modelo a los datos de testing\n",
        "  prediccion <- predict(modelo, # el modelo que genere recien\n",
        "    dataset[fold == 2], # fold==2  es testing, el 30% de los datos\n",
        "    type = \"prob\"\n",
        "  ) # type= \"prob\"  es que devuelva la probabilidad\n",
        "\n",
        "  # prediccion es una matriz con TRES columnas,\n",
        "  #  llamadas \"BAJA+1\", \"BAJA+2\"  y \"CONTINUA\"\n",
        "  # cada columna es el vector de probabilidades\n",
        "\n",
        "\n",
        "  # calculo la ganancia en testing  qu es fold==2\n",
        "  ganancia_test <- dataset[\n",
        "    fold == 2,\n",
        "    sum(ifelse(prediccion[, \"BAJA+2\"] > 0.025,\n",
        "      ifelse(clase_ternaria == \"BAJA+2\", 117000, -3000),\n",
        "      0\n",
        "    ))\n",
        "  ]\n",
        "\n",
        "  # escalo la ganancia como si fuera todo el dataset\n",
        "  ganancia_test_normalizada <- ganancia_test / (( 100 - PARAM$training_pct ) / 100 )\n",
        "\n",
        "  return(list(\n",
        "    \"semilla\" = semilla,\n",
        "    \"testing\" = dataset[fold == 2, .N],\n",
        "    \"testing_pos\" = dataset[fold == 2 & clase_ternaria == \"BAJA+2\", .N],\n",
        "    \"envios\" = dataset[fold == 2, sum(prediccion[, \"BAJA+2\"] > 0.025)],\n",
        "    \"aciertos\" = dataset[\n",
        "        fold == 2,\n",
        "        sum(prediccion[, \"BAJA+2\"] > 0.025 & clase_ternaria == \"BAJA+2\")\n",
        "    ],\n",
        "    \"ganancia_test\" = ganancia_test_normalizada\n",
        "  ))\n",
        "}\n"
      ],
      "metadata": {
        "id": "GroZSZoVBuZ5"
      },
      "execution_count": 15,
      "outputs": []
    },
    {
      "cell_type": "code",
      "source": [
        "# carpeta de trabajo\n",
        "setwd(\"/content/buckets/b1/exp\")\n",
        "experimento <- \"exp202\"\n",
        "dir.create(experimento, showWarnings=FALSE)\n",
        "setwd( paste0(\"/content/buckets/b1/exp/\", experimento ))"
      ],
      "metadata": {
        "id": "dJIBIX6kA2Wy"
      },
      "execution_count": 16,
      "outputs": []
    },
    {
      "cell_type": "code",
      "source": [
        "# lectura del dataset\n",
        "dataset <- fread(\"/content/datasets/dataset_pequeno.csv\")\n",
        "\n",
        "# trabajo solo con los datos con clase, es decir 202107\n",
        "dataset <- dataset[clase_ternaria != \"\"]"
      ],
      "metadata": {
        "id": "tKiACdU2A2Wz"
      },
      "execution_count": 17,
      "outputs": []
    },
    {
      "cell_type": "code",
      "source": [
        "\n",
        "# la funcion mcmapply  llama a la funcion ArbolEstimarGanancia\n",
        "#  tantas veces como valores tenga el vector  PARAM$semillas\n",
        "salidas <- mcmapply(ArbolEstimarGanancia,\n",
        "  PARAM$semillas, # paso el vector de semillas\n",
        "  MoreArgs = list(PARAM), # aqui paso el segundo parametro\n",
        "  SIMPLIFY = FALSE,\n",
        "  mc.cores = detectCores()\n",
        ")\n",
        "\n",
        "# muestro la lista de las salidas en testing\n",
        "#  para la particion realizada con cada semilla\n",
        "salidas\n"
      ],
      "metadata": {
        "id": "64OdfeyxCMDF"
      },
      "execution_count": 18,
      "outputs": []
    },
    {
      "cell_type": "code",
      "source": [
        "# paso la lista a vector\n",
        "tb_salida <- rbindlist(salidas)\n",
        "print( tb_salida)"
      ],
      "metadata": {
        "id": "tML9VmH2ECFK"
      },
      "execution_count": null,
      "outputs": []
    },
    {
      "cell_type": "code",
      "source": [
        "# finalmente calculo la media (promedio)  de las ganancias\n",
        "cat( \"ganancia promedio: \", tb_salida[, mean(ganancia_test)], \"\\n\" )"
      ],
      "metadata": {
        "id": "rbHXPfoVENQB"
      },
      "execution_count": null,
      "outputs": []
    },
    {
      "cell_type": "markdown",
      "source": [
        "### Acciones a realizar\n",
        "* Reportar la  *Ganancia Promedio* <br> en la planilla colaborativa hoja  **C2-5sem**\n",
        "* Se discutirá en clase la variabilidad de estos \"ganancia promedio de cinco semillas\""
      ],
      "metadata": {
        "id": "_3xVH6UKA2W6"
      }
    },
    {
      "cell_type": "markdown",
      "source": [
        "\n",
        "\n",
        "---\n",
        "\n"
      ],
      "metadata": {
        "id": "N29m1XGpA2W7"
      }
    },
    {
      "cell_type": "markdown",
      "source": [
        "# 3  Generando n semillas en forma automatica\n",
        "## Clase 02  Experimento 3"
      ],
      "metadata": {
        "id": "zS7WIJciFGc6"
      }
    },
    {
      "cell_type": "markdown",
      "source": [
        "## 3.1  Objetivos\n",
        "Mostrar la creación de nuevas semillas a partir de la librería Primes"
      ],
      "metadata": {
        "id": "VmiFDDDJFUEo"
      }
    },
    {
      "cell_type": "markdown",
      "source": [
        "3.2  Código\n",
        "\n",
        "Como generar muchas semillas a partir de una"
      ],
      "metadata": {
        "id": "Ehe3VfdfFbvg"
      }
    },
    {
      "cell_type": "code",
      "source": [
        "# instalo y cargo la libreria  primes\n",
        "if (!require(\"primes\")) install.packages(\"primes\")\n",
        "require(\"primes\")"
      ],
      "metadata": {
        "id": "X6_dE42yF2-t",
        "outputId": "297c5fe7-c98b-4c15-c8df-149f947b4b06",
        "colab": {
          "base_uri": "https://localhost:8080/"
        }
      },
      "execution_count": null,
      "outputs": [
        {
          "output_type": "stream",
          "name": "stderr",
          "text": [
            "Loading required package: primes\n",
            "\n",
            "Warning message in library(package, lib.loc = lib.loc, character.only = TRUE, logical.return = TRUE, :\n",
            "“there is no package called ‘primes’”\n",
            "Installing package into ‘/usr/local/lib/R/site-library’\n",
            "(as ‘lib’ is unspecified)\n",
            "\n",
            "Loading required package: primes\n",
            "\n"
          ]
        }
      ]
    },
    {
      "cell_type": "code",
      "source": [
        "# genero numeros primos\n",
        "primos <- generate_primes(min = 100000, max = 1000000)\n",
        "\n",
        "\n",
        "set.seed(245677) # inicializo con mi primer semilla\n",
        "\n",
        "# me quedo con por ejemplo 20 primos al azar\n",
        "semillas <- sample(primos, 20 )\n",
        "\n",
        "print( semillas )"
      ],
      "metadata": {
        "id": "yDU9RyV4FNhZ",
        "outputId": "715bdd4d-fb21-41de-ea61-035dbafe58a2",
        "colab": {
          "base_uri": "https://localhost:8080/"
        }
      },
      "execution_count": null,
      "outputs": [
        {
          "output_type": "stream",
          "name": "stdout",
          "text": [
            " [1] 394367 148073 570139 252761 417773 233159 127657 630701 476317 204101\n",
            "[11] 801973 616897 905581 240259 330217 852239 574963 641467 826093 228887\n"
          ]
        }
      ]
    },
    {
      "cell_type": "markdown",
      "source": [
        "\n",
        "\n",
        "---\n",
        "\n"
      ],
      "metadata": {
        "id": "eD_cO5VTGGea"
      }
    },
    {
      "cell_type": "code",
      "source": [],
      "metadata": {
        "id": "k-rgoA2ZFll4"
      },
      "execution_count": null,
      "outputs": []
    },
    {
      "cell_type": "markdown",
      "source": [
        "# 4  Medición  50-Monte Carlo Cross Validation\n",
        "## Clase 02  Experimento 4"
      ],
      "metadata": {
        "id": "cZi29THsGil_"
      }
    },
    {
      "cell_type": "markdown",
      "source": [
        "## 4.1  Objetivos\n",
        "Calcular la ganancia del modelo utilizando 50 semillas nuevas generadas a partir de mi semilla primigenia."
      ],
      "metadata": {
        "id": "qFNq6ntVGimN"
      }
    },
    {
      "cell_type": "markdown",
      "source": [
        "## 4.4 Codigo  50 Montecarlo"
      ],
      "metadata": {
        "id": "B6KtuhQCGimP"
      }
    },
    {
      "cell_type": "markdown",
      "source": [
        "Esta parte se debe correr con el runtime en lenguaje **R** Ir al menu, Runtime -> Change Runtime Tipe -> Runtime type -> R"
      ],
      "metadata": {
        "id": "LgGgjPQuGimP"
      }
    },
    {
      "cell_type": "markdown",
      "source": [
        "Este punto demora en correr 60 minutos en Google Colab, con lo cual para continuar con el punto siguiente deberá abrir un nuevo Colab"
      ],
      "metadata": {
        "id": "E82ChuO25OYx"
      }
    },
    {
      "cell_type": "markdown",
      "source": [
        "limpio el ambiente de R"
      ],
      "metadata": {
        "id": "a6AxqLwOGimQ"
      }
    },
    {
      "cell_type": "code",
      "source": [
        "# limpio la memoria\n",
        "rm(list=ls(all.names=TRUE)) # remove all objects\n",
        "gc(full=TRUE, verbose=FALSE) # garbage collection"
      ],
      "metadata": {
        "id": "797Ad0_QGimQ",
        "outputId": "5564a679-a582-4962-c06b-ee208d0ccfde",
        "colab": {
          "base_uri": "https://localhost:8080/",
          "height": 129
        }
      },
      "execution_count": null,
      "outputs": [
        {
          "output_type": "display_data",
          "data": {
            "text/html": [
              "<table class=\"dataframe\">\n",
              "<caption>A matrix: 2 × 6 of type dbl</caption>\n",
              "<thead>\n",
              "\t<tr><th></th><th scope=col>used</th><th scope=col>(Mb)</th><th scope=col>gc trigger</th><th scope=col>(Mb)</th><th scope=col>max used</th><th scope=col>(Mb)</th></tr>\n",
              "</thead>\n",
              "<tbody>\n",
              "\t<tr><th scope=row>Ncells</th><td> 883248</td><td>47.2</td><td> 1454477</td><td> 77.7</td><td>  1454477</td><td> 77.7</td></tr>\n",
              "\t<tr><th scope=row>Vcells</th><td>1728552</td><td>13.2</td><td>54417264</td><td>415.2</td><td>104254326</td><td>795.4</td></tr>\n",
              "</tbody>\n",
              "</table>\n"
            ],
            "text/markdown": "\nA matrix: 2 × 6 of type dbl\n\n| <!--/--> | used | (Mb) | gc trigger | (Mb) | max used | (Mb) |\n|---|---|---|---|---|---|---|\n| Ncells |  883248 | 47.2 |  1454477 |  77.7 |   1454477 |  77.7 |\n| Vcells | 1728552 | 13.2 | 54417264 | 415.2 | 104254326 | 795.4 |\n\n",
            "text/latex": "A matrix: 2 × 6 of type dbl\n\\begin{tabular}{r|llllll}\n  & used & (Mb) & gc trigger & (Mb) & max used & (Mb)\\\\\n\\hline\n\tNcells &  883248 & 47.2 &  1454477 &  77.7 &   1454477 &  77.7\\\\\n\tVcells & 1728552 & 13.2 & 54417264 & 415.2 & 104254326 & 795.4\\\\\n\\end{tabular}\n",
            "text/plain": [
              "       used    (Mb) gc trigger (Mb)  max used  (Mb) \n",
              "Ncells  883248 47.2  1454477    77.7   1454477  77.7\n",
              "Vcells 1728552 13.2 54417264   415.2 104254326 795.4"
            ]
          },
          "metadata": {}
        }
      ]
    },
    {
      "cell_type": "markdown",
      "source": [
        "* Instalacion de la libreria  rpart.plot  para dibujar el arbol\n",
        "* invocacion de las librerias  **data.table** y  **rpart**"
      ],
      "metadata": {
        "id": "v0CepvbjGimQ"
      }
    },
    {
      "cell_type": "code",
      "source": [
        "# cargo las librerias que necesito\n",
        "require(\"data.table\")\n",
        "require(\"rpart\")\n",
        "require(\"parallel\")\n",
        "\n",
        "if (!require(\"primes\")) install.packages(\"primes\")\n",
        "require(\"primes\")"
      ],
      "metadata": {
        "id": "CRkZ1V2_GimR"
      },
      "execution_count": null,
      "outputs": []
    },
    {
      "cell_type": "markdown",
      "source": [
        "###  Accion a Realizar\n",
        "PARAM$semilla_primigenia  debe reemplazarse por SU primer semilla"
      ],
      "metadata": {
        "id": "PZKJG-nSGimR"
      }
    },
    {
      "cell_type": "code",
      "source": [
        "PARAM <- list()\n",
        "PARAM$semilla_primigenia <- 245677\n",
        "PARAM$qsemillas <- 50\n",
        "PARAM$training_pct <- 70L  # entre  1L y 99L\n",
        "\n",
        "PARAM$rpart <- list (\n",
        "  \"cp\" = -1, # complejidad minima\n",
        "  \"minsplit\" = 170, # minima cantidad de regs en un nodo para hacer el split\n",
        "  \"minbucket\" = 70, # minima cantidad de regs en una hoja\n",
        "  \"maxdepth\" = 7 # profundidad máxima del arbol\n",
        ")\n"
      ],
      "metadata": {
        "id": "4kbkA-2HGimR"
      },
      "execution_count": null,
      "outputs": []
    },
    {
      "cell_type": "code",
      "source": [
        "# particionar agrega una columna llamada fold a un dataset\n",
        "#  que consiste en una particion estratificada segun agrupa\n",
        "\n",
        "# particionar( data=dataset, division=c(70,30),\n",
        "#  agrupa=clase_ternaria, seed=semilla)   crea una particion 70, 30\n",
        "\n",
        "particionar <- function(\n",
        "    data, division, agrupa = \"\",\n",
        "    campo = \"fold\", start = 1, seed = NA) {\n",
        "  if (!is.na(seed)) set.seed(seed)\n",
        "\n",
        "  bloque <- unlist(mapply(function(x, y) {\n",
        "    rep(y, x)\n",
        "  }, division, seq(from = start, length.out = length(division))))\n",
        "\n",
        "  data[, (campo) := sample(rep(bloque, ceiling(.N / length(bloque))))[1:.N],\n",
        "    by = agrupa\n",
        "  ]\n",
        "}\n"
      ],
      "metadata": {
        "id": "HME0qUeOGimS"
      },
      "execution_count": null,
      "outputs": []
    },
    {
      "cell_type": "code",
      "source": [
        "\n",
        "ArbolEstimarGanancia <- function(semilla, param_basicos) {\n",
        "  # particiono estratificadamente el dataset\n",
        "  particionar(dataset,\n",
        "    division = c(param_basicos$training_pct, 100L -param_basicos$training_pct),\n",
        "    agrupa = \"clase_ternaria\",\n",
        "    seed = semilla # aqui se usa SU semilla\n",
        "  )\n",
        "\n",
        "  # genero el modelo\n",
        "  # predecir clase_ternaria a partir del resto\n",
        "  modelo <- rpart(\"clase_ternaria ~ .\",\n",
        "    data = dataset[fold == 1], # fold==1  es training,  el 70% de los datos\n",
        "    xval = 0,\n",
        "    control = param_basicos$rpart\n",
        "  ) # aqui van los parametros del arbol\n",
        "\n",
        "  # aplico el modelo a los datos de testing\n",
        "  prediccion <- predict(modelo, # el modelo que genere recien\n",
        "    dataset[fold == 2], # fold==2  es testing, el 30% de los datos\n",
        "    type = \"prob\"\n",
        "  ) # type= \"prob\"  es que devuelva la probabilidad\n",
        "\n",
        "  # prediccion es una matriz con TRES columnas,\n",
        "  #  llamadas \"BAJA+1\", \"BAJA+2\"  y \"CONTINUA\"\n",
        "  # cada columna es el vector de probabilidades\n",
        "\n",
        "\n",
        "  # calculo la ganancia en testing  qu es fold==2\n",
        "  ganancia_test <- dataset[\n",
        "    fold == 2,\n",
        "    sum(ifelse(prediccion[, \"BAJA+2\"] > 0.025,\n",
        "      ifelse(clase_ternaria == \"BAJA+2\", 117000, -3000),\n",
        "      0\n",
        "    ))\n",
        "  ]\n",
        "\n",
        "  # escalo la ganancia como si fuera todo el dataset\n",
        "  ganancia_test_normalizada <- ganancia_test / (( 100 - PARAM$training_pct ) / 100 )\n",
        "\n",
        "  return(list(\n",
        "    \"semilla\" = semilla,\n",
        "    \"testing\" = dataset[fold == 2, .N],\n",
        "    \"testing_pos\" = dataset[fold == 2 & clase_ternaria == \"BAJA+2\", .N],\n",
        "    \"envios\" = dataset[fold == 2, sum(prediccion[, \"BAJA+2\"] > 0.025)],\n",
        "    \"aciertos\" = dataset[\n",
        "        fold == 2,\n",
        "        sum(prediccion[, \"BAJA+2\"] > 0.025 & clase_ternaria == \"BAJA+2\")\n",
        "    ],\n",
        "    \"ganancia_test\" = ganancia_test_normalizada\n",
        "  ))\n",
        "}\n"
      ],
      "metadata": {
        "id": "ro9Ufoi-GimS"
      },
      "execution_count": null,
      "outputs": []
    },
    {
      "cell_type": "code",
      "source": [
        "# carpeta de trabajo\n",
        "setwd(\"/content/buckets/b1/exp\")\n",
        "experimento <- \"exp204\"\n",
        "dir.create(experimento, showWarnings=FALSE)\n",
        "setwd( paste0(\"/content/buckets/b1/exp/\", experimento ))"
      ],
      "metadata": {
        "id": "gz7LgltwGimT"
      },
      "execution_count": null,
      "outputs": []
    },
    {
      "cell_type": "code",
      "source": [
        "# lectura del dataset\n",
        "dataset <- fread(\"/content/datasets/dataset_pequeno.csv\")\n",
        "\n",
        "# trabajo solo con los datos con clase, es decir 202107\n",
        "dataset <- dataset[clase_ternaria != \"\"]"
      ],
      "metadata": {
        "id": "xRXKHeLeGimT"
      },
      "execution_count": null,
      "outputs": []
    },
    {
      "cell_type": "code",
      "source": [
        "# genero numeros primos\n",
        "primos <- generate_primes(min = 100000, max = 1000000)\n",
        "set.seed(PARAM$semilla_primigenia) # inicializo\n",
        "\n",
        "# me quedo con PARAM$qsemillas   semillas\n",
        "PARAM$semillas <- sample(primos, PARAM$qsemillas )"
      ],
      "metadata": {
        "id": "MdpZ10qiHSZy"
      },
      "execution_count": null,
      "outputs": []
    },
    {
      "cell_type": "code",
      "source": [
        "\n",
        "# la funcion mcmapply  llama a la funcion ArbolEstimarGanancia\n",
        "#  tantas veces como valores tenga el vector  PARAM$semillas\n",
        "salidas <- mcmapply(ArbolEstimarGanancia,\n",
        "  PARAM$semillas, # paso el vector de semillas\n",
        "  MoreArgs = list(PARAM), # aqui paso el segundo parametro\n",
        "  SIMPLIFY = FALSE,\n",
        "  mc.cores = detectCores()\n",
        ")\n",
        "\n",
        "# muestro la lista de las salidas en testing\n",
        "#  para la particion realizada con cada semilla\n",
        "salidas\n"
      ],
      "metadata": {
        "id": "r-YaawpgGimU",
        "outputId": "fc4a392e-cb7b-41ed-b8ee-51933471a286",
        "colab": {
          "base_uri": "https://localhost:8080/",
          "height": 1000
        }
      },
      "execution_count": null,
      "outputs": [
        {
          "output_type": "display_data",
          "data": {
            "text/html": [
              "<ol>\n",
              "\t<li><dl>\n",
              "\t<dt>$semilla</dt>\n",
              "\t\t<dd>394367</dd>\n",
              "\t<dt>$testing</dt>\n",
              "\t\t<dd>49368</dd>\n",
              "\t<dt>$testing_pos</dt>\n",
              "\t\t<dd>375</dd>\n",
              "\t<dt>$envios</dt>\n",
              "\t\t<dd>3383</dd>\n",
              "\t<dt>$aciertos</dt>\n",
              "\t\t<dd>204</dd>\n",
              "\t<dt>$ganancia_test</dt>\n",
              "\t\t<dd>47770000</dd>\n",
              "</dl>\n",
              "</li>\n",
              "\t<li><dl>\n",
              "\t<dt>$semilla</dt>\n",
              "\t\t<dd>148073</dd>\n",
              "\t<dt>$testing</dt>\n",
              "\t\t<dd>49376</dd>\n",
              "\t<dt>$testing_pos</dt>\n",
              "\t\t<dd>369</dd>\n",
              "\t<dt>$envios</dt>\n",
              "\t\t<dd>3264</dd>\n",
              "\t<dt>$aciertos</dt>\n",
              "\t\t<dd>209</dd>\n",
              "\t<dt>$ganancia_test</dt>\n",
              "\t\t<dd>50960000</dd>\n",
              "</dl>\n",
              "</li>\n",
              "\t<li><dl>\n",
              "\t<dt>$semilla</dt>\n",
              "\t\t<dd>570139</dd>\n",
              "\t<dt>$testing</dt>\n",
              "\t\t<dd>49371</dd>\n",
              "\t<dt>$testing_pos</dt>\n",
              "\t\t<dd>375</dd>\n",
              "\t<dt>$envios</dt>\n",
              "\t\t<dd>3196</dd>\n",
              "\t<dt>$aciertos</dt>\n",
              "\t\t<dd>204</dd>\n",
              "\t<dt>$ganancia_test</dt>\n",
              "\t\t<dd>49640000</dd>\n",
              "</dl>\n",
              "</li>\n",
              "\t<li><dl>\n",
              "\t<dt>$semilla</dt>\n",
              "\t\t<dd>252761</dd>\n",
              "\t<dt>$testing</dt>\n",
              "\t\t<dd>49386</dd>\n",
              "\t<dt>$testing_pos</dt>\n",
              "\t\t<dd>377</dd>\n",
              "\t<dt>$envios</dt>\n",
              "\t\t<dd>3784</dd>\n",
              "\t<dt>$aciertos</dt>\n",
              "\t\t<dd>219</dd>\n",
              "\t<dt>$ganancia_test</dt>\n",
              "\t\t<dd>49760000</dd>\n",
              "</dl>\n",
              "</li>\n",
              "\t<li><dl>\n",
              "\t<dt>$semilla</dt>\n",
              "\t\t<dd>417773</dd>\n",
              "\t<dt>$testing</dt>\n",
              "\t\t<dd>49371</dd>\n",
              "\t<dt>$testing_pos</dt>\n",
              "\t\t<dd>368</dd>\n",
              "\t<dt>$envios</dt>\n",
              "\t\t<dd>3163</dd>\n",
              "\t<dt>$aciertos</dt>\n",
              "\t\t<dd>202</dd>\n",
              "\t<dt>$ganancia_test</dt>\n",
              "\t\t<dd>49170000</dd>\n",
              "</dl>\n",
              "</li>\n",
              "\t<li><dl>\n",
              "\t<dt>$semilla</dt>\n",
              "\t\t<dd>233159</dd>\n",
              "\t<dt>$testing</dt>\n",
              "\t\t<dd>49379</dd>\n",
              "\t<dt>$testing_pos</dt>\n",
              "\t\t<dd>378</dd>\n",
              "\t<dt>$envios</dt>\n",
              "\t\t<dd>3612</dd>\n",
              "\t<dt>$aciertos</dt>\n",
              "\t\t<dd>204</dd>\n",
              "\t<dt>$ganancia_test</dt>\n",
              "\t\t<dd>45480000</dd>\n",
              "</dl>\n",
              "</li>\n",
              "\t<li><dl>\n",
              "\t<dt>$semilla</dt>\n",
              "\t\t<dd>127657</dd>\n",
              "\t<dt>$testing</dt>\n",
              "\t\t<dd>49383</dd>\n",
              "\t<dt>$testing_pos</dt>\n",
              "\t\t<dd>375</dd>\n",
              "\t<dt>$envios</dt>\n",
              "\t\t<dd>3126</dd>\n",
              "\t<dt>$aciertos</dt>\n",
              "\t\t<dd>200</dd>\n",
              "\t<dt>$ganancia_test</dt>\n",
              "\t\t<dd>48740000</dd>\n",
              "</dl>\n",
              "</li>\n",
              "\t<li><dl>\n",
              "\t<dt>$semilla</dt>\n",
              "\t\t<dd>630701</dd>\n",
              "\t<dt>$testing</dt>\n",
              "\t\t<dd>49374</dd>\n",
              "\t<dt>$testing_pos</dt>\n",
              "\t\t<dd>372</dd>\n",
              "\t<dt>$envios</dt>\n",
              "\t\t<dd>3149</dd>\n",
              "\t<dt>$aciertos</dt>\n",
              "\t\t<dd>193</dd>\n",
              "\t<dt>$ganancia_test</dt>\n",
              "\t\t<dd>45710000</dd>\n",
              "</dl>\n",
              "</li>\n",
              "\t<li><dl>\n",
              "\t<dt>$semilla</dt>\n",
              "\t\t<dd>476317</dd>\n",
              "\t<dt>$testing</dt>\n",
              "\t\t<dd>49383</dd>\n",
              "\t<dt>$testing_pos</dt>\n",
              "\t\t<dd>378</dd>\n",
              "\t<dt>$envios</dt>\n",
              "\t\t<dd>3007</dd>\n",
              "\t<dt>$aciertos</dt>\n",
              "\t\t<dd>193</dd>\n",
              "\t<dt>$ganancia_test</dt>\n",
              "\t\t<dd>47130000</dd>\n",
              "</dl>\n",
              "</li>\n",
              "\t<li><dl>\n",
              "\t<dt>$semilla</dt>\n",
              "\t\t<dd>204101</dd>\n",
              "\t<dt>$testing</dt>\n",
              "\t\t<dd>49381</dd>\n",
              "\t<dt>$testing_pos</dt>\n",
              "\t\t<dd>379</dd>\n",
              "\t<dt>$envios</dt>\n",
              "\t\t<dd>4165</dd>\n",
              "\t<dt>$aciertos</dt>\n",
              "\t\t<dd>228</dd>\n",
              "\t<dt>$ganancia_test</dt>\n",
              "\t\t<dd>49550000</dd>\n",
              "</dl>\n",
              "</li>\n",
              "\t<li><dl>\n",
              "\t<dt>$semilla</dt>\n",
              "\t\t<dd>801973</dd>\n",
              "\t<dt>$testing</dt>\n",
              "\t\t<dd>49366</dd>\n",
              "\t<dt>$testing_pos</dt>\n",
              "\t\t<dd>372</dd>\n",
              "\t<dt>$envios</dt>\n",
              "\t\t<dd>4011</dd>\n",
              "\t<dt>$aciertos</dt>\n",
              "\t\t<dd>240</dd>\n",
              "\t<dt>$ganancia_test</dt>\n",
              "\t\t<dd>55890000</dd>\n",
              "</dl>\n",
              "</li>\n",
              "\t<li><dl>\n",
              "\t<dt>$semilla</dt>\n",
              "\t\t<dd>616897</dd>\n",
              "\t<dt>$testing</dt>\n",
              "\t\t<dd>49378</dd>\n",
              "\t<dt>$testing_pos</dt>\n",
              "\t\t<dd>366</dd>\n",
              "\t<dt>$envios</dt>\n",
              "\t\t<dd>2842</dd>\n",
              "\t<dt>$aciertos</dt>\n",
              "\t\t<dd>177</dd>\n",
              "\t<dt>$ganancia_test</dt>\n",
              "\t\t<dd>42380000</dd>\n",
              "</dl>\n",
              "</li>\n",
              "\t<li><dl>\n",
              "\t<dt>$semilla</dt>\n",
              "\t\t<dd>905581</dd>\n",
              "\t<dt>$testing</dt>\n",
              "\t\t<dd>49382</dd>\n",
              "\t<dt>$testing_pos</dt>\n",
              "\t\t<dd>367</dd>\n",
              "\t<dt>$envios</dt>\n",
              "\t\t<dd>3282</dd>\n",
              "\t<dt>$aciertos</dt>\n",
              "\t\t<dd>199</dd>\n",
              "\t<dt>$ganancia_test</dt>\n",
              "\t\t<dd>46780000</dd>\n",
              "</dl>\n",
              "</li>\n",
              "\t<li><dl>\n",
              "\t<dt>$semilla</dt>\n",
              "\t\t<dd>240259</dd>\n",
              "\t<dt>$testing</dt>\n",
              "\t\t<dd>49387</dd>\n",
              "\t<dt>$testing_pos</dt>\n",
              "\t\t<dd>377</dd>\n",
              "\t<dt>$envios</dt>\n",
              "\t\t<dd>3514</dd>\n",
              "\t<dt>$aciertos</dt>\n",
              "\t\t<dd>212</dd>\n",
              "\t<dt>$ganancia_test</dt>\n",
              "\t\t<dd>49660000</dd>\n",
              "</dl>\n",
              "</li>\n",
              "\t<li><dl>\n",
              "\t<dt>$semilla</dt>\n",
              "\t\t<dd>330217</dd>\n",
              "\t<dt>$testing</dt>\n",
              "\t\t<dd>49365</dd>\n",
              "\t<dt>$testing_pos</dt>\n",
              "\t\t<dd>373</dd>\n",
              "\t<dt>$envios</dt>\n",
              "\t\t<dd>3410</dd>\n",
              "\t<dt>$aciertos</dt>\n",
              "\t\t<dd>214</dd>\n",
              "\t<dt>$ganancia_test</dt>\n",
              "\t\t<dd>51500000</dd>\n",
              "</dl>\n",
              "</li>\n",
              "\t<li><dl>\n",
              "\t<dt>$semilla</dt>\n",
              "\t\t<dd>852239</dd>\n",
              "\t<dt>$testing</dt>\n",
              "\t\t<dd>49381</dd>\n",
              "\t<dt>$testing_pos</dt>\n",
              "\t\t<dd>375</dd>\n",
              "\t<dt>$envios</dt>\n",
              "\t\t<dd>3546</dd>\n",
              "\t<dt>$aciertos</dt>\n",
              "\t\t<dd>207</dd>\n",
              "\t<dt>$ganancia_test</dt>\n",
              "\t\t<dd>47340000</dd>\n",
              "</dl>\n",
              "</li>\n",
              "\t<li><dl>\n",
              "\t<dt>$semilla</dt>\n",
              "\t\t<dd>574963</dd>\n",
              "\t<dt>$testing</dt>\n",
              "\t\t<dd>49375</dd>\n",
              "\t<dt>$testing_pos</dt>\n",
              "\t\t<dd>371</dd>\n",
              "\t<dt>$envios</dt>\n",
              "\t\t<dd>2956</dd>\n",
              "\t<dt>$aciertos</dt>\n",
              "\t\t<dd>200</dd>\n",
              "\t<dt>$ganancia_test</dt>\n",
              "\t\t<dd>50440000</dd>\n",
              "</dl>\n",
              "</li>\n",
              "\t<li><dl>\n",
              "\t<dt>$semilla</dt>\n",
              "\t\t<dd>641467</dd>\n",
              "\t<dt>$testing</dt>\n",
              "\t\t<dd>49375</dd>\n",
              "\t<dt>$testing_pos</dt>\n",
              "\t\t<dd>371</dd>\n",
              "\t<dt>$envios</dt>\n",
              "\t\t<dd>3414</dd>\n",
              "\t<dt>$aciertos</dt>\n",
              "\t\t<dd>219</dd>\n",
              "\t<dt>$ganancia_test</dt>\n",
              "\t\t<dd>53460000</dd>\n",
              "</dl>\n",
              "</li>\n",
              "\t<li><dl>\n",
              "\t<dt>$semilla</dt>\n",
              "\t\t<dd>826093</dd>\n",
              "\t<dt>$testing</dt>\n",
              "\t\t<dd>49381</dd>\n",
              "\t<dt>$testing_pos</dt>\n",
              "\t\t<dd>374</dd>\n",
              "\t<dt>$envios</dt>\n",
              "\t\t<dd>3178</dd>\n",
              "\t<dt>$aciertos</dt>\n",
              "\t\t<dd>206</dd>\n",
              "\t<dt>$ganancia_test</dt>\n",
              "\t\t<dd>50620000</dd>\n",
              "</dl>\n",
              "</li>\n",
              "\t<li><dl>\n",
              "\t<dt>$semilla</dt>\n",
              "\t\t<dd>228887</dd>\n",
              "\t<dt>$testing</dt>\n",
              "\t\t<dd>49369</dd>\n",
              "\t<dt>$testing_pos</dt>\n",
              "\t\t<dd>372</dd>\n",
              "\t<dt>$envios</dt>\n",
              "\t\t<dd>2550</dd>\n",
              "\t<dt>$aciertos</dt>\n",
              "\t\t<dd>167</dd>\n",
              "\t<dt>$ganancia_test</dt>\n",
              "\t\t<dd>41300000</dd>\n",
              "</dl>\n",
              "</li>\n",
              "\t<li><dl>\n",
              "\t<dt>$semilla</dt>\n",
              "\t\t<dd>589213</dd>\n",
              "\t<dt>$testing</dt>\n",
              "\t\t<dd>49383</dd>\n",
              "\t<dt>$testing_pos</dt>\n",
              "\t\t<dd>374</dd>\n",
              "\t<dt>$envios</dt>\n",
              "\t\t<dd>3053</dd>\n",
              "\t<dt>$aciertos</dt>\n",
              "\t\t<dd>199</dd>\n",
              "\t<dt>$ganancia_test</dt>\n",
              "\t\t<dd>49070000</dd>\n",
              "</dl>\n",
              "</li>\n",
              "\t<li><dl>\n",
              "\t<dt>$semilla</dt>\n",
              "\t\t<dd>554747</dd>\n",
              "\t<dt>$testing</dt>\n",
              "\t\t<dd>49374</dd>\n",
              "\t<dt>$testing_pos</dt>\n",
              "\t\t<dd>377</dd>\n",
              "\t<dt>$envios</dt>\n",
              "\t\t<dd>3704</dd>\n",
              "\t<dt>$aciertos</dt>\n",
              "\t\t<dd>214</dd>\n",
              "\t<dt>$ganancia_test</dt>\n",
              "\t\t<dd>48560000</dd>\n",
              "</dl>\n",
              "</li>\n",
              "\t<li><dl>\n",
              "\t<dt>$semilla</dt>\n",
              "\t\t<dd>443453</dd>\n",
              "\t<dt>$testing</dt>\n",
              "\t\t<dd>49382</dd>\n",
              "\t<dt>$testing_pos</dt>\n",
              "\t\t<dd>369</dd>\n",
              "\t<dt>$envios</dt>\n",
              "\t\t<dd>3219</dd>\n",
              "\t<dt>$aciertos</dt>\n",
              "\t\t<dd>195</dd>\n",
              "\t<dt>$ganancia_test</dt>\n",
              "\t\t<dd>45810000</dd>\n",
              "</dl>\n",
              "</li>\n",
              "\t<li><dl>\n",
              "\t<dt>$semilla</dt>\n",
              "\t\t<dd>410833</dd>\n",
              "\t<dt>$testing</dt>\n",
              "\t\t<dd>49374</dd>\n",
              "\t<dt>$testing_pos</dt>\n",
              "\t\t<dd>369</dd>\n",
              "\t<dt>$envios</dt>\n",
              "\t\t<dd>3529</dd>\n",
              "\t<dt>$aciertos</dt>\n",
              "\t\t<dd>195</dd>\n",
              "\t<dt>$ganancia_test</dt>\n",
              "\t\t<dd>42710000</dd>\n",
              "</dl>\n",
              "</li>\n",
              "\t<li><dl>\n",
              "\t<dt>$semilla</dt>\n",
              "\t\t<dd>159931</dd>\n",
              "\t<dt>$testing</dt>\n",
              "\t\t<dd>49384</dd>\n",
              "\t<dt>$testing_pos</dt>\n",
              "\t\t<dd>377</dd>\n",
              "\t<dt>$envios</dt>\n",
              "\t\t<dd>3268</dd>\n",
              "\t<dt>$aciertos</dt>\n",
              "\t\t<dd>206</dd>\n",
              "\t<dt>$ganancia_test</dt>\n",
              "\t\t<dd>49720000</dd>\n",
              "</dl>\n",
              "</li>\n",
              "\t<li><dl>\n",
              "\t<dt>$semilla</dt>\n",
              "\t\t<dd>234461</dd>\n",
              "\t<dt>$testing</dt>\n",
              "\t\t<dd>49379</dd>\n",
              "\t<dt>$testing_pos</dt>\n",
              "\t\t<dd>374</dd>\n",
              "\t<dt>$envios</dt>\n",
              "\t\t<dd>4024</dd>\n",
              "\t<dt>$aciertos</dt>\n",
              "\t\t<dd>222</dd>\n",
              "\t<dt>$ganancia_test</dt>\n",
              "\t\t<dd>48560000</dd>\n",
              "</dl>\n",
              "</li>\n",
              "\t<li><dl>\n",
              "\t<dt>$semilla</dt>\n",
              "\t\t<dd>856571</dd>\n",
              "\t<dt>$testing</dt>\n",
              "\t\t<dd>49371</dd>\n",
              "\t<dt>$testing_pos</dt>\n",
              "\t\t<dd>369</dd>\n",
              "\t<dt>$envios</dt>\n",
              "\t\t<dd>3945</dd>\n",
              "\t<dt>$aciertos</dt>\n",
              "\t\t<dd>215</dd>\n",
              "\t<dt>$ganancia_test</dt>\n",
              "\t\t<dd>46550000</dd>\n",
              "</dl>\n",
              "</li>\n",
              "\t<li><dl>\n",
              "\t<dt>$semilla</dt>\n",
              "\t\t<dd>144289</dd>\n",
              "\t<dt>$testing</dt>\n",
              "\t\t<dd>49380</dd>\n",
              "\t<dt>$testing_pos</dt>\n",
              "\t\t<dd>373</dd>\n",
              "\t<dt>$envios</dt>\n",
              "\t\t<dd>3304</dd>\n",
              "\t<dt>$aciertos</dt>\n",
              "\t\t<dd>201</dd>\n",
              "\t<dt>$ganancia_test</dt>\n",
              "\t\t<dd>47360000</dd>\n",
              "</dl>\n",
              "</li>\n",
              "\t<li><dl>\n",
              "\t<dt>$semilla</dt>\n",
              "\t\t<dd>114277</dd>\n",
              "\t<dt>$testing</dt>\n",
              "\t\t<dd>49386</dd>\n",
              "\t<dt>$testing_pos</dt>\n",
              "\t\t<dd>374</dd>\n",
              "\t<dt>$envios</dt>\n",
              "\t\t<dd>3125</dd>\n",
              "\t<dt>$aciertos</dt>\n",
              "\t\t<dd>202</dd>\n",
              "\t<dt>$ganancia_test</dt>\n",
              "\t\t<dd>49550000</dd>\n",
              "</dl>\n",
              "</li>\n",
              "\t<li><dl>\n",
              "\t<dt>$semilla</dt>\n",
              "\t\t<dd>414763</dd>\n",
              "\t<dt>$testing</dt>\n",
              "\t\t<dd>49372</dd>\n",
              "\t<dt>$testing_pos</dt>\n",
              "\t\t<dd>372</dd>\n",
              "\t<dt>$envios</dt>\n",
              "\t\t<dd>3561</dd>\n",
              "\t<dt>$aciertos</dt>\n",
              "\t\t<dd>210</dd>\n",
              "\t<dt>$ganancia_test</dt>\n",
              "\t\t<dd>48390000</dd>\n",
              "</dl>\n",
              "</li>\n",
              "\t<li><dl>\n",
              "\t<dt>$semilla</dt>\n",
              "\t\t<dd>704189</dd>\n",
              "\t<dt>$testing</dt>\n",
              "\t\t<dd>49384</dd>\n",
              "\t<dt>$testing_pos</dt>\n",
              "\t\t<dd>379</dd>\n",
              "\t<dt>$envios</dt>\n",
              "\t\t<dd>2674</dd>\n",
              "\t<dt>$aciertos</dt>\n",
              "\t\t<dd>195</dd>\n",
              "\t<dt>$ganancia_test</dt>\n",
              "\t\t<dd>51260000</dd>\n",
              "</dl>\n",
              "</li>\n",
              "\t<li><dl>\n",
              "\t<dt>$semilla</dt>\n",
              "\t\t<dd>774703</dd>\n",
              "\t<dt>$testing</dt>\n",
              "\t\t<dd>49375</dd>\n",
              "\t<dt>$testing_pos</dt>\n",
              "\t\t<dd>374</dd>\n",
              "\t<dt>$envios</dt>\n",
              "\t\t<dd>3446</dd>\n",
              "\t<dt>$aciertos</dt>\n",
              "\t\t<dd>197</dd>\n",
              "\t<dt>$ganancia_test</dt>\n",
              "\t\t<dd>44340000</dd>\n",
              "</dl>\n",
              "</li>\n",
              "\t<li><dl>\n",
              "\t<dt>$semilla</dt>\n",
              "\t\t<dd>712183</dd>\n",
              "\t<dt>$testing</dt>\n",
              "\t\t<dd>49379</dd>\n",
              "\t<dt>$testing_pos</dt>\n",
              "\t\t<dd>377</dd>\n",
              "\t<dt>$envios</dt>\n",
              "\t\t<dd>4121</dd>\n",
              "\t<dt>$aciertos</dt>\n",
              "\t\t<dd>232</dd>\n",
              "\t<dt>$ganancia_test</dt>\n",
              "\t\t<dd>51590000</dd>\n",
              "</dl>\n",
              "</li>\n",
              "\t<li><dl>\n",
              "\t<dt>$semilla</dt>\n",
              "\t\t<dd>842473</dd>\n",
              "\t<dt>$testing</dt>\n",
              "\t\t<dd>49380</dd>\n",
              "\t<dt>$testing_pos</dt>\n",
              "\t\t<dd>374</dd>\n",
              "\t<dt>$envios</dt>\n",
              "\t\t<dd>3267</dd>\n",
              "\t<dt>$aciertos</dt>\n",
              "\t\t<dd>209</dd>\n",
              "\t<dt>$ganancia_test</dt>\n",
              "\t\t<dd>50930000</dd>\n",
              "</dl>\n",
              "</li>\n",
              "\t<li><dl>\n",
              "\t<dt>$semilla</dt>\n",
              "\t\t<dd>902119</dd>\n",
              "\t<dt>$testing</dt>\n",
              "\t\t<dd>49377</dd>\n",
              "\t<dt>$testing_pos</dt>\n",
              "\t\t<dd>373</dd>\n",
              "\t<dt>$envios</dt>\n",
              "\t\t<dd>3237</dd>\n",
              "\t<dt>$aciertos</dt>\n",
              "\t\t<dd>204</dd>\n",
              "\t<dt>$ganancia_test</dt>\n",
              "\t\t<dd>49230000</dd>\n",
              "</dl>\n",
              "</li>\n",
              "\t<li><dl>\n",
              "\t<dt>$semilla</dt>\n",
              "\t\t<dd>986143</dd>\n",
              "\t<dt>$testing</dt>\n",
              "\t\t<dd>49380</dd>\n",
              "\t<dt>$testing_pos</dt>\n",
              "\t\t<dd>375</dd>\n",
              "\t<dt>$envios</dt>\n",
              "\t\t<dd>3310</dd>\n",
              "\t<dt>$aciertos</dt>\n",
              "\t\t<dd>212</dd>\n",
              "\t<dt>$ganancia_test</dt>\n",
              "\t\t<dd>51700000</dd>\n",
              "</dl>\n",
              "</li>\n",
              "\t<li><dl>\n",
              "\t<dt>$semilla</dt>\n",
              "\t\t<dd>354271</dd>\n",
              "\t<dt>$testing</dt>\n",
              "\t\t<dd>49384</dd>\n",
              "\t<dt>$testing_pos</dt>\n",
              "\t\t<dd>380</dd>\n",
              "\t<dt>$envios</dt>\n",
              "\t\t<dd>2521</dd>\n",
              "\t<dt>$aciertos</dt>\n",
              "\t\t<dd>169</dd>\n",
              "\t<dt>$ganancia_test</dt>\n",
              "\t\t<dd>42390000</dd>\n",
              "</dl>\n",
              "</li>\n",
              "\t<li><dl>\n",
              "\t<dt>$semilla</dt>\n",
              "\t\t<dd>711959</dd>\n",
              "\t<dt>$testing</dt>\n",
              "\t\t<dd>49382</dd>\n",
              "\t<dt>$testing_pos</dt>\n",
              "\t\t<dd>375</dd>\n",
              "\t<dt>$envios</dt>\n",
              "\t\t<dd>2502</dd>\n",
              "\t<dt>$aciertos</dt>\n",
              "\t\t<dd>165</dd>\n",
              "\t<dt>$ganancia_test</dt>\n",
              "\t\t<dd>40980000</dd>\n",
              "</dl>\n",
              "</li>\n",
              "\t<li><dl>\n",
              "\t<dt>$semilla</dt>\n",
              "\t\t<dd>208457</dd>\n",
              "\t<dt>$testing</dt>\n",
              "\t\t<dd>49386</dd>\n",
              "\t<dt>$testing_pos</dt>\n",
              "\t\t<dd>373</dd>\n",
              "\t<dt>$envios</dt>\n",
              "\t\t<dd>3614</dd>\n",
              "\t<dt>$aciertos</dt>\n",
              "\t\t<dd>210</dd>\n",
              "\t<dt>$ganancia_test</dt>\n",
              "\t\t<dd>47860000</dd>\n",
              "</dl>\n",
              "</li>\n",
              "\t<li><dl>\n",
              "\t<dt>$semilla</dt>\n",
              "\t\t<dd>909061</dd>\n",
              "\t<dt>$testing</dt>\n",
              "\t\t<dd>49374</dd>\n",
              "\t<dt>$testing_pos</dt>\n",
              "\t\t<dd>376</dd>\n",
              "\t<dt>$envios</dt>\n",
              "\t\t<dd>3796</dd>\n",
              "\t<dt>$aciertos</dt>\n",
              "\t\t<dd>217</dd>\n",
              "\t<dt>$ganancia_test</dt>\n",
              "\t\t<dd>48840000</dd>\n",
              "</dl>\n",
              "</li>\n",
              "\t<li><dl>\n",
              "\t<dt>$semilla</dt>\n",
              "\t\t<dd>931849</dd>\n",
              "\t<dt>$testing</dt>\n",
              "\t\t<dd>49391</dd>\n",
              "\t<dt>$testing_pos</dt>\n",
              "\t\t<dd>378</dd>\n",
              "\t<dt>$envios</dt>\n",
              "\t\t<dd>3772</dd>\n",
              "\t<dt>$aciertos</dt>\n",
              "\t\t<dd>220</dd>\n",
              "\t<dt>$ganancia_test</dt>\n",
              "\t\t<dd>50280000</dd>\n",
              "</dl>\n",
              "</li>\n",
              "\t<li><dl>\n",
              "\t<dt>$semilla</dt>\n",
              "\t\t<dd>831443</dd>\n",
              "\t<dt>$testing</dt>\n",
              "\t\t<dd>49368</dd>\n",
              "\t<dt>$testing_pos</dt>\n",
              "\t\t<dd>368</dd>\n",
              "\t<dt>$envios</dt>\n",
              "\t\t<dd>4816</dd>\n",
              "\t<dt>$aciertos</dt>\n",
              "\t\t<dd>245</dd>\n",
              "\t<dt>$ganancia_test</dt>\n",
              "\t\t<dd>49840000</dd>\n",
              "</dl>\n",
              "</li>\n",
              "\t<li><dl>\n",
              "\t<dt>$semilla</dt>\n",
              "\t\t<dd>869927</dd>\n",
              "\t<dt>$testing</dt>\n",
              "\t\t<dd>49376</dd>\n",
              "\t<dt>$testing_pos</dt>\n",
              "\t\t<dd>379</dd>\n",
              "\t<dt>$envios</dt>\n",
              "\t\t<dd>2914</dd>\n",
              "\t<dt>$aciertos</dt>\n",
              "\t\t<dd>190</dd>\n",
              "\t<dt>$ganancia_test</dt>\n",
              "\t\t<dd>46860000</dd>\n",
              "</dl>\n",
              "</li>\n",
              "\t<li><dl>\n",
              "\t<dt>$semilla</dt>\n",
              "\t\t<dd>939299</dd>\n",
              "\t<dt>$testing</dt>\n",
              "\t\t<dd>49381</dd>\n",
              "\t<dt>$testing_pos</dt>\n",
              "\t\t<dd>372</dd>\n",
              "\t<dt>$envios</dt>\n",
              "\t\t<dd>3461</dd>\n",
              "\t<dt>$aciertos</dt>\n",
              "\t\t<dd>198</dd>\n",
              "\t<dt>$ganancia_test</dt>\n",
              "\t\t<dd>44590000</dd>\n",
              "</dl>\n",
              "</li>\n",
              "\t<li><dl>\n",
              "\t<dt>$semilla</dt>\n",
              "\t\t<dd>693701</dd>\n",
              "\t<dt>$testing</dt>\n",
              "\t\t<dd>49373</dd>\n",
              "\t<dt>$testing_pos</dt>\n",
              "\t\t<dd>380</dd>\n",
              "\t<dt>$envios</dt>\n",
              "\t\t<dd>4336</dd>\n",
              "\t<dt>$aciertos</dt>\n",
              "\t\t<dd>225</dd>\n",
              "\t<dt>$ganancia_test</dt>\n",
              "\t\t<dd>46640000</dd>\n",
              "</dl>\n",
              "</li>\n",
              "\t<li><dl>\n",
              "\t<dt>$semilla</dt>\n",
              "\t\t<dd>316177</dd>\n",
              "\t<dt>$testing</dt>\n",
              "\t\t<dd>49386</dd>\n",
              "\t<dt>$testing_pos</dt>\n",
              "\t\t<dd>374</dd>\n",
              "\t<dt>$envios</dt>\n",
              "\t\t<dd>3863</dd>\n",
              "\t<dt>$aciertos</dt>\n",
              "\t\t<dd>217</dd>\n",
              "\t<dt>$ganancia_test</dt>\n",
              "\t\t<dd>48170000</dd>\n",
              "</dl>\n",
              "</li>\n",
              "\t<li><dl>\n",
              "\t<dt>$semilla</dt>\n",
              "\t\t<dd>259583</dd>\n",
              "\t<dt>$testing</dt>\n",
              "\t\t<dd>49384</dd>\n",
              "\t<dt>$testing_pos</dt>\n",
              "\t\t<dd>378</dd>\n",
              "\t<dt>$envios</dt>\n",
              "\t\t<dd>3523</dd>\n",
              "\t<dt>$aciertos</dt>\n",
              "\t\t<dd>217</dd>\n",
              "\t<dt>$ganancia_test</dt>\n",
              "\t\t<dd>51570000</dd>\n",
              "</dl>\n",
              "</li>\n",
              "\t<li><dl>\n",
              "\t<dt>$semilla</dt>\n",
              "\t\t<dd>542693</dd>\n",
              "\t<dt>$testing</dt>\n",
              "\t\t<dd>49372</dd>\n",
              "\t<dt>$testing_pos</dt>\n",
              "\t\t<dd>375</dd>\n",
              "\t<dt>$envios</dt>\n",
              "\t\t<dd>2905</dd>\n",
              "\t<dt>$aciertos</dt>\n",
              "\t\t<dd>205</dd>\n",
              "\t<dt>$ganancia_test</dt>\n",
              "\t\t<dd>52950000</dd>\n",
              "</dl>\n",
              "</li>\n",
              "\t<li><dl>\n",
              "\t<dt>$semilla</dt>\n",
              "\t\t<dd>457813</dd>\n",
              "\t<dt>$testing</dt>\n",
              "\t\t<dd>49384</dd>\n",
              "\t<dt>$testing_pos</dt>\n",
              "\t\t<dd>372</dd>\n",
              "\t<dt>$envios</dt>\n",
              "\t\t<dd>2624</dd>\n",
              "\t<dt>$aciertos</dt>\n",
              "\t\t<dd>187</dd>\n",
              "\t<dt>$ganancia_test</dt>\n",
              "\t\t<dd>48560000</dd>\n",
              "</dl>\n",
              "</li>\n",
              "\t<li><dl>\n",
              "\t<dt>$semilla</dt>\n",
              "\t\t<dd>399493</dd>\n",
              "\t<dt>$testing</dt>\n",
              "\t\t<dd>49389</dd>\n",
              "\t<dt>$testing_pos</dt>\n",
              "\t\t<dd>378</dd>\n",
              "\t<dt>$envios</dt>\n",
              "\t\t<dd>3146</dd>\n",
              "\t<dt>$aciertos</dt>\n",
              "\t\t<dd>214</dd>\n",
              "\t<dt>$ganancia_test</dt>\n",
              "\t\t<dd>54140000</dd>\n",
              "</dl>\n",
              "</li>\n",
              "</ol>\n"
            ],
            "text/markdown": "1. $semilla\n:   394367\n$testing\n:   49368\n$testing_pos\n:   375\n$envios\n:   3383\n$aciertos\n:   204\n$ganancia_test\n:   47770000\n\n\n\n2. $semilla\n:   148073\n$testing\n:   49376\n$testing_pos\n:   369\n$envios\n:   3264\n$aciertos\n:   209\n$ganancia_test\n:   50960000\n\n\n\n3. $semilla\n:   570139\n$testing\n:   49371\n$testing_pos\n:   375\n$envios\n:   3196\n$aciertos\n:   204\n$ganancia_test\n:   49640000\n\n\n\n4. $semilla\n:   252761\n$testing\n:   49386\n$testing_pos\n:   377\n$envios\n:   3784\n$aciertos\n:   219\n$ganancia_test\n:   49760000\n\n\n\n5. $semilla\n:   417773\n$testing\n:   49371\n$testing_pos\n:   368\n$envios\n:   3163\n$aciertos\n:   202\n$ganancia_test\n:   49170000\n\n\n\n6. $semilla\n:   233159\n$testing\n:   49379\n$testing_pos\n:   378\n$envios\n:   3612\n$aciertos\n:   204\n$ganancia_test\n:   45480000\n\n\n\n7. $semilla\n:   127657\n$testing\n:   49383\n$testing_pos\n:   375\n$envios\n:   3126\n$aciertos\n:   200\n$ganancia_test\n:   48740000\n\n\n\n8. $semilla\n:   630701\n$testing\n:   49374\n$testing_pos\n:   372\n$envios\n:   3149\n$aciertos\n:   193\n$ganancia_test\n:   45710000\n\n\n\n9. $semilla\n:   476317\n$testing\n:   49383\n$testing_pos\n:   378\n$envios\n:   3007\n$aciertos\n:   193\n$ganancia_test\n:   47130000\n\n\n\n10. $semilla\n:   204101\n$testing\n:   49381\n$testing_pos\n:   379\n$envios\n:   4165\n$aciertos\n:   228\n$ganancia_test\n:   49550000\n\n\n\n11. $semilla\n:   801973\n$testing\n:   49366\n$testing_pos\n:   372\n$envios\n:   4011\n$aciertos\n:   240\n$ganancia_test\n:   55890000\n\n\n\n12. $semilla\n:   616897\n$testing\n:   49378\n$testing_pos\n:   366\n$envios\n:   2842\n$aciertos\n:   177\n$ganancia_test\n:   42380000\n\n\n\n13. $semilla\n:   905581\n$testing\n:   49382\n$testing_pos\n:   367\n$envios\n:   3282\n$aciertos\n:   199\n$ganancia_test\n:   46780000\n\n\n\n14. $semilla\n:   240259\n$testing\n:   49387\n$testing_pos\n:   377\n$envios\n:   3514\n$aciertos\n:   212\n$ganancia_test\n:   49660000\n\n\n\n15. $semilla\n:   330217\n$testing\n:   49365\n$testing_pos\n:   373\n$envios\n:   3410\n$aciertos\n:   214\n$ganancia_test\n:   51500000\n\n\n\n16. $semilla\n:   852239\n$testing\n:   49381\n$testing_pos\n:   375\n$envios\n:   3546\n$aciertos\n:   207\n$ganancia_test\n:   47340000\n\n\n\n17. $semilla\n:   574963\n$testing\n:   49375\n$testing_pos\n:   371\n$envios\n:   2956\n$aciertos\n:   200\n$ganancia_test\n:   50440000\n\n\n\n18. $semilla\n:   641467\n$testing\n:   49375\n$testing_pos\n:   371\n$envios\n:   3414\n$aciertos\n:   219\n$ganancia_test\n:   53460000\n\n\n\n19. $semilla\n:   826093\n$testing\n:   49381\n$testing_pos\n:   374\n$envios\n:   3178\n$aciertos\n:   206\n$ganancia_test\n:   50620000\n\n\n\n20. $semilla\n:   228887\n$testing\n:   49369\n$testing_pos\n:   372\n$envios\n:   2550\n$aciertos\n:   167\n$ganancia_test\n:   41300000\n\n\n\n21. $semilla\n:   589213\n$testing\n:   49383\n$testing_pos\n:   374\n$envios\n:   3053\n$aciertos\n:   199\n$ganancia_test\n:   49070000\n\n\n\n22. $semilla\n:   554747\n$testing\n:   49374\n$testing_pos\n:   377\n$envios\n:   3704\n$aciertos\n:   214\n$ganancia_test\n:   48560000\n\n\n\n23. $semilla\n:   443453\n$testing\n:   49382\n$testing_pos\n:   369\n$envios\n:   3219\n$aciertos\n:   195\n$ganancia_test\n:   45810000\n\n\n\n24. $semilla\n:   410833\n$testing\n:   49374\n$testing_pos\n:   369\n$envios\n:   3529\n$aciertos\n:   195\n$ganancia_test\n:   42710000\n\n\n\n25. $semilla\n:   159931\n$testing\n:   49384\n$testing_pos\n:   377\n$envios\n:   3268\n$aciertos\n:   206\n$ganancia_test\n:   49720000\n\n\n\n26. $semilla\n:   234461\n$testing\n:   49379\n$testing_pos\n:   374\n$envios\n:   4024\n$aciertos\n:   222\n$ganancia_test\n:   48560000\n\n\n\n27. $semilla\n:   856571\n$testing\n:   49371\n$testing_pos\n:   369\n$envios\n:   3945\n$aciertos\n:   215\n$ganancia_test\n:   46550000\n\n\n\n28. $semilla\n:   144289\n$testing\n:   49380\n$testing_pos\n:   373\n$envios\n:   3304\n$aciertos\n:   201\n$ganancia_test\n:   47360000\n\n\n\n29. $semilla\n:   114277\n$testing\n:   49386\n$testing_pos\n:   374\n$envios\n:   3125\n$aciertos\n:   202\n$ganancia_test\n:   49550000\n\n\n\n30. $semilla\n:   414763\n$testing\n:   49372\n$testing_pos\n:   372\n$envios\n:   3561\n$aciertos\n:   210\n$ganancia_test\n:   48390000\n\n\n\n31. $semilla\n:   704189\n$testing\n:   49384\n$testing_pos\n:   379\n$envios\n:   2674\n$aciertos\n:   195\n$ganancia_test\n:   51260000\n\n\n\n32. $semilla\n:   774703\n$testing\n:   49375\n$testing_pos\n:   374\n$envios\n:   3446\n$aciertos\n:   197\n$ganancia_test\n:   44340000\n\n\n\n33. $semilla\n:   712183\n$testing\n:   49379\n$testing_pos\n:   377\n$envios\n:   4121\n$aciertos\n:   232\n$ganancia_test\n:   51590000\n\n\n\n34. $semilla\n:   842473\n$testing\n:   49380\n$testing_pos\n:   374\n$envios\n:   3267\n$aciertos\n:   209\n$ganancia_test\n:   50930000\n\n\n\n35. $semilla\n:   902119\n$testing\n:   49377\n$testing_pos\n:   373\n$envios\n:   3237\n$aciertos\n:   204\n$ganancia_test\n:   49230000\n\n\n\n36. $semilla\n:   986143\n$testing\n:   49380\n$testing_pos\n:   375\n$envios\n:   3310\n$aciertos\n:   212\n$ganancia_test\n:   51700000\n\n\n\n37. $semilla\n:   354271\n$testing\n:   49384\n$testing_pos\n:   380\n$envios\n:   2521\n$aciertos\n:   169\n$ganancia_test\n:   42390000\n\n\n\n38. $semilla\n:   711959\n$testing\n:   49382\n$testing_pos\n:   375\n$envios\n:   2502\n$aciertos\n:   165\n$ganancia_test\n:   40980000\n\n\n\n39. $semilla\n:   208457\n$testing\n:   49386\n$testing_pos\n:   373\n$envios\n:   3614\n$aciertos\n:   210\n$ganancia_test\n:   47860000\n\n\n\n40. $semilla\n:   909061\n$testing\n:   49374\n$testing_pos\n:   376\n$envios\n:   3796\n$aciertos\n:   217\n$ganancia_test\n:   48840000\n\n\n\n41. $semilla\n:   931849\n$testing\n:   49391\n$testing_pos\n:   378\n$envios\n:   3772\n$aciertos\n:   220\n$ganancia_test\n:   50280000\n\n\n\n42. $semilla\n:   831443\n$testing\n:   49368\n$testing_pos\n:   368\n$envios\n:   4816\n$aciertos\n:   245\n$ganancia_test\n:   49840000\n\n\n\n43. $semilla\n:   869927\n$testing\n:   49376\n$testing_pos\n:   379\n$envios\n:   2914\n$aciertos\n:   190\n$ganancia_test\n:   46860000\n\n\n\n44. $semilla\n:   939299\n$testing\n:   49381\n$testing_pos\n:   372\n$envios\n:   3461\n$aciertos\n:   198\n$ganancia_test\n:   44590000\n\n\n\n45. $semilla\n:   693701\n$testing\n:   49373\n$testing_pos\n:   380\n$envios\n:   4336\n$aciertos\n:   225\n$ganancia_test\n:   46640000\n\n\n\n46. $semilla\n:   316177\n$testing\n:   49386\n$testing_pos\n:   374\n$envios\n:   3863\n$aciertos\n:   217\n$ganancia_test\n:   48170000\n\n\n\n47. $semilla\n:   259583\n$testing\n:   49384\n$testing_pos\n:   378\n$envios\n:   3523\n$aciertos\n:   217\n$ganancia_test\n:   51570000\n\n\n\n48. $semilla\n:   542693\n$testing\n:   49372\n$testing_pos\n:   375\n$envios\n:   2905\n$aciertos\n:   205\n$ganancia_test\n:   52950000\n\n\n\n49. $semilla\n:   457813\n$testing\n:   49384\n$testing_pos\n:   372\n$envios\n:   2624\n$aciertos\n:   187\n$ganancia_test\n:   48560000\n\n\n\n50. $semilla\n:   399493\n$testing\n:   49389\n$testing_pos\n:   378\n$envios\n:   3146\n$aciertos\n:   214\n$ganancia_test\n:   54140000\n\n\n\n\n\n",
            "text/latex": "\\begin{enumerate}\n\\item \\begin{description}\n\\item[\\$semilla] 394367\n\\item[\\$testing] 49368\n\\item[\\$testing\\_pos] 375\n\\item[\\$envios] 3383\n\\item[\\$aciertos] 204\n\\item[\\$ganancia\\_test] 47770000\n\\end{description}\n\n\\item \\begin{description}\n\\item[\\$semilla] 148073\n\\item[\\$testing] 49376\n\\item[\\$testing\\_pos] 369\n\\item[\\$envios] 3264\n\\item[\\$aciertos] 209\n\\item[\\$ganancia\\_test] 50960000\n\\end{description}\n\n\\item \\begin{description}\n\\item[\\$semilla] 570139\n\\item[\\$testing] 49371\n\\item[\\$testing\\_pos] 375\n\\item[\\$envios] 3196\n\\item[\\$aciertos] 204\n\\item[\\$ganancia\\_test] 49640000\n\\end{description}\n\n\\item \\begin{description}\n\\item[\\$semilla] 252761\n\\item[\\$testing] 49386\n\\item[\\$testing\\_pos] 377\n\\item[\\$envios] 3784\n\\item[\\$aciertos] 219\n\\item[\\$ganancia\\_test] 49760000\n\\end{description}\n\n\\item \\begin{description}\n\\item[\\$semilla] 417773\n\\item[\\$testing] 49371\n\\item[\\$testing\\_pos] 368\n\\item[\\$envios] 3163\n\\item[\\$aciertos] 202\n\\item[\\$ganancia\\_test] 49170000\n\\end{description}\n\n\\item \\begin{description}\n\\item[\\$semilla] 233159\n\\item[\\$testing] 49379\n\\item[\\$testing\\_pos] 378\n\\item[\\$envios] 3612\n\\item[\\$aciertos] 204\n\\item[\\$ganancia\\_test] 45480000\n\\end{description}\n\n\\item \\begin{description}\n\\item[\\$semilla] 127657\n\\item[\\$testing] 49383\n\\item[\\$testing\\_pos] 375\n\\item[\\$envios] 3126\n\\item[\\$aciertos] 200\n\\item[\\$ganancia\\_test] 48740000\n\\end{description}\n\n\\item \\begin{description}\n\\item[\\$semilla] 630701\n\\item[\\$testing] 49374\n\\item[\\$testing\\_pos] 372\n\\item[\\$envios] 3149\n\\item[\\$aciertos] 193\n\\item[\\$ganancia\\_test] 45710000\n\\end{description}\n\n\\item \\begin{description}\n\\item[\\$semilla] 476317\n\\item[\\$testing] 49383\n\\item[\\$testing\\_pos] 378\n\\item[\\$envios] 3007\n\\item[\\$aciertos] 193\n\\item[\\$ganancia\\_test] 47130000\n\\end{description}\n\n\\item \\begin{description}\n\\item[\\$semilla] 204101\n\\item[\\$testing] 49381\n\\item[\\$testing\\_pos] 379\n\\item[\\$envios] 4165\n\\item[\\$aciertos] 228\n\\item[\\$ganancia\\_test] 49550000\n\\end{description}\n\n\\item \\begin{description}\n\\item[\\$semilla] 801973\n\\item[\\$testing] 49366\n\\item[\\$testing\\_pos] 372\n\\item[\\$envios] 4011\n\\item[\\$aciertos] 240\n\\item[\\$ganancia\\_test] 55890000\n\\end{description}\n\n\\item \\begin{description}\n\\item[\\$semilla] 616897\n\\item[\\$testing] 49378\n\\item[\\$testing\\_pos] 366\n\\item[\\$envios] 2842\n\\item[\\$aciertos] 177\n\\item[\\$ganancia\\_test] 42380000\n\\end{description}\n\n\\item \\begin{description}\n\\item[\\$semilla] 905581\n\\item[\\$testing] 49382\n\\item[\\$testing\\_pos] 367\n\\item[\\$envios] 3282\n\\item[\\$aciertos] 199\n\\item[\\$ganancia\\_test] 46780000\n\\end{description}\n\n\\item \\begin{description}\n\\item[\\$semilla] 240259\n\\item[\\$testing] 49387\n\\item[\\$testing\\_pos] 377\n\\item[\\$envios] 3514\n\\item[\\$aciertos] 212\n\\item[\\$ganancia\\_test] 49660000\n\\end{description}\n\n\\item \\begin{description}\n\\item[\\$semilla] 330217\n\\item[\\$testing] 49365\n\\item[\\$testing\\_pos] 373\n\\item[\\$envios] 3410\n\\item[\\$aciertos] 214\n\\item[\\$ganancia\\_test] 51500000\n\\end{description}\n\n\\item \\begin{description}\n\\item[\\$semilla] 852239\n\\item[\\$testing] 49381\n\\item[\\$testing\\_pos] 375\n\\item[\\$envios] 3546\n\\item[\\$aciertos] 207\n\\item[\\$ganancia\\_test] 47340000\n\\end{description}\n\n\\item \\begin{description}\n\\item[\\$semilla] 574963\n\\item[\\$testing] 49375\n\\item[\\$testing\\_pos] 371\n\\item[\\$envios] 2956\n\\item[\\$aciertos] 200\n\\item[\\$ganancia\\_test] 50440000\n\\end{description}\n\n\\item \\begin{description}\n\\item[\\$semilla] 641467\n\\item[\\$testing] 49375\n\\item[\\$testing\\_pos] 371\n\\item[\\$envios] 3414\n\\item[\\$aciertos] 219\n\\item[\\$ganancia\\_test] 53460000\n\\end{description}\n\n\\item \\begin{description}\n\\item[\\$semilla] 826093\n\\item[\\$testing] 49381\n\\item[\\$testing\\_pos] 374\n\\item[\\$envios] 3178\n\\item[\\$aciertos] 206\n\\item[\\$ganancia\\_test] 50620000\n\\end{description}\n\n\\item \\begin{description}\n\\item[\\$semilla] 228887\n\\item[\\$testing] 49369\n\\item[\\$testing\\_pos] 372\n\\item[\\$envios] 2550\n\\item[\\$aciertos] 167\n\\item[\\$ganancia\\_test] 41300000\n\\end{description}\n\n\\item \\begin{description}\n\\item[\\$semilla] 589213\n\\item[\\$testing] 49383\n\\item[\\$testing\\_pos] 374\n\\item[\\$envios] 3053\n\\item[\\$aciertos] 199\n\\item[\\$ganancia\\_test] 49070000\n\\end{description}\n\n\\item \\begin{description}\n\\item[\\$semilla] 554747\n\\item[\\$testing] 49374\n\\item[\\$testing\\_pos] 377\n\\item[\\$envios] 3704\n\\item[\\$aciertos] 214\n\\item[\\$ganancia\\_test] 48560000\n\\end{description}\n\n\\item \\begin{description}\n\\item[\\$semilla] 443453\n\\item[\\$testing] 49382\n\\item[\\$testing\\_pos] 369\n\\item[\\$envios] 3219\n\\item[\\$aciertos] 195\n\\item[\\$ganancia\\_test] 45810000\n\\end{description}\n\n\\item \\begin{description}\n\\item[\\$semilla] 410833\n\\item[\\$testing] 49374\n\\item[\\$testing\\_pos] 369\n\\item[\\$envios] 3529\n\\item[\\$aciertos] 195\n\\item[\\$ganancia\\_test] 42710000\n\\end{description}\n\n\\item \\begin{description}\n\\item[\\$semilla] 159931\n\\item[\\$testing] 49384\n\\item[\\$testing\\_pos] 377\n\\item[\\$envios] 3268\n\\item[\\$aciertos] 206\n\\item[\\$ganancia\\_test] 49720000\n\\end{description}\n\n\\item \\begin{description}\n\\item[\\$semilla] 234461\n\\item[\\$testing] 49379\n\\item[\\$testing\\_pos] 374\n\\item[\\$envios] 4024\n\\item[\\$aciertos] 222\n\\item[\\$ganancia\\_test] 48560000\n\\end{description}\n\n\\item \\begin{description}\n\\item[\\$semilla] 856571\n\\item[\\$testing] 49371\n\\item[\\$testing\\_pos] 369\n\\item[\\$envios] 3945\n\\item[\\$aciertos] 215\n\\item[\\$ganancia\\_test] 46550000\n\\end{description}\n\n\\item \\begin{description}\n\\item[\\$semilla] 144289\n\\item[\\$testing] 49380\n\\item[\\$testing\\_pos] 373\n\\item[\\$envios] 3304\n\\item[\\$aciertos] 201\n\\item[\\$ganancia\\_test] 47360000\n\\end{description}\n\n\\item \\begin{description}\n\\item[\\$semilla] 114277\n\\item[\\$testing] 49386\n\\item[\\$testing\\_pos] 374\n\\item[\\$envios] 3125\n\\item[\\$aciertos] 202\n\\item[\\$ganancia\\_test] 49550000\n\\end{description}\n\n\\item \\begin{description}\n\\item[\\$semilla] 414763\n\\item[\\$testing] 49372\n\\item[\\$testing\\_pos] 372\n\\item[\\$envios] 3561\n\\item[\\$aciertos] 210\n\\item[\\$ganancia\\_test] 48390000\n\\end{description}\n\n\\item \\begin{description}\n\\item[\\$semilla] 704189\n\\item[\\$testing] 49384\n\\item[\\$testing\\_pos] 379\n\\item[\\$envios] 2674\n\\item[\\$aciertos] 195\n\\item[\\$ganancia\\_test] 51260000\n\\end{description}\n\n\\item \\begin{description}\n\\item[\\$semilla] 774703\n\\item[\\$testing] 49375\n\\item[\\$testing\\_pos] 374\n\\item[\\$envios] 3446\n\\item[\\$aciertos] 197\n\\item[\\$ganancia\\_test] 44340000\n\\end{description}\n\n\\item \\begin{description}\n\\item[\\$semilla] 712183\n\\item[\\$testing] 49379\n\\item[\\$testing\\_pos] 377\n\\item[\\$envios] 4121\n\\item[\\$aciertos] 232\n\\item[\\$ganancia\\_test] 51590000\n\\end{description}\n\n\\item \\begin{description}\n\\item[\\$semilla] 842473\n\\item[\\$testing] 49380\n\\item[\\$testing\\_pos] 374\n\\item[\\$envios] 3267\n\\item[\\$aciertos] 209\n\\item[\\$ganancia\\_test] 50930000\n\\end{description}\n\n\\item \\begin{description}\n\\item[\\$semilla] 902119\n\\item[\\$testing] 49377\n\\item[\\$testing\\_pos] 373\n\\item[\\$envios] 3237\n\\item[\\$aciertos] 204\n\\item[\\$ganancia\\_test] 49230000\n\\end{description}\n\n\\item \\begin{description}\n\\item[\\$semilla] 986143\n\\item[\\$testing] 49380\n\\item[\\$testing\\_pos] 375\n\\item[\\$envios] 3310\n\\item[\\$aciertos] 212\n\\item[\\$ganancia\\_test] 51700000\n\\end{description}\n\n\\item \\begin{description}\n\\item[\\$semilla] 354271\n\\item[\\$testing] 49384\n\\item[\\$testing\\_pos] 380\n\\item[\\$envios] 2521\n\\item[\\$aciertos] 169\n\\item[\\$ganancia\\_test] 42390000\n\\end{description}\n\n\\item \\begin{description}\n\\item[\\$semilla] 711959\n\\item[\\$testing] 49382\n\\item[\\$testing\\_pos] 375\n\\item[\\$envios] 2502\n\\item[\\$aciertos] 165\n\\item[\\$ganancia\\_test] 40980000\n\\end{description}\n\n\\item \\begin{description}\n\\item[\\$semilla] 208457\n\\item[\\$testing] 49386\n\\item[\\$testing\\_pos] 373\n\\item[\\$envios] 3614\n\\item[\\$aciertos] 210\n\\item[\\$ganancia\\_test] 47860000\n\\end{description}\n\n\\item \\begin{description}\n\\item[\\$semilla] 909061\n\\item[\\$testing] 49374\n\\item[\\$testing\\_pos] 376\n\\item[\\$envios] 3796\n\\item[\\$aciertos] 217\n\\item[\\$ganancia\\_test] 48840000\n\\end{description}\n\n\\item \\begin{description}\n\\item[\\$semilla] 931849\n\\item[\\$testing] 49391\n\\item[\\$testing\\_pos] 378\n\\item[\\$envios] 3772\n\\item[\\$aciertos] 220\n\\item[\\$ganancia\\_test] 50280000\n\\end{description}\n\n\\item \\begin{description}\n\\item[\\$semilla] 831443\n\\item[\\$testing] 49368\n\\item[\\$testing\\_pos] 368\n\\item[\\$envios] 4816\n\\item[\\$aciertos] 245\n\\item[\\$ganancia\\_test] 49840000\n\\end{description}\n\n\\item \\begin{description}\n\\item[\\$semilla] 869927\n\\item[\\$testing] 49376\n\\item[\\$testing\\_pos] 379\n\\item[\\$envios] 2914\n\\item[\\$aciertos] 190\n\\item[\\$ganancia\\_test] 46860000\n\\end{description}\n\n\\item \\begin{description}\n\\item[\\$semilla] 939299\n\\item[\\$testing] 49381\n\\item[\\$testing\\_pos] 372\n\\item[\\$envios] 3461\n\\item[\\$aciertos] 198\n\\item[\\$ganancia\\_test] 44590000\n\\end{description}\n\n\\item \\begin{description}\n\\item[\\$semilla] 693701\n\\item[\\$testing] 49373\n\\item[\\$testing\\_pos] 380\n\\item[\\$envios] 4336\n\\item[\\$aciertos] 225\n\\item[\\$ganancia\\_test] 46640000\n\\end{description}\n\n\\item \\begin{description}\n\\item[\\$semilla] 316177\n\\item[\\$testing] 49386\n\\item[\\$testing\\_pos] 374\n\\item[\\$envios] 3863\n\\item[\\$aciertos] 217\n\\item[\\$ganancia\\_test] 48170000\n\\end{description}\n\n\\item \\begin{description}\n\\item[\\$semilla] 259583\n\\item[\\$testing] 49384\n\\item[\\$testing\\_pos] 378\n\\item[\\$envios] 3523\n\\item[\\$aciertos] 217\n\\item[\\$ganancia\\_test] 51570000\n\\end{description}\n\n\\item \\begin{description}\n\\item[\\$semilla] 542693\n\\item[\\$testing] 49372\n\\item[\\$testing\\_pos] 375\n\\item[\\$envios] 2905\n\\item[\\$aciertos] 205\n\\item[\\$ganancia\\_test] 52950000\n\\end{description}\n\n\\item \\begin{description}\n\\item[\\$semilla] 457813\n\\item[\\$testing] 49384\n\\item[\\$testing\\_pos] 372\n\\item[\\$envios] 2624\n\\item[\\$aciertos] 187\n\\item[\\$ganancia\\_test] 48560000\n\\end{description}\n\n\\item \\begin{description}\n\\item[\\$semilla] 399493\n\\item[\\$testing] 49389\n\\item[\\$testing\\_pos] 378\n\\item[\\$envios] 3146\n\\item[\\$aciertos] 214\n\\item[\\$ganancia\\_test] 54140000\n\\end{description}\n\n\\end{enumerate}\n",
            "text/plain": [
              "[[1]]\n",
              "[[1]]$semilla\n",
              "[1] 394367\n",
              "\n",
              "[[1]]$testing\n",
              "[1] 49368\n",
              "\n",
              "[[1]]$testing_pos\n",
              "[1] 375\n",
              "\n",
              "[[1]]$envios\n",
              "[1] 3383\n",
              "\n",
              "[[1]]$aciertos\n",
              "[1] 204\n",
              "\n",
              "[[1]]$ganancia_test\n",
              "[1] 47770000\n",
              "\n",
              "\n",
              "[[2]]\n",
              "[[2]]$semilla\n",
              "[1] 148073\n",
              "\n",
              "[[2]]$testing\n",
              "[1] 49376\n",
              "\n",
              "[[2]]$testing_pos\n",
              "[1] 369\n",
              "\n",
              "[[2]]$envios\n",
              "[1] 3264\n",
              "\n",
              "[[2]]$aciertos\n",
              "[1] 209\n",
              "\n",
              "[[2]]$ganancia_test\n",
              "[1] 50960000\n",
              "\n",
              "\n",
              "[[3]]\n",
              "[[3]]$semilla\n",
              "[1] 570139\n",
              "\n",
              "[[3]]$testing\n",
              "[1] 49371\n",
              "\n",
              "[[3]]$testing_pos\n",
              "[1] 375\n",
              "\n",
              "[[3]]$envios\n",
              "[1] 3196\n",
              "\n",
              "[[3]]$aciertos\n",
              "[1] 204\n",
              "\n",
              "[[3]]$ganancia_test\n",
              "[1] 49640000\n",
              "\n",
              "\n",
              "[[4]]\n",
              "[[4]]$semilla\n",
              "[1] 252761\n",
              "\n",
              "[[4]]$testing\n",
              "[1] 49386\n",
              "\n",
              "[[4]]$testing_pos\n",
              "[1] 377\n",
              "\n",
              "[[4]]$envios\n",
              "[1] 3784\n",
              "\n",
              "[[4]]$aciertos\n",
              "[1] 219\n",
              "\n",
              "[[4]]$ganancia_test\n",
              "[1] 49760000\n",
              "\n",
              "\n",
              "[[5]]\n",
              "[[5]]$semilla\n",
              "[1] 417773\n",
              "\n",
              "[[5]]$testing\n",
              "[1] 49371\n",
              "\n",
              "[[5]]$testing_pos\n",
              "[1] 368\n",
              "\n",
              "[[5]]$envios\n",
              "[1] 3163\n",
              "\n",
              "[[5]]$aciertos\n",
              "[1] 202\n",
              "\n",
              "[[5]]$ganancia_test\n",
              "[1] 49170000\n",
              "\n",
              "\n",
              "[[6]]\n",
              "[[6]]$semilla\n",
              "[1] 233159\n",
              "\n",
              "[[6]]$testing\n",
              "[1] 49379\n",
              "\n",
              "[[6]]$testing_pos\n",
              "[1] 378\n",
              "\n",
              "[[6]]$envios\n",
              "[1] 3612\n",
              "\n",
              "[[6]]$aciertos\n",
              "[1] 204\n",
              "\n",
              "[[6]]$ganancia_test\n",
              "[1] 45480000\n",
              "\n",
              "\n",
              "[[7]]\n",
              "[[7]]$semilla\n",
              "[1] 127657\n",
              "\n",
              "[[7]]$testing\n",
              "[1] 49383\n",
              "\n",
              "[[7]]$testing_pos\n",
              "[1] 375\n",
              "\n",
              "[[7]]$envios\n",
              "[1] 3126\n",
              "\n",
              "[[7]]$aciertos\n",
              "[1] 200\n",
              "\n",
              "[[7]]$ganancia_test\n",
              "[1] 48740000\n",
              "\n",
              "\n",
              "[[8]]\n",
              "[[8]]$semilla\n",
              "[1] 630701\n",
              "\n",
              "[[8]]$testing\n",
              "[1] 49374\n",
              "\n",
              "[[8]]$testing_pos\n",
              "[1] 372\n",
              "\n",
              "[[8]]$envios\n",
              "[1] 3149\n",
              "\n",
              "[[8]]$aciertos\n",
              "[1] 193\n",
              "\n",
              "[[8]]$ganancia_test\n",
              "[1] 45710000\n",
              "\n",
              "\n",
              "[[9]]\n",
              "[[9]]$semilla\n",
              "[1] 476317\n",
              "\n",
              "[[9]]$testing\n",
              "[1] 49383\n",
              "\n",
              "[[9]]$testing_pos\n",
              "[1] 378\n",
              "\n",
              "[[9]]$envios\n",
              "[1] 3007\n",
              "\n",
              "[[9]]$aciertos\n",
              "[1] 193\n",
              "\n",
              "[[9]]$ganancia_test\n",
              "[1] 47130000\n",
              "\n",
              "\n",
              "[[10]]\n",
              "[[10]]$semilla\n",
              "[1] 204101\n",
              "\n",
              "[[10]]$testing\n",
              "[1] 49381\n",
              "\n",
              "[[10]]$testing_pos\n",
              "[1] 379\n",
              "\n",
              "[[10]]$envios\n",
              "[1] 4165\n",
              "\n",
              "[[10]]$aciertos\n",
              "[1] 228\n",
              "\n",
              "[[10]]$ganancia_test\n",
              "[1] 49550000\n",
              "\n",
              "\n",
              "[[11]]\n",
              "[[11]]$semilla\n",
              "[1] 801973\n",
              "\n",
              "[[11]]$testing\n",
              "[1] 49366\n",
              "\n",
              "[[11]]$testing_pos\n",
              "[1] 372\n",
              "\n",
              "[[11]]$envios\n",
              "[1] 4011\n",
              "\n",
              "[[11]]$aciertos\n",
              "[1] 240\n",
              "\n",
              "[[11]]$ganancia_test\n",
              "[1] 55890000\n",
              "\n",
              "\n",
              "[[12]]\n",
              "[[12]]$semilla\n",
              "[1] 616897\n",
              "\n",
              "[[12]]$testing\n",
              "[1] 49378\n",
              "\n",
              "[[12]]$testing_pos\n",
              "[1] 366\n",
              "\n",
              "[[12]]$envios\n",
              "[1] 2842\n",
              "\n",
              "[[12]]$aciertos\n",
              "[1] 177\n",
              "\n",
              "[[12]]$ganancia_test\n",
              "[1] 42380000\n",
              "\n",
              "\n",
              "[[13]]\n",
              "[[13]]$semilla\n",
              "[1] 905581\n",
              "\n",
              "[[13]]$testing\n",
              "[1] 49382\n",
              "\n",
              "[[13]]$testing_pos\n",
              "[1] 367\n",
              "\n",
              "[[13]]$envios\n",
              "[1] 3282\n",
              "\n",
              "[[13]]$aciertos\n",
              "[1] 199\n",
              "\n",
              "[[13]]$ganancia_test\n",
              "[1] 46780000\n",
              "\n",
              "\n",
              "[[14]]\n",
              "[[14]]$semilla\n",
              "[1] 240259\n",
              "\n",
              "[[14]]$testing\n",
              "[1] 49387\n",
              "\n",
              "[[14]]$testing_pos\n",
              "[1] 377\n",
              "\n",
              "[[14]]$envios\n",
              "[1] 3514\n",
              "\n",
              "[[14]]$aciertos\n",
              "[1] 212\n",
              "\n",
              "[[14]]$ganancia_test\n",
              "[1] 49660000\n",
              "\n",
              "\n",
              "[[15]]\n",
              "[[15]]$semilla\n",
              "[1] 330217\n",
              "\n",
              "[[15]]$testing\n",
              "[1] 49365\n",
              "\n",
              "[[15]]$testing_pos\n",
              "[1] 373\n",
              "\n",
              "[[15]]$envios\n",
              "[1] 3410\n",
              "\n",
              "[[15]]$aciertos\n",
              "[1] 214\n",
              "\n",
              "[[15]]$ganancia_test\n",
              "[1] 51500000\n",
              "\n",
              "\n",
              "[[16]]\n",
              "[[16]]$semilla\n",
              "[1] 852239\n",
              "\n",
              "[[16]]$testing\n",
              "[1] 49381\n",
              "\n",
              "[[16]]$testing_pos\n",
              "[1] 375\n",
              "\n",
              "[[16]]$envios\n",
              "[1] 3546\n",
              "\n",
              "[[16]]$aciertos\n",
              "[1] 207\n",
              "\n",
              "[[16]]$ganancia_test\n",
              "[1] 47340000\n",
              "\n",
              "\n",
              "[[17]]\n",
              "[[17]]$semilla\n",
              "[1] 574963\n",
              "\n",
              "[[17]]$testing\n",
              "[1] 49375\n",
              "\n",
              "[[17]]$testing_pos\n",
              "[1] 371\n",
              "\n",
              "[[17]]$envios\n",
              "[1] 2956\n",
              "\n",
              "[[17]]$aciertos\n",
              "[1] 200\n",
              "\n",
              "[[17]]$ganancia_test\n",
              "[1] 50440000\n",
              "\n",
              "\n",
              "[[18]]\n",
              "[[18]]$semilla\n",
              "[1] 641467\n",
              "\n",
              "[[18]]$testing\n",
              "[1] 49375\n",
              "\n",
              "[[18]]$testing_pos\n",
              "[1] 371\n",
              "\n",
              "[[18]]$envios\n",
              "[1] 3414\n",
              "\n",
              "[[18]]$aciertos\n",
              "[1] 219\n",
              "\n",
              "[[18]]$ganancia_test\n",
              "[1] 53460000\n",
              "\n",
              "\n",
              "[[19]]\n",
              "[[19]]$semilla\n",
              "[1] 826093\n",
              "\n",
              "[[19]]$testing\n",
              "[1] 49381\n",
              "\n",
              "[[19]]$testing_pos\n",
              "[1] 374\n",
              "\n",
              "[[19]]$envios\n",
              "[1] 3178\n",
              "\n",
              "[[19]]$aciertos\n",
              "[1] 206\n",
              "\n",
              "[[19]]$ganancia_test\n",
              "[1] 50620000\n",
              "\n",
              "\n",
              "[[20]]\n",
              "[[20]]$semilla\n",
              "[1] 228887\n",
              "\n",
              "[[20]]$testing\n",
              "[1] 49369\n",
              "\n",
              "[[20]]$testing_pos\n",
              "[1] 372\n",
              "\n",
              "[[20]]$envios\n",
              "[1] 2550\n",
              "\n",
              "[[20]]$aciertos\n",
              "[1] 167\n",
              "\n",
              "[[20]]$ganancia_test\n",
              "[1] 41300000\n",
              "\n",
              "\n",
              "[[21]]\n",
              "[[21]]$semilla\n",
              "[1] 589213\n",
              "\n",
              "[[21]]$testing\n",
              "[1] 49383\n",
              "\n",
              "[[21]]$testing_pos\n",
              "[1] 374\n",
              "\n",
              "[[21]]$envios\n",
              "[1] 3053\n",
              "\n",
              "[[21]]$aciertos\n",
              "[1] 199\n",
              "\n",
              "[[21]]$ganancia_test\n",
              "[1] 49070000\n",
              "\n",
              "\n",
              "[[22]]\n",
              "[[22]]$semilla\n",
              "[1] 554747\n",
              "\n",
              "[[22]]$testing\n",
              "[1] 49374\n",
              "\n",
              "[[22]]$testing_pos\n",
              "[1] 377\n",
              "\n",
              "[[22]]$envios\n",
              "[1] 3704\n",
              "\n",
              "[[22]]$aciertos\n",
              "[1] 214\n",
              "\n",
              "[[22]]$ganancia_test\n",
              "[1] 48560000\n",
              "\n",
              "\n",
              "[[23]]\n",
              "[[23]]$semilla\n",
              "[1] 443453\n",
              "\n",
              "[[23]]$testing\n",
              "[1] 49382\n",
              "\n",
              "[[23]]$testing_pos\n",
              "[1] 369\n",
              "\n",
              "[[23]]$envios\n",
              "[1] 3219\n",
              "\n",
              "[[23]]$aciertos\n",
              "[1] 195\n",
              "\n",
              "[[23]]$ganancia_test\n",
              "[1] 45810000\n",
              "\n",
              "\n",
              "[[24]]\n",
              "[[24]]$semilla\n",
              "[1] 410833\n",
              "\n",
              "[[24]]$testing\n",
              "[1] 49374\n",
              "\n",
              "[[24]]$testing_pos\n",
              "[1] 369\n",
              "\n",
              "[[24]]$envios\n",
              "[1] 3529\n",
              "\n",
              "[[24]]$aciertos\n",
              "[1] 195\n",
              "\n",
              "[[24]]$ganancia_test\n",
              "[1] 42710000\n",
              "\n",
              "\n",
              "[[25]]\n",
              "[[25]]$semilla\n",
              "[1] 159931\n",
              "\n",
              "[[25]]$testing\n",
              "[1] 49384\n",
              "\n",
              "[[25]]$testing_pos\n",
              "[1] 377\n",
              "\n",
              "[[25]]$envios\n",
              "[1] 3268\n",
              "\n",
              "[[25]]$aciertos\n",
              "[1] 206\n",
              "\n",
              "[[25]]$ganancia_test\n",
              "[1] 49720000\n",
              "\n",
              "\n",
              "[[26]]\n",
              "[[26]]$semilla\n",
              "[1] 234461\n",
              "\n",
              "[[26]]$testing\n",
              "[1] 49379\n",
              "\n",
              "[[26]]$testing_pos\n",
              "[1] 374\n",
              "\n",
              "[[26]]$envios\n",
              "[1] 4024\n",
              "\n",
              "[[26]]$aciertos\n",
              "[1] 222\n",
              "\n",
              "[[26]]$ganancia_test\n",
              "[1] 48560000\n",
              "\n",
              "\n",
              "[[27]]\n",
              "[[27]]$semilla\n",
              "[1] 856571\n",
              "\n",
              "[[27]]$testing\n",
              "[1] 49371\n",
              "\n",
              "[[27]]$testing_pos\n",
              "[1] 369\n",
              "\n",
              "[[27]]$envios\n",
              "[1] 3945\n",
              "\n",
              "[[27]]$aciertos\n",
              "[1] 215\n",
              "\n",
              "[[27]]$ganancia_test\n",
              "[1] 46550000\n",
              "\n",
              "\n",
              "[[28]]\n",
              "[[28]]$semilla\n",
              "[1] 144289\n",
              "\n",
              "[[28]]$testing\n",
              "[1] 49380\n",
              "\n",
              "[[28]]$testing_pos\n",
              "[1] 373\n",
              "\n",
              "[[28]]$envios\n",
              "[1] 3304\n",
              "\n",
              "[[28]]$aciertos\n",
              "[1] 201\n",
              "\n",
              "[[28]]$ganancia_test\n",
              "[1] 47360000\n",
              "\n",
              "\n",
              "[[29]]\n",
              "[[29]]$semilla\n",
              "[1] 114277\n",
              "\n",
              "[[29]]$testing\n",
              "[1] 49386\n",
              "\n",
              "[[29]]$testing_pos\n",
              "[1] 374\n",
              "\n",
              "[[29]]$envios\n",
              "[1] 3125\n",
              "\n",
              "[[29]]$aciertos\n",
              "[1] 202\n",
              "\n",
              "[[29]]$ganancia_test\n",
              "[1] 49550000\n",
              "\n",
              "\n",
              "[[30]]\n",
              "[[30]]$semilla\n",
              "[1] 414763\n",
              "\n",
              "[[30]]$testing\n",
              "[1] 49372\n",
              "\n",
              "[[30]]$testing_pos\n",
              "[1] 372\n",
              "\n",
              "[[30]]$envios\n",
              "[1] 3561\n",
              "\n",
              "[[30]]$aciertos\n",
              "[1] 210\n",
              "\n",
              "[[30]]$ganancia_test\n",
              "[1] 48390000\n",
              "\n",
              "\n",
              "[[31]]\n",
              "[[31]]$semilla\n",
              "[1] 704189\n",
              "\n",
              "[[31]]$testing\n",
              "[1] 49384\n",
              "\n",
              "[[31]]$testing_pos\n",
              "[1] 379\n",
              "\n",
              "[[31]]$envios\n",
              "[1] 2674\n",
              "\n",
              "[[31]]$aciertos\n",
              "[1] 195\n",
              "\n",
              "[[31]]$ganancia_test\n",
              "[1] 51260000\n",
              "\n",
              "\n",
              "[[32]]\n",
              "[[32]]$semilla\n",
              "[1] 774703\n",
              "\n",
              "[[32]]$testing\n",
              "[1] 49375\n",
              "\n",
              "[[32]]$testing_pos\n",
              "[1] 374\n",
              "\n",
              "[[32]]$envios\n",
              "[1] 3446\n",
              "\n",
              "[[32]]$aciertos\n",
              "[1] 197\n",
              "\n",
              "[[32]]$ganancia_test\n",
              "[1] 44340000\n",
              "\n",
              "\n",
              "[[33]]\n",
              "[[33]]$semilla\n",
              "[1] 712183\n",
              "\n",
              "[[33]]$testing\n",
              "[1] 49379\n",
              "\n",
              "[[33]]$testing_pos\n",
              "[1] 377\n",
              "\n",
              "[[33]]$envios\n",
              "[1] 4121\n",
              "\n",
              "[[33]]$aciertos\n",
              "[1] 232\n",
              "\n",
              "[[33]]$ganancia_test\n",
              "[1] 51590000\n",
              "\n",
              "\n",
              "[[34]]\n",
              "[[34]]$semilla\n",
              "[1] 842473\n",
              "\n",
              "[[34]]$testing\n",
              "[1] 49380\n",
              "\n",
              "[[34]]$testing_pos\n",
              "[1] 374\n",
              "\n",
              "[[34]]$envios\n",
              "[1] 3267\n",
              "\n",
              "[[34]]$aciertos\n",
              "[1] 209\n",
              "\n",
              "[[34]]$ganancia_test\n",
              "[1] 50930000\n",
              "\n",
              "\n",
              "[[35]]\n",
              "[[35]]$semilla\n",
              "[1] 902119\n",
              "\n",
              "[[35]]$testing\n",
              "[1] 49377\n",
              "\n",
              "[[35]]$testing_pos\n",
              "[1] 373\n",
              "\n",
              "[[35]]$envios\n",
              "[1] 3237\n",
              "\n",
              "[[35]]$aciertos\n",
              "[1] 204\n",
              "\n",
              "[[35]]$ganancia_test\n",
              "[1] 49230000\n",
              "\n",
              "\n",
              "[[36]]\n",
              "[[36]]$semilla\n",
              "[1] 986143\n",
              "\n",
              "[[36]]$testing\n",
              "[1] 49380\n",
              "\n",
              "[[36]]$testing_pos\n",
              "[1] 375\n",
              "\n",
              "[[36]]$envios\n",
              "[1] 3310\n",
              "\n",
              "[[36]]$aciertos\n",
              "[1] 212\n",
              "\n",
              "[[36]]$ganancia_test\n",
              "[1] 51700000\n",
              "\n",
              "\n",
              "[[37]]\n",
              "[[37]]$semilla\n",
              "[1] 354271\n",
              "\n",
              "[[37]]$testing\n",
              "[1] 49384\n",
              "\n",
              "[[37]]$testing_pos\n",
              "[1] 380\n",
              "\n",
              "[[37]]$envios\n",
              "[1] 2521\n",
              "\n",
              "[[37]]$aciertos\n",
              "[1] 169\n",
              "\n",
              "[[37]]$ganancia_test\n",
              "[1] 42390000\n",
              "\n",
              "\n",
              "[[38]]\n",
              "[[38]]$semilla\n",
              "[1] 711959\n",
              "\n",
              "[[38]]$testing\n",
              "[1] 49382\n",
              "\n",
              "[[38]]$testing_pos\n",
              "[1] 375\n",
              "\n",
              "[[38]]$envios\n",
              "[1] 2502\n",
              "\n",
              "[[38]]$aciertos\n",
              "[1] 165\n",
              "\n",
              "[[38]]$ganancia_test\n",
              "[1] 40980000\n",
              "\n",
              "\n",
              "[[39]]\n",
              "[[39]]$semilla\n",
              "[1] 208457\n",
              "\n",
              "[[39]]$testing\n",
              "[1] 49386\n",
              "\n",
              "[[39]]$testing_pos\n",
              "[1] 373\n",
              "\n",
              "[[39]]$envios\n",
              "[1] 3614\n",
              "\n",
              "[[39]]$aciertos\n",
              "[1] 210\n",
              "\n",
              "[[39]]$ganancia_test\n",
              "[1] 47860000\n",
              "\n",
              "\n",
              "[[40]]\n",
              "[[40]]$semilla\n",
              "[1] 909061\n",
              "\n",
              "[[40]]$testing\n",
              "[1] 49374\n",
              "\n",
              "[[40]]$testing_pos\n",
              "[1] 376\n",
              "\n",
              "[[40]]$envios\n",
              "[1] 3796\n",
              "\n",
              "[[40]]$aciertos\n",
              "[1] 217\n",
              "\n",
              "[[40]]$ganancia_test\n",
              "[1] 48840000\n",
              "\n",
              "\n",
              "[[41]]\n",
              "[[41]]$semilla\n",
              "[1] 931849\n",
              "\n",
              "[[41]]$testing\n",
              "[1] 49391\n",
              "\n",
              "[[41]]$testing_pos\n",
              "[1] 378\n",
              "\n",
              "[[41]]$envios\n",
              "[1] 3772\n",
              "\n",
              "[[41]]$aciertos\n",
              "[1] 220\n",
              "\n",
              "[[41]]$ganancia_test\n",
              "[1] 50280000\n",
              "\n",
              "\n",
              "[[42]]\n",
              "[[42]]$semilla\n",
              "[1] 831443\n",
              "\n",
              "[[42]]$testing\n",
              "[1] 49368\n",
              "\n",
              "[[42]]$testing_pos\n",
              "[1] 368\n",
              "\n",
              "[[42]]$envios\n",
              "[1] 4816\n",
              "\n",
              "[[42]]$aciertos\n",
              "[1] 245\n",
              "\n",
              "[[42]]$ganancia_test\n",
              "[1] 49840000\n",
              "\n",
              "\n",
              "[[43]]\n",
              "[[43]]$semilla\n",
              "[1] 869927\n",
              "\n",
              "[[43]]$testing\n",
              "[1] 49376\n",
              "\n",
              "[[43]]$testing_pos\n",
              "[1] 379\n",
              "\n",
              "[[43]]$envios\n",
              "[1] 2914\n",
              "\n",
              "[[43]]$aciertos\n",
              "[1] 190\n",
              "\n",
              "[[43]]$ganancia_test\n",
              "[1] 46860000\n",
              "\n",
              "\n",
              "[[44]]\n",
              "[[44]]$semilla\n",
              "[1] 939299\n",
              "\n",
              "[[44]]$testing\n",
              "[1] 49381\n",
              "\n",
              "[[44]]$testing_pos\n",
              "[1] 372\n",
              "\n",
              "[[44]]$envios\n",
              "[1] 3461\n",
              "\n",
              "[[44]]$aciertos\n",
              "[1] 198\n",
              "\n",
              "[[44]]$ganancia_test\n",
              "[1] 44590000\n",
              "\n",
              "\n",
              "[[45]]\n",
              "[[45]]$semilla\n",
              "[1] 693701\n",
              "\n",
              "[[45]]$testing\n",
              "[1] 49373\n",
              "\n",
              "[[45]]$testing_pos\n",
              "[1] 380\n",
              "\n",
              "[[45]]$envios\n",
              "[1] 4336\n",
              "\n",
              "[[45]]$aciertos\n",
              "[1] 225\n",
              "\n",
              "[[45]]$ganancia_test\n",
              "[1] 46640000\n",
              "\n",
              "\n",
              "[[46]]\n",
              "[[46]]$semilla\n",
              "[1] 316177\n",
              "\n",
              "[[46]]$testing\n",
              "[1] 49386\n",
              "\n",
              "[[46]]$testing_pos\n",
              "[1] 374\n",
              "\n",
              "[[46]]$envios\n",
              "[1] 3863\n",
              "\n",
              "[[46]]$aciertos\n",
              "[1] 217\n",
              "\n",
              "[[46]]$ganancia_test\n",
              "[1] 48170000\n",
              "\n",
              "\n",
              "[[47]]\n",
              "[[47]]$semilla\n",
              "[1] 259583\n",
              "\n",
              "[[47]]$testing\n",
              "[1] 49384\n",
              "\n",
              "[[47]]$testing_pos\n",
              "[1] 378\n",
              "\n",
              "[[47]]$envios\n",
              "[1] 3523\n",
              "\n",
              "[[47]]$aciertos\n",
              "[1] 217\n",
              "\n",
              "[[47]]$ganancia_test\n",
              "[1] 51570000\n",
              "\n",
              "\n",
              "[[48]]\n",
              "[[48]]$semilla\n",
              "[1] 542693\n",
              "\n",
              "[[48]]$testing\n",
              "[1] 49372\n",
              "\n",
              "[[48]]$testing_pos\n",
              "[1] 375\n",
              "\n",
              "[[48]]$envios\n",
              "[1] 2905\n",
              "\n",
              "[[48]]$aciertos\n",
              "[1] 205\n",
              "\n",
              "[[48]]$ganancia_test\n",
              "[1] 52950000\n",
              "\n",
              "\n",
              "[[49]]\n",
              "[[49]]$semilla\n",
              "[1] 457813\n",
              "\n",
              "[[49]]$testing\n",
              "[1] 49384\n",
              "\n",
              "[[49]]$testing_pos\n",
              "[1] 372\n",
              "\n",
              "[[49]]$envios\n",
              "[1] 2624\n",
              "\n",
              "[[49]]$aciertos\n",
              "[1] 187\n",
              "\n",
              "[[49]]$ganancia_test\n",
              "[1] 48560000\n",
              "\n",
              "\n",
              "[[50]]\n",
              "[[50]]$semilla\n",
              "[1] 399493\n",
              "\n",
              "[[50]]$testing\n",
              "[1] 49389\n",
              "\n",
              "[[50]]$testing_pos\n",
              "[1] 378\n",
              "\n",
              "[[50]]$envios\n",
              "[1] 3146\n",
              "\n",
              "[[50]]$aciertos\n",
              "[1] 214\n",
              "\n",
              "[[50]]$ganancia_test\n",
              "[1] 54140000\n",
              "\n"
            ]
          },
          "metadata": {}
        }
      ]
    },
    {
      "cell_type": "code",
      "source": [
        "# paso la lista a vector\n",
        "tb_salida <- rbindlist(salidas)\n",
        "print( tb_salida)"
      ],
      "metadata": {
        "id": "unGWiKRMGimU",
        "outputId": "6526a182-b958-4199-e815-fee006b4f665",
        "colab": {
          "base_uri": "https://localhost:8080/"
        }
      },
      "execution_count": null,
      "outputs": [
        {
          "output_type": "stream",
          "name": "stdout",
          "text": [
            "    semilla testing testing_pos envios aciertos ganancia_test\n",
            "      <int>   <int>       <int>  <int>    <int>         <num>\n",
            " 1:  394367   49368         375   3383      204      47770000\n",
            " 2:  148073   49376         369   3264      209      50960000\n",
            " 3:  570139   49371         375   3196      204      49640000\n",
            " 4:  252761   49386         377   3784      219      49760000\n",
            " 5:  417773   49371         368   3163      202      49170000\n",
            " 6:  233159   49379         378   3612      204      45480000\n",
            " 7:  127657   49383         375   3126      200      48740000\n",
            " 8:  630701   49374         372   3149      193      45710000\n",
            " 9:  476317   49383         378   3007      193      47130000\n",
            "10:  204101   49381         379   4165      228      49550000\n",
            "11:  801973   49366         372   4011      240      55890000\n",
            "12:  616897   49378         366   2842      177      42380000\n",
            "13:  905581   49382         367   3282      199      46780000\n",
            "14:  240259   49387         377   3514      212      49660000\n",
            "15:  330217   49365         373   3410      214      51500000\n",
            "16:  852239   49381         375   3546      207      47340000\n",
            "17:  574963   49375         371   2956      200      50440000\n",
            "18:  641467   49375         371   3414      219      53460000\n",
            "19:  826093   49381         374   3178      206      50620000\n",
            "20:  228887   49369         372   2550      167      41300000\n",
            "21:  589213   49383         374   3053      199      49070000\n",
            "22:  554747   49374         377   3704      214      48560000\n",
            "23:  443453   49382         369   3219      195      45810000\n",
            "24:  410833   49374         369   3529      195      42710000\n",
            "25:  159931   49384         377   3268      206      49720000\n",
            "26:  234461   49379         374   4024      222      48560000\n",
            "27:  856571   49371         369   3945      215      46550000\n",
            "28:  144289   49380         373   3304      201      47360000\n",
            "29:  114277   49386         374   3125      202      49550000\n",
            "30:  414763   49372         372   3561      210      48390000\n",
            "31:  704189   49384         379   2674      195      51260000\n",
            "32:  774703   49375         374   3446      197      44340000\n",
            "33:  712183   49379         377   4121      232      51590000\n",
            "34:  842473   49380         374   3267      209      50930000\n",
            "35:  902119   49377         373   3237      204      49230000\n",
            "36:  986143   49380         375   3310      212      51700000\n",
            "37:  354271   49384         380   2521      169      42390000\n",
            "38:  711959   49382         375   2502      165      40980000\n",
            "39:  208457   49386         373   3614      210      47860000\n",
            "40:  909061   49374         376   3796      217      48840000\n",
            "41:  931849   49391         378   3772      220      50280000\n",
            "42:  831443   49368         368   4816      245      49840000\n",
            "43:  869927   49376         379   2914      190      46860000\n",
            "44:  939299   49381         372   3461      198      44590000\n",
            "45:  693701   49373         380   4336      225      46640000\n",
            "46:  316177   49386         374   3863      217      48170000\n",
            "47:  259583   49384         378   3523      217      51570000\n",
            "48:  542693   49372         375   2905      205      52950000\n",
            "49:  457813   49384         372   2624      187      48560000\n",
            "50:  399493   49389         378   3146      214      54140000\n",
            "    semilla testing testing_pos envios aciertos ganancia_test\n"
          ]
        }
      ]
    },
    {
      "cell_type": "code",
      "source": [
        "# calulo la salida\n",
        "for( i in seq(10, 50, 10) )\n",
        "{\n",
        "  cat( i, \"\\t\", tb_salida[ 1:i, mean(ganancia_test)], \"\\n\" )\n",
        "}\n"
      ],
      "metadata": {
        "id": "oGoadhBKGimV",
        "outputId": "7b9e01a5-5048-42d4-8c1e-f2cb1b92ec5a",
        "colab": {
          "base_uri": "https://localhost:8080/"
        }
      },
      "execution_count": null,
      "outputs": [
        {
          "output_type": "stream",
          "name": "stdout",
          "text": [
            "10 \t 48391000 \n",
            "20 \t 48664000 \n",
            "30 \t 48318667 \n",
            "40 \t 48217000 \n",
            "50 \t 48445600 \n"
          ]
        }
      ]
    },
    {
      "cell_type": "markdown",
      "source": [
        "### Acciones a realizar\n",
        "* Reportar la  los resultados en la planilla colaborativa hoja  **C2-nsem**\n",
        "* Se discutirá en clase la variabilidad de las distintas cantidades de semillas"
      ],
      "metadata": {
        "id": "dO9yQKt7GimV"
      }
    },
    {
      "cell_type": "markdown",
      "source": [
        "\n",
        "\n",
        "---\n",
        "\n"
      ],
      "metadata": {
        "id": "ziFKwIlBGimW"
      }
    },
    {
      "cell_type": "markdown",
      "source": [
        "# 5  DiezMil -Monte Carlo Cross Validation\n",
        "## Clase 02  Experimento 5"
      ],
      "metadata": {
        "id": "2jncHe-KJLUg"
      }
    },
    {
      "cell_type": "markdown",
      "source": [
        "Mostrar a los estudiantes el resultado de un experimento en donde se ha corrido una Monte Carlo Cross Validation utilizando diez mil semillas y relacionar la cantidad de semillas con el resultado del Teorema Central del Límite\n",
        "<br>Los resultados se muestran en esta misma guia y se comentan en clase,Bajo ningún concepto se solicitará a l@s estudiantes hacer este experimento en clase ya que lleva varias horas en correr.\n"
      ],
      "metadata": {
        "id": "vUzSGZGOJZq8"
      }
    },
    {
      "cell_type": "markdown",
      "source": [
        "Aqui usted NO debe correr absolutamente nada, el experimento ya fue corrido por la cátedra y le muestra los resultados."
      ],
      "metadata": {
        "id": "G0YGjTMxuTSg"
      }
    },
    {
      "cell_type": "markdown",
      "source": [
        "## 5.1\n",
        "Estos resultados han sido corridos por la cátedra.\n",
        "\n",
        "![Distribucion de las ganancias](https://storage.googleapis.com/open-courses/austral2025-af91/labo1r/C2_E5_distribucion.jpg)"
      ],
      "metadata": {
        "id": "7NRUb3WtJikc"
      }
    },
    {
      "cell_type": "markdown",
      "source": [
        "![salida](https://storage.googleapis.com/open-courses/austral2025-af91/labo1r/C2_E5_salida.jpg)"
      ],
      "metadata": {
        "id": "tZ4X8wdSKc7G"
      }
    },
    {
      "cell_type": "markdown",
      "source": [
        "![tabla](https://storage.googleapis.com/open-courses/austral2025-af91/labo1r/C2_E5_tabla.jpg)\n",
        "\n",
        " 2    ~    1,96  =  3605406.2 / 1836264.3\n",
        "\n",
        "Por el teorema central del límite, un aumento de 4 veces de la cantidad de registros que se promedian el desvio estandar disminuye 2 veces ,  raiz(4 ) = 2"
      ],
      "metadata": {
        "id": "EsL5ukNWKS71"
      }
    },
    {
      "cell_type": "markdown",
      "source": [
        "\n",
        "\n",
        "---\n",
        "\n"
      ],
      "metadata": {
        "id": "OTLq8TC4LR0c"
      }
    },
    {
      "cell_type": "markdown",
      "source": [
        "# 6 Comparando dos distintos  modelos\n",
        "## Clase 02  Experimento 6"
      ],
      "metadata": {
        "id": "sAS1bfL8LmBv"
      }
    },
    {
      "cell_type": "markdown",
      "source": [
        "## 6.1  Objetivos\n",
        "Presentar a los alumnos la dificultad que se presenta ante la comparación de dos modelos, uno posee un poder predictivo claramente mayor al otro.\n",
        "Comparación simple de media de ganancias, versus probabilidad que un modelo sea superior a otro."
      ],
      "metadata": {
        "id": "KzwdMJDZLmB9"
      }
    },
    {
      "cell_type": "markdown",
      "source": [
        "## 6.2 Introduccion\n",
        "Estos son los dos arboles de muy distinta profundidad.\n",
        "<br>¿Cuál de ellos es mejor? ¿Cuál elijo?\n",
        "\n",
        "| Hiperparámetro | Arbol 1 | Arbol 2 |\n",
        "| --- | --: |  ---: |\n",
        "| cp | -1 | -1 |\n",
        "|minsplit | 170 | 250 |\n",
        "|minbucket | 70 | 125 |\n",
        "|maxdepth | 7 | 20 |\n",
        "\n"
      ],
      "metadata": {
        "id": "DDyFNmJ9L_CW"
      }
    },
    {
      "cell_type": "markdown",
      "source": [
        "## 6.3 Codigo dos distintos modelos"
      ],
      "metadata": {
        "id": "bQfwNsVzNrtI"
      }
    },
    {
      "cell_type": "markdown",
      "source": [
        "Esta parte se debe correr con el runtime en lenguaje **R** Ir al menu, Runtime -> Change Runtime Tipe -> Runtime type -> R"
      ],
      "metadata": {
        "id": "Ku7qQgKjNruJ"
      }
    },
    {
      "cell_type": "markdown",
      "source": [
        "El tiempo de corrida es de alrededor de 40 minutos"
      ],
      "metadata": {
        "id": "6jCdS3NMuKei"
      }
    },
    {
      "cell_type": "markdown",
      "source": [
        "limpio el ambiente de R"
      ],
      "metadata": {
        "id": "Z1EUBeHyNruK"
      }
    },
    {
      "cell_type": "code",
      "source": [
        "# limpio la memoria\n",
        "rm(list=ls(all.names=TRUE)) # remove all objects\n",
        "gc(full=TRUE, verbose=FALSE) # garbage collection"
      ],
      "metadata": {
        "id": "GxbC4V3zNruM",
        "colab": {
          "base_uri": "https://localhost:8080/",
          "height": 129
        },
        "outputId": "f17eb6a8-fbc0-4d29-8f02-9a6d721dd556"
      },
      "execution_count": 19,
      "outputs": [
        {
          "output_type": "display_data",
          "data": {
            "text/html": [
              "<table class=\"dataframe\">\n",
              "<caption>A matrix: 2 × 6 of type dbl</caption>\n",
              "<thead>\n",
              "\t<tr><th></th><th scope=col>used</th><th scope=col>(Mb)</th><th scope=col>gc trigger</th><th scope=col>(Mb)</th><th scope=col>max used</th><th scope=col>(Mb)</th></tr>\n",
              "</thead>\n",
              "<tbody>\n",
              "\t<tr><th scope=row>Ncells</th><td> 749657</td><td>40.1</td><td> 1454474</td><td> 77.7</td><td> 1454474</td><td> 77.7</td></tr>\n",
              "\t<tr><th scope=row>Vcells</th><td>1418460</td><td>10.9</td><td>67925760</td><td>518.3</td><td>79561420</td><td>607.1</td></tr>\n",
              "</tbody>\n",
              "</table>\n"
            ],
            "text/markdown": "\nA matrix: 2 × 6 of type dbl\n\n| <!--/--> | used | (Mb) | gc trigger | (Mb) | max used | (Mb) |\n|---|---|---|---|---|---|---|\n| Ncells |  749657 | 40.1 |  1454474 |  77.7 |  1454474 |  77.7 |\n| Vcells | 1418460 | 10.9 | 67925760 | 518.3 | 79561420 | 607.1 |\n\n",
            "text/latex": "A matrix: 2 × 6 of type dbl\n\\begin{tabular}{r|llllll}\n  & used & (Mb) & gc trigger & (Mb) & max used & (Mb)\\\\\n\\hline\n\tNcells &  749657 & 40.1 &  1454474 &  77.7 &  1454474 &  77.7\\\\\n\tVcells & 1418460 & 10.9 & 67925760 & 518.3 & 79561420 & 607.1\\\\\n\\end{tabular}\n",
            "text/plain": [
              "       used    (Mb) gc trigger (Mb)  max used (Mb) \n",
              "Ncells  749657 40.1  1454474    77.7  1454474  77.7\n",
              "Vcells 1418460 10.9 67925760   518.3 79561420 607.1"
            ]
          },
          "metadata": {}
        }
      ]
    },
    {
      "cell_type": "markdown",
      "source": [
        "* Instalacion de la libreria  rpart.plot  para dibujar el arbol\n",
        "* invocacion de las librerias  **data.table** y  **rpart**"
      ],
      "metadata": {
        "id": "i2WkSCIhNruQ"
      }
    },
    {
      "cell_type": "code",
      "source": [
        "# cargo las librerias que necesito\n",
        "require(\"data.table\")\n",
        "require(\"rpart\")\n",
        "require(\"parallel\")\n",
        "\n",
        "if (!require(\"primes\")) install.packages(\"primes\")\n",
        "require(\"primes\")\n",
        "\n",
        "require(\"ggplot2\")"
      ],
      "metadata": {
        "id": "3bMsgZJWNruR",
        "colab": {
          "base_uri": "https://localhost:8080/"
        },
        "outputId": "fad9ff41-58d5-4511-fc48-0ac5f7667683"
      },
      "execution_count": 20,
      "outputs": [
        {
          "output_type": "stream",
          "name": "stderr",
          "text": [
            "Loading required package: primes\n",
            "\n",
            "Loading required package: ggplot2\n",
            "\n"
          ]
        }
      ]
    },
    {
      "cell_type": "markdown",
      "source": [
        "###  Accion a Realizar\n",
        "PARAM$semilla_primigenia  debe reemplazarse por SU primer semilla"
      ],
      "metadata": {
        "id": "t1lTXrKaNruT"
      }
    },
    {
      "cell_type": "code",
      "source": [
        "PARAM <- list()\n",
        "PARAM$semilla_primigenia <- 245681\n",
        "PARAM$qsemillas <- 20\n",
        "PARAM$training_pct <- 70L     # entre 1 y 100\n"
      ],
      "metadata": {
        "id": "QFbPtTCMNruV"
      },
      "execution_count": 21,
      "outputs": []
    },
    {
      "cell_type": "code",
      "source": [
        "# los dos arboles\n",
        "PARAM$rpart1 <- list (\n",
        "  \"cp\" = -1,\n",
        "  \"minsplit\" = 170,\n",
        "  \"minbucket\" = 70,\n",
        "  \"maxdepth\" = 7\n",
        ")\n",
        "\n",
        "\n",
        "PARAM$rpart2 <- list (\n",
        "  \"cp\" = -1,\n",
        "  \"minsplit\" = 250,\n",
        "  \"minbucket\" = 125,\n",
        "  \"maxdepth\" = 20\n",
        ")"
      ],
      "metadata": {
        "id": "GiBGk7WKQv2V"
      },
      "execution_count": 22,
      "outputs": []
    },
    {
      "cell_type": "code",
      "source": [
        "# particionar agrega una columna llamada fold a un dataset\n",
        "#  que consiste en una particion estratificada segun agrupa\n",
        "\n",
        "# particionar( data=dataset, division=c(70,30),\n",
        "#  agrupa=clase_ternaria, seed=semilla)   crea una particion 70, 30\n",
        "\n",
        "particionar <- function(\n",
        "    data, division, agrupa = \"\",\n",
        "    campo = \"fold\", start = 1, seed = NA) {\n",
        "  if (!is.na(seed)) set.seed(seed)\n",
        "\n",
        "  bloque <- unlist(mapply(function(x, y) {\n",
        "    rep(y, x)\n",
        "  }, division, seq(from = start, length.out = length(division))))\n",
        "\n",
        "  data[, (campo) := sample(rep(bloque, ceiling(.N / length(bloque))))[1:.N],\n",
        "    by = agrupa\n",
        "  ]\n",
        "}\n"
      ],
      "metadata": {
        "id": "2BabfKg7NruX"
      },
      "execution_count": 23,
      "outputs": []
    },
    {
      "cell_type": "code",
      "source": [
        "DosArbolesEstimarGanancia <- function(semilla, training_pct, param_rpart1, param_rpart2) {\n",
        "\n",
        "  # fuerzo impresion\n",
        "  print( paste( semilla, Sys.time()) )\n",
        "  flush.console()\n",
        "\n",
        "  # particiono estratificadamente el dataset\n",
        "  particionar(dataset,\n",
        "    division = c(training_pct, 100L -training_pct),\n",
        "    agrupa = \"clase_ternaria\",\n",
        "    seed = semilla # aqui se usa SU semilla\n",
        "  )\n",
        "\n",
        "  # genero el modelo\n",
        "  # predecir clase_ternaria a partir del resto\n",
        "  modelo1 <- rpart(\"clase_ternaria ~ .\",\n",
        "    data = dataset[fold == 1], # fold==1  es training,  el 70% de los datos\n",
        "    xval = 0,\n",
        "    control = param_rpart1\n",
        "  ) # aqui van los parametros del arbol\n",
        "\n",
        "  # aplico el modelo a los datos de testing\n",
        "  prediccion1 <- predict(modelo1, # el modelo que genere recien\n",
        "    dataset[fold == 2], # fold==2  es testing, el 30% de los datos\n",
        "    type = \"prob\"\n",
        "  ) # type= \"prob\"  es que devuelva la probabilidad\n",
        "\n",
        "\n",
        "  # calculo la ganancia en testing  qu es fold==2\n",
        "  ganancia_test1 <- dataset[\n",
        "    fold == 2,\n",
        "    sum(ifelse(prediccion1[, \"BAJA+2\"] > 0.025,\n",
        "      ifelse(clase_ternaria == \"BAJA+2\", 117000, -3000),\n",
        "      0\n",
        "    ))\n",
        "  ]\n",
        "\n",
        "  # escalo la ganancia como si fuera todo el dataset\n",
        "  ganancia_test_normalizada1 <- ganancia_test1 / (( 100 - training_pct ) / 100 )\n",
        "\n",
        "  modelo2 <- rpart(\"clase_ternaria ~ .\",\n",
        "    data = dataset[fold == 1], # fold==1  es training,  el 70% de los datos\n",
        "    xval = 0,\n",
        "    control = param_rpart2\n",
        "  ) # aqui van los parametros del arbol\n",
        "\n",
        "  # aplico el modelo a los datos de testing\n",
        "  prediccion2 <- predict(modelo2, # el modelo que genere recien\n",
        "    dataset[fold == 2], # fold==2  es testing, el 30% de los datos\n",
        "    type = \"prob\"\n",
        "  ) # type= \"prob\"  es que devuelva la probabilidad\n",
        "\n",
        "\n",
        "  # calculo la ganancia en testing  qu es fold==2\n",
        "  ganancia_test2 <- dataset[\n",
        "    fold == 2,\n",
        "    sum(ifelse(prediccion2[, \"BAJA+2\"] > 0.025,\n",
        "      ifelse(clase_ternaria == \"BAJA+2\", 117000, -3000),\n",
        "      0\n",
        "    ))\n",
        "  ]\n",
        "\n",
        "  # escalo la ganancia como si fuera todo el dataset\n",
        "  ganancia_test_normalizada2 <- ganancia_test2 / (( 100 - training_pct ) / 100 )\n",
        "\n",
        "  return(list(\n",
        "    \"semilla\" = semilla,\n",
        "    \"ganancia1\" = ganancia_test_normalizada1,\n",
        "    \"ganancia2\" = ganancia_test_normalizada2\n",
        "  ))\n",
        "}"
      ],
      "metadata": {
        "id": "YrGJgj4UNruZ"
      },
      "execution_count": 24,
      "outputs": []
    },
    {
      "cell_type": "code",
      "source": [
        "# carpeta de trabajo\n",
        "setwd(\"/content/buckets/b1/exp\")\n",
        "experimento <- \"exp206\"\n",
        "dir.create(experimento, showWarnings=FALSE)\n",
        "setwd( paste0(\"/content/buckets/b1/exp/\", experimento ))"
      ],
      "metadata": {
        "id": "2C2yjgQVNrud"
      },
      "execution_count": 25,
      "outputs": []
    },
    {
      "cell_type": "code",
      "source": [
        "# lectura del dataset\n",
        "dataset <- fread(\"/content/datasets/dataset_pequeno.csv\")\n",
        "\n",
        "# trabajo solo con los datos con clase, es decir 202107\n",
        "dataset <- dataset[clase_ternaria != \"\"]"
      ],
      "metadata": {
        "id": "oQeGcBnPNrug"
      },
      "execution_count": 26,
      "outputs": []
    },
    {
      "cell_type": "code",
      "source": [
        "detectCores()"
      ],
      "metadata": {
        "id": "gXKI2eXO9Osx",
        "colab": {
          "base_uri": "https://localhost:8080/",
          "height": 34
        },
        "outputId": "be07665a-dfd3-42d8-e426-1bc59979ad98"
      },
      "execution_count": 27,
      "outputs": [
        {
          "output_type": "display_data",
          "data": {
            "text/html": [
              "2"
            ],
            "text/markdown": "2",
            "text/latex": "2",
            "text/plain": [
              "[1] 2"
            ]
          },
          "metadata": {}
        }
      ]
    },
    {
      "cell_type": "code",
      "source": [
        "# genero numeros primos\n",
        "primos <- generate_primes(min = 100000, max = 1000000)\n",
        "set.seed(PARAM$semilla_primigenia) # inicializo\n",
        "\n",
        "# me quedo con PARAM$qsemillas   semillas\n",
        "PARAM$semillas <- sample(primos, PARAM$qsemillas )"
      ],
      "metadata": {
        "id": "tU8S7_5ANrui"
      },
      "execution_count": 28,
      "outputs": []
    },
    {
      "cell_type": "code",
      "source": [
        "# demora interminables 60 minutos en correr en Google Colab\n",
        "Sys.time()\n",
        "\n",
        "salidas <- mcmapply( DosArbolesEstimarGanancia,\n",
        "  PARAM$semillas, # paso el vector de semillas\n",
        "  MoreArgs = list(PARAM$training_pct, PARAM$rpart1, PARAM$rpart2), # aqui paso el segundo parametro\n",
        "  SIMPLIFY = FALSE,\n",
        "  mc.cores = detectCores()\n",
        ")\n",
        "\n",
        "Sys.time()"
      ],
      "metadata": {
        "id": "mlF66CgxcHF3",
        "colab": {
          "base_uri": "https://localhost:8080/",
          "height": 52
        },
        "outputId": "79cd51ec-348d-43b6-e849-08586ce317f6"
      },
      "execution_count": 29,
      "outputs": [
        {
          "output_type": "display_data",
          "data": {
            "text/plain": [
              "[1] \"2025-10-15 01:15:27 UTC\""
            ]
          },
          "metadata": {}
        },
        {
          "output_type": "display_data",
          "data": {
            "text/plain": [
              "[1] \"2025-10-15 02:17:37 UTC\""
            ]
          },
          "metadata": {}
        }
      ]
    },
    {
      "cell_type": "code",
      "source": [
        "# paso la lista a vector\n",
        "tb_salida <- rbindlist(salidas)\n",
        "tb_salida"
      ],
      "metadata": {
        "id": "_g-_kccdNrum",
        "colab": {
          "base_uri": "https://localhost:8080/",
          "height": 725
        },
        "outputId": "01aa432c-9b96-411d-9eab-06b373039382"
      },
      "execution_count": 30,
      "outputs": [
        {
          "output_type": "display_data",
          "data": {
            "text/html": [
              "<table class=\"dataframe\">\n",
              "<caption>A data.table: 20 × 3</caption>\n",
              "<thead>\n",
              "\t<tr><th scope=col>semilla</th><th scope=col>ganancia1</th><th scope=col>ganancia2</th></tr>\n",
              "\t<tr><th scope=col>&lt;int&gt;</th><th scope=col>&lt;dbl&gt;</th><th scope=col>&lt;dbl&gt;</th></tr>\n",
              "</thead>\n",
              "<tbody>\n",
              "\t<tr><td>570643</td><td>47590000</td><td>36950000</td></tr>\n",
              "\t<tr><td>654127</td><td>45550000</td><td>43200000</td></tr>\n",
              "\t<tr><td>300857</td><td>47310000</td><td>43810000</td></tr>\n",
              "\t<tr><td>474389</td><td>53610000</td><td>50260000</td></tr>\n",
              "\t<tr><td>696887</td><td>45290000</td><td>40610000</td></tr>\n",
              "\t<tr><td>759037</td><td>46850000</td><td>44080000</td></tr>\n",
              "\t<tr><td>272603</td><td>51350000</td><td>40800000</td></tr>\n",
              "\t<tr><td>691129</td><td>47060000</td><td>42310000</td></tr>\n",
              "\t<tr><td>643273</td><td>51180000</td><td>47000000</td></tr>\n",
              "\t<tr><td>509723</td><td>44590000</td><td>40350000</td></tr>\n",
              "\t<tr><td>468889</td><td>54380000</td><td>48900000</td></tr>\n",
              "\t<tr><td>729451</td><td>47240000</td><td>43730000</td></tr>\n",
              "\t<tr><td>244303</td><td>39100000</td><td>34410000</td></tr>\n",
              "\t<tr><td>656701</td><td>45510000</td><td>40840000</td></tr>\n",
              "\t<tr><td>633877</td><td>42840000</td><td>38770000</td></tr>\n",
              "\t<tr><td>104233</td><td>45010000</td><td>42170000</td></tr>\n",
              "\t<tr><td>848567</td><td>46260000</td><td>39100000</td></tr>\n",
              "\t<tr><td>270937</td><td>51360000</td><td>44930000</td></tr>\n",
              "\t<tr><td>250919</td><td>47000000</td><td>38180000</td></tr>\n",
              "\t<tr><td>318737</td><td>50160000</td><td>37810000</td></tr>\n",
              "</tbody>\n",
              "</table>\n"
            ],
            "text/markdown": "\nA data.table: 20 × 3\n\n| semilla &lt;int&gt; | ganancia1 &lt;dbl&gt; | ganancia2 &lt;dbl&gt; |\n|---|---|---|\n| 570643 | 47590000 | 36950000 |\n| 654127 | 45550000 | 43200000 |\n| 300857 | 47310000 | 43810000 |\n| 474389 | 53610000 | 50260000 |\n| 696887 | 45290000 | 40610000 |\n| 759037 | 46850000 | 44080000 |\n| 272603 | 51350000 | 40800000 |\n| 691129 | 47060000 | 42310000 |\n| 643273 | 51180000 | 47000000 |\n| 509723 | 44590000 | 40350000 |\n| 468889 | 54380000 | 48900000 |\n| 729451 | 47240000 | 43730000 |\n| 244303 | 39100000 | 34410000 |\n| 656701 | 45510000 | 40840000 |\n| 633877 | 42840000 | 38770000 |\n| 104233 | 45010000 | 42170000 |\n| 848567 | 46260000 | 39100000 |\n| 270937 | 51360000 | 44930000 |\n| 250919 | 47000000 | 38180000 |\n| 318737 | 50160000 | 37810000 |\n\n",
            "text/latex": "A data.table: 20 × 3\n\\begin{tabular}{lll}\n semilla & ganancia1 & ganancia2\\\\\n <int> & <dbl> & <dbl>\\\\\n\\hline\n\t 570643 & 47590000 & 36950000\\\\\n\t 654127 & 45550000 & 43200000\\\\\n\t 300857 & 47310000 & 43810000\\\\\n\t 474389 & 53610000 & 50260000\\\\\n\t 696887 & 45290000 & 40610000\\\\\n\t 759037 & 46850000 & 44080000\\\\\n\t 272603 & 51350000 & 40800000\\\\\n\t 691129 & 47060000 & 42310000\\\\\n\t 643273 & 51180000 & 47000000\\\\\n\t 509723 & 44590000 & 40350000\\\\\n\t 468889 & 54380000 & 48900000\\\\\n\t 729451 & 47240000 & 43730000\\\\\n\t 244303 & 39100000 & 34410000\\\\\n\t 656701 & 45510000 & 40840000\\\\\n\t 633877 & 42840000 & 38770000\\\\\n\t 104233 & 45010000 & 42170000\\\\\n\t 848567 & 46260000 & 39100000\\\\\n\t 270937 & 51360000 & 44930000\\\\\n\t 250919 & 47000000 & 38180000\\\\\n\t 318737 & 50160000 & 37810000\\\\\n\\end{tabular}\n",
            "text/plain": [
              "   semilla ganancia1 ganancia2\n",
              "1  570643  47590000  36950000 \n",
              "2  654127  45550000  43200000 \n",
              "3  300857  47310000  43810000 \n",
              "4  474389  53610000  50260000 \n",
              "5  696887  45290000  40610000 \n",
              "6  759037  46850000  44080000 \n",
              "7  272603  51350000  40800000 \n",
              "8  691129  47060000  42310000 \n",
              "9  643273  51180000  47000000 \n",
              "10 509723  44590000  40350000 \n",
              "11 468889  54380000  48900000 \n",
              "12 729451  47240000  43730000 \n",
              "13 244303  39100000  34410000 \n",
              "14 656701  45510000  40840000 \n",
              "15 633877  42840000  38770000 \n",
              "16 104233  45010000  42170000 \n",
              "17 848567  46260000  39100000 \n",
              "18 270937  51360000  44930000 \n",
              "19 250919  47000000  38180000 \n",
              "20 318737  50160000  37810000 "
            ]
          },
          "metadata": {}
        }
      ]
    },
    {
      "cell_type": "code",
      "source": [
        "grafico <- ggplot( tb_salida, aes(x=ganancia1)) + geom_density(alpha=0.25, fill=\"green\", color=\"green\")  +\n",
        "             geom_density(data=tb_salida, aes(x=ganancia2), fill=\"purple\", color=\"purple\",  alpha=0.10)\n",
        "\n",
        "print(grafico)"
      ],
      "metadata": {
        "id": "-O0rg6btNrun",
        "colab": {
          "base_uri": "https://localhost:8080/",
          "height": 437
        },
        "outputId": "af2c8732-ae7f-40a3-e1c2-689e9649a516"
      },
      "execution_count": 31,
      "outputs": [
        {
          "output_type": "display_data",
          "data": {
            "text/plain": [
              "plot without title"
            ],
            "image/png": "[encoded data removed]"
          },
          "metadata": {
            "image/png": {
              "width": 420,
              "height": 420
            }
          }
        }
      ]
    },
    {
      "cell_type": "code",
      "source": [
        "# imprimo en un .pdf  que va a la carpeta del experimento\n",
        "pdf(\"densidad_dos.pdf\")\n",
        "print(grafico)\n",
        "dev.off()"
      ],
      "metadata": {
        "id": "uSqrazOyU_LC",
        "colab": {
          "base_uri": "https://localhost:8080/",
          "height": 34
        },
        "outputId": "7ade2786-b047-43b1-a20b-ce913c7e1119"
      },
      "execution_count": 32,
      "outputs": [
        {
          "output_type": "display_data",
          "data": {
            "text/html": [
              "<strong>agg_record_302895019:</strong> 2"
            ],
            "text/markdown": "**agg_record_302895019:** 2",
            "text/latex": "\\textbf{agg\\textbackslash{}\\_record\\textbackslash{}\\_302895019:} 2",
            "text/plain": [
              "agg_record_302895019 \n",
              "                   2 "
            ]
          },
          "metadata": {}
        }
      ]
    },
    {
      "cell_type": "code",
      "source": [
        "print( tb_salida[ , list( \"arbol1\" = mean( ganancia1),  \"arbol2\" = mean(ganancia2) ) ] )\n",
        "\n",
        "print( tb_salida[ , list( \"prob( m1 > m2)\" = sum(ganancia1 > ganancia2 )/ .N ) ]  )"
      ],
      "metadata": {
        "id": "LGv0LB_4R7US",
        "colab": {
          "base_uri": "https://localhost:8080/"
        },
        "outputId": "7667099b-5d0b-478f-fefa-281de853c8ee"
      },
      "execution_count": 35,
      "outputs": [
        {
          "output_type": "stream",
          "name": "stdout",
          "text": [
            "     arbol1   arbol2\n",
            "      <num>    <num>\n",
            "1: 47462000 41910500\n",
            "   prob( m1 > m2)\n",
            "            <num>\n",
            "1:              1\n"
          ]
        }
      ]
    },
    {
      "cell_type": "markdown",
      "source": [
        "### Acciones a realizar\n",
        "* Reportar la  los resultados en la planilla colaborativa hoja  **C2-dosModelos**\n",
        "* ¿Todos los alumnos hubieran elegido el mismo modelo aun con 20 semillas?"
      ],
      "metadata": {
        "id": "F6lFJf1VTi8b"
      }
    },
    {
      "cell_type": "markdown",
      "source": [
        "\n",
        "\n",
        "---\n",
        "\n"
      ],
      "metadata": {
        "id": "aOpy-XBKTi8n"
      }
    },
    {
      "cell_type": "markdown",
      "source": [
        "# 7 Comparando dos buenos  modelos\n",
        "## Clase 02  Experimento 7"
      ],
      "metadata": {
        "id": "EdzjiJf-dsEK"
      }
    },
    {
      "cell_type": "markdown",
      "source": [
        "## 7.1  Objetivos\n",
        "Presentar a los alumnos la dificultad que surge en la comparación de dos muy distintos, pero ambos buenos, modelos predictivos, y el costo computacional asociado a esa comparación\n",
        "<br>Comparación simple de media de ganancias, versus probabilidad que un modelo sea superior a otro.\n",
        "<br>Limitaciones de la MonteCarlo Cross Validation\n",
        "<br>Existencia del Test de Wilcoxon"
      ],
      "metadata": {
        "id": "FcBjp5XxdsEt"
      }
    },
    {
      "cell_type": "markdown",
      "source": [
        "## 7.2 Introduccion\n",
        "Estos son los dos arboles de muy distinta profundidad.\n",
        "<br>¿Cuál de ellos es mejor? ¿Cuál elijo?\n",
        "\n",
        "| Hiperparámetro | Arbol 1 | Arbol 2 |\n",
        "| --- | --: |  ---: |\n",
        "| cp | -1 | -1 |\n",
        "|minsplit | 170 | 1900 |\n",
        "|minbucket | 70 | 800 |\n",
        "|maxdepth | 7 | 3 |\n",
        "\n"
      ],
      "metadata": {
        "id": "tYcOIcwCdsEu"
      }
    },
    {
      "cell_type": "markdown",
      "source": [
        "## 7.3 Dos buenos modelos"
      ],
      "metadata": {
        "id": "r0NDA7GgdsEu"
      }
    },
    {
      "cell_type": "markdown",
      "source": [
        "Esta parte se debe correr con el runtime en lenguaje **R** Ir al menu, Runtime -> Change Runtime Tipe -> Runtime type -> R"
      ],
      "metadata": {
        "id": "21SJmGd7dsEv"
      }
    },
    {
      "cell_type": "markdown",
      "source": [
        "El tiempo de corrida es de alrededor de 50 minutos"
      ],
      "metadata": {
        "id": "Ne0e08KUt87w"
      }
    },
    {
      "cell_type": "markdown",
      "source": [
        "limpio el ambiente de R"
      ],
      "metadata": {
        "id": "q02SEGNwdsEv"
      }
    },
    {
      "cell_type": "code",
      "source": [
        "# limpio la memoria\n",
        "rm(list=ls(all.names=TRUE)) # remove all objects\n",
        "gc(full=TRUE, verbose=FALSE) # garbage collection"
      ],
      "metadata": {
        "id": "6c2ZJstWdsEw",
        "colab": {
          "base_uri": "https://localhost:8080/",
          "height": 129
        },
        "outputId": "d3e25865-6275-4a1a-ecc1-f8a1ab831058"
      },
      "execution_count": 36,
      "outputs": [
        {
          "output_type": "display_data",
          "data": {
            "text/html": [
              "<table class=\"dataframe\">\n",
              "<caption>A matrix: 2 × 6 of type dbl</caption>\n",
              "<thead>\n",
              "\t<tr><th></th><th scope=col>used</th><th scope=col>(Mb)</th><th scope=col>gc trigger</th><th scope=col>(Mb)</th><th scope=col>max used</th><th scope=col>(Mb)</th></tr>\n",
              "</thead>\n",
              "<tbody>\n",
              "\t<tr><th scope=row>Ncells</th><td>1399659</td><td>74.8</td><td> 2392790</td><td>127.8</td><td> 2392790</td><td>127.8</td></tr>\n",
              "\t<tr><th scope=row>Vcells</th><td>2535410</td><td>19.4</td><td>53127643</td><td>405.4</td><td>79561420</td><td>607.1</td></tr>\n",
              "</tbody>\n",
              "</table>\n"
            ],
            "text/markdown": "\nA matrix: 2 × 6 of type dbl\n\n| <!--/--> | used | (Mb) | gc trigger | (Mb) | max used | (Mb) |\n|---|---|---|---|---|---|---|\n| Ncells | 1399659 | 74.8 |  2392790 | 127.8 |  2392790 | 127.8 |\n| Vcells | 2535410 | 19.4 | 53127643 | 405.4 | 79561420 | 607.1 |\n\n",
            "text/latex": "A matrix: 2 × 6 of type dbl\n\\begin{tabular}{r|llllll}\n  & used & (Mb) & gc trigger & (Mb) & max used & (Mb)\\\\\n\\hline\n\tNcells & 1399659 & 74.8 &  2392790 & 127.8 &  2392790 & 127.8\\\\\n\tVcells & 2535410 & 19.4 & 53127643 & 405.4 & 79561420 & 607.1\\\\\n\\end{tabular}\n",
            "text/plain": [
              "       used    (Mb) gc trigger (Mb)  max used (Mb) \n",
              "Ncells 1399659 74.8  2392790   127.8  2392790 127.8\n",
              "Vcells 2535410 19.4 53127643   405.4 79561420 607.1"
            ]
          },
          "metadata": {}
        }
      ]
    },
    {
      "cell_type": "markdown",
      "source": [
        "* Instalacion de la libreria  rpart.plot  para dibujar el arbol\n",
        "* invocacion de las librerias  **data.table** y  **rpart**"
      ],
      "metadata": {
        "id": "62MIW0r1dsEx"
      }
    },
    {
      "cell_type": "code",
      "source": [
        "# cargo las librerias que necesito\n",
        "require(\"data.table\")\n",
        "require(\"rpart\")\n",
        "require(\"parallel\")\n",
        "\n",
        "if (!require(\"primes\")) install.packages(\"primes\")\n",
        "require(\"primes\")\n",
        "\n",
        "require(\"ggplot2\")"
      ],
      "metadata": {
        "id": "2Ke4n-N8dsEy"
      },
      "execution_count": 37,
      "outputs": []
    },
    {
      "cell_type": "markdown",
      "source": [
        "###  Accion a Realizar\n",
        "PARAM$semilla_primigenia  debe reemplazarse por SU primer semilla"
      ],
      "metadata": {
        "id": "UHSoeqi4dsEz"
      }
    },
    {
      "cell_type": "code",
      "source": [
        "PARAM <- list()\n",
        "PARAM$semilla_primigenia <- 245681\n",
        "PARAM$qsemillas <- 50\n",
        "PARAM$training_pct <- 70L     # entre 1 y 100\n"
      ],
      "metadata": {
        "id": "f08_sqfAdsEz"
      },
      "execution_count": 39,
      "outputs": []
    },
    {
      "cell_type": "code",
      "source": [
        "# los dos arboles\n",
        "PARAM$rpart1 <- list (\n",
        "  \"cp\" = -1,\n",
        "  \"minsplit\" = 170,\n",
        "  \"minbucket\" = 70,\n",
        "  \"maxdepth\" = 7\n",
        ")\n",
        "\n",
        "\n",
        "PARAM$rpart2 <- list (\n",
        "  \"cp\" = -1,\n",
        "  \"minsplit\" = 1900,\n",
        "  \"minbucket\" = 800,\n",
        "  \"maxdepth\" = 3\n",
        ")\n"
      ],
      "metadata": {
        "id": "L735D9rydsE0"
      },
      "execution_count": 40,
      "outputs": []
    },
    {
      "cell_type": "code",
      "source": [
        "# particionar agrega una columna llamada fold a un dataset\n",
        "#  que consiste en una particion estratificada segun agrupa\n",
        "\n",
        "# particionar( data=dataset, division=c(70,30),\n",
        "#  agrupa=clase_ternaria, seed=semilla)   crea una particion 70, 30\n",
        "\n",
        "particionar <- function(\n",
        "    data, division, agrupa = \"\",\n",
        "    campo = \"fold\", start = 1, seed = NA) {\n",
        "  if (!is.na(seed)) set.seed(seed)\n",
        "\n",
        "  bloque <- unlist(mapply(function(x, y) {\n",
        "    rep(y, x)\n",
        "  }, division, seq(from = start, length.out = length(division))))\n",
        "\n",
        "  data[, (campo) := sample(rep(bloque, ceiling(.N / length(bloque))))[1:.N],\n",
        "    by = agrupa\n",
        "  ]\n",
        "}\n"
      ],
      "metadata": {
        "id": "O56epLUGdsE1"
      },
      "execution_count": 41,
      "outputs": []
    },
    {
      "cell_type": "code",
      "source": [
        "DosArbolesEstimarGanancia <- function(semilla, training_pct, param_rpart1, param_rpart2) {\n",
        "  # fuerzo impresion\n",
        "  print( paste( semilla, Sys.time()) )\n",
        "  flush.console()\n",
        "\n",
        "  # particiono estratificadamente el dataset\n",
        "  particionar(dataset,\n",
        "    division = c(training_pct, 100L -training_pct),\n",
        "    agrupa = \"clase_ternaria\",\n",
        "    seed = semilla # aqui se usa SU semilla\n",
        "  )\n",
        "\n",
        "  # genero el modelo\n",
        "  # predecir clase_ternaria a partir del resto\n",
        "  modelo1 <- rpart(\"clase_ternaria ~ .\",\n",
        "    data = dataset[fold == 1], # fold==1  es training,  el 70% de los datos\n",
        "    xval = 0,\n",
        "    control = param_rpart1\n",
        "  ) # aqui van los parametros del arbol\n",
        "\n",
        "  # aplico el modelo a los datos de testing\n",
        "  prediccion1 <- predict(modelo1, # el modelo que genere recien\n",
        "    dataset[fold == 2], # fold==2  es testing, el 30% de los datos\n",
        "    type = \"prob\"\n",
        "  ) # type= \"prob\"  es que devuelva la probabilidad\n",
        "\n",
        "\n",
        "  # calculo la ganancia en testing  qu es fold==2\n",
        "  ganancia_test1 <- dataset[\n",
        "    fold == 2,\n",
        "    sum(ifelse(prediccion1[, \"BAJA+2\"] > 0.025,\n",
        "      ifelse(clase_ternaria == \"BAJA+2\", 117000, -3000),\n",
        "      0\n",
        "    ))\n",
        "  ]\n",
        "\n",
        "  # escalo la ganancia como si fuera todo el dataset\n",
        "  ganancia_test_normalizada1 <- ganancia_test1 / (( 100 - training_pct ) / 100 )\n",
        "\n",
        "  modelo2 <- rpart(\"clase_ternaria ~ .\",\n",
        "    data = dataset[fold == 1], # fold==1  es training,  el 70% de los datos\n",
        "    xval = 0,\n",
        "    control = param_rpart2\n",
        "  ) # aqui van los parametros del arbol\n",
        "\n",
        "  # aplico el modelo a los datos de testing\n",
        "  prediccion2 <- predict(modelo2, # el modelo que genere recien\n",
        "    dataset[fold == 2], # fold==2  es testing, el 30% de los datos\n",
        "    type = \"prob\"\n",
        "  ) # type= \"prob\"  es que devuelva la probabilidad\n",
        "\n",
        "\n",
        "  # calculo la ganancia en testing  qu es fold==2\n",
        "  ganancia_test2 <- dataset[\n",
        "    fold == 2,\n",
        "    sum(ifelse(prediccion2[, \"BAJA+2\"] > 0.025,\n",
        "      ifelse(clase_ternaria == \"BAJA+2\", 117000, -3000),\n",
        "      0\n",
        "    ))\n",
        "  ]\n",
        "\n",
        "  # escalo la ganancia como si fuera todo el dataset\n",
        "  ganancia_test_normalizada2 <- ganancia_test2 / (( 100 - training_pct ) / 100 )\n",
        "\n",
        "  return(list(\n",
        "    \"semilla\" = semilla,\n",
        "    \"ganancia1\" = ganancia_test_normalizada1,\n",
        "    \"ganancia2\" = ganancia_test_normalizada2\n",
        "  ))\n",
        "}"
      ],
      "metadata": {
        "id": "Bv_NorLhdsE1"
      },
      "execution_count": 42,
      "outputs": []
    },
    {
      "cell_type": "code",
      "source": [
        "# carpeta de trabajo\n",
        "setwd(\"/content/buckets/b1/exp\")\n",
        "experimento <- \"exp206\"\n",
        "dir.create(experimento, showWarnings=FALSE)\n",
        "setwd( paste0(\"/content/buckets/b1/exp/\", experimento ))"
      ],
      "metadata": {
        "id": "N9GarblIdsE3"
      },
      "execution_count": 44,
      "outputs": []
    },
    {
      "cell_type": "code",
      "source": [
        "# lectura del dataset\n",
        "dataset <- fread(\"/content/datasets/dataset_pequeno.csv\")\n",
        "\n",
        "# trabajo solo con los datos con clase, es decir 202107\n",
        "dataset <- dataset[clase_ternaria != \"\"]"
      ],
      "metadata": {
        "id": "Z05r3wdTdsE3"
      },
      "execution_count": 45,
      "outputs": []
    },
    {
      "cell_type": "code",
      "source": [
        "# genero numeros primos\n",
        "primos <- generate_primes(min = 100000, max = 1000000)\n",
        "set.seed(PARAM$semilla_primigenia) # inicializo\n",
        "\n",
        "# me quedo con PARAM$qsemillas   semillas\n",
        "PARAM$semillas <- sample(primos, PARAM$qsemillas )"
      ],
      "metadata": {
        "id": "m8ODrVrndsE4"
      },
      "execution_count": 46,
      "outputs": []
    },
    {
      "cell_type": "code",
      "source": [
        "# la funcion mcmapply  llama a la funcion DosArbolesEstimarGanancia\n",
        "#  tantas veces como valores tenga el vector  PARAM$semillas\n",
        "Sys.time()\n",
        "\n",
        "salidas <- mcmapply( DosArbolesEstimarGanancia,\n",
        "  PARAM$semillas, # paso el vector de semillas\n",
        "  MoreArgs = list(PARAM$training_pct, PARAM$rpart1, PARAM$rpart2), # aqui paso el segundo parametro\n",
        "  SIMPLIFY = FALSE,\n",
        "  mc.cores = detectCores()\n",
        ")\n",
        "\n",
        "Sys.time()"
      ],
      "metadata": {
        "id": "KQBhUXxJdsE5",
        "colab": {
          "base_uri": "https://localhost:8080/",
          "height": 52
        },
        "outputId": "738f5128-2219-4dd5-8d5a-1578b2ce71db"
      },
      "execution_count": 47,
      "outputs": [
        {
          "output_type": "display_data",
          "data": {
            "text/plain": [
              "[1] \"2025-10-15 03:01:37 UTC\""
            ]
          },
          "metadata": {}
        },
        {
          "output_type": "display_data",
          "data": {
            "text/plain": [
              "[1] \"2025-10-15 04:11:54 UTC\""
            ]
          },
          "metadata": {}
        }
      ]
    },
    {
      "cell_type": "code",
      "source": [
        "# paso la lista a vector\n",
        "tb_salida <- rbindlist(salidas)\n",
        "tb_salida"
      ],
      "metadata": {
        "id": "N0eS1CFFdsE5",
        "colab": {
          "base_uri": "https://localhost:8080/",
          "height": 1000
        },
        "outputId": "38af0a5e-c8e1-4ec9-c4ab-7aea89507707"
      },
      "execution_count": 48,
      "outputs": [
        {
          "output_type": "display_data",
          "data": {
            "text/html": [
              "<table class=\"dataframe\">\n",
              "<caption>A data.table: 50 × 3</caption>\n",
              "<thead>\n",
              "\t<tr><th scope=col>semilla</th><th scope=col>ganancia1</th><th scope=col>ganancia2</th></tr>\n",
              "\t<tr><th scope=col>&lt;int&gt;</th><th scope=col>&lt;dbl&gt;</th><th scope=col>&lt;dbl&gt;</th></tr>\n",
              "</thead>\n",
              "<tbody>\n",
              "\t<tr><td>570643</td><td>47590000</td><td>43590000</td></tr>\n",
              "\t<tr><td>654127</td><td>45550000</td><td>45330000</td></tr>\n",
              "\t<tr><td>300857</td><td>47310000</td><td>47220000</td></tr>\n",
              "\t<tr><td>474389</td><td>53610000</td><td>51780000</td></tr>\n",
              "\t<tr><td>696887</td><td>45290000</td><td>47330000</td></tr>\n",
              "\t<tr><td>759037</td><td>46850000</td><td>46650000</td></tr>\n",
              "\t<tr><td>272603</td><td>51350000</td><td>46500000</td></tr>\n",
              "\t<tr><td>691129</td><td>47060000</td><td>48040000</td></tr>\n",
              "\t<tr><td>643273</td><td>51180000</td><td>46600000</td></tr>\n",
              "\t<tr><td>509723</td><td>44590000</td><td>43000000</td></tr>\n",
              "\t<tr><td>468889</td><td>54380000</td><td>52730000</td></tr>\n",
              "\t<tr><td>729451</td><td>47240000</td><td>44430000</td></tr>\n",
              "\t<tr><td>244303</td><td>39100000</td><td>41690000</td></tr>\n",
              "\t<tr><td>656701</td><td>45510000</td><td>47530000</td></tr>\n",
              "\t<tr><td>633877</td><td>42840000</td><td>44840000</td></tr>\n",
              "\t<tr><td>104233</td><td>45010000</td><td>54040000</td></tr>\n",
              "\t<tr><td>848567</td><td>46260000</td><td>45760000</td></tr>\n",
              "\t<tr><td>270937</td><td>51360000</td><td>46810000</td></tr>\n",
              "\t<tr><td>250919</td><td>47000000</td><td>45960000</td></tr>\n",
              "\t<tr><td>318737</td><td>50160000</td><td>50750000</td></tr>\n",
              "\t<tr><td>180883</td><td>48500000</td><td>46760000</td></tr>\n",
              "\t<tr><td>367019</td><td>49650000</td><td>48590000</td></tr>\n",
              "\t<tr><td>801557</td><td>50970000</td><td>45440000</td></tr>\n",
              "\t<tr><td>144889</td><td>51220000</td><td>47400000</td></tr>\n",
              "\t<tr><td>293207</td><td>52640000</td><td>53360000</td></tr>\n",
              "\t<tr><td>193451</td><td>48630000</td><td>47090000</td></tr>\n",
              "\t<tr><td>151883</td><td>46630000</td><td>45690000</td></tr>\n",
              "\t<tr><td>526423</td><td>52360000</td><td>49470000</td></tr>\n",
              "\t<tr><td>824779</td><td>48150000</td><td>48060000</td></tr>\n",
              "\t<tr><td>337691</td><td>46650000</td><td>46060000</td></tr>\n",
              "\t<tr><td>203017</td><td>49620000</td><td>50930000</td></tr>\n",
              "\t<tr><td>491327</td><td>48080000</td><td>47770000</td></tr>\n",
              "\t<tr><td>967111</td><td>53570000</td><td>51320000</td></tr>\n",
              "\t<tr><td>675923</td><td>49580000</td><td>52150000</td></tr>\n",
              "\t<tr><td>987509</td><td>47600000</td><td>48000000</td></tr>\n",
              "\t<tr><td>361649</td><td>42340000</td><td>42970000</td></tr>\n",
              "\t<tr><td>203387</td><td>48430000</td><td>51190000</td></tr>\n",
              "\t<tr><td>899237</td><td>52860000</td><td>48840000</td></tr>\n",
              "\t<tr><td>362059</td><td>53650000</td><td>58060000</td></tr>\n",
              "\t<tr><td>898147</td><td>48340000</td><td>47740000</td></tr>\n",
              "\t<tr><td>782189</td><td>47160000</td><td>48500000</td></tr>\n",
              "\t<tr><td>163859</td><td>43220000</td><td>45530000</td></tr>\n",
              "\t<tr><td>380189</td><td>44830000</td><td>39790000</td></tr>\n",
              "\t<tr><td>168643</td><td>53270000</td><td>49560000</td></tr>\n",
              "\t<tr><td>405869</td><td>51860000</td><td>50490000</td></tr>\n",
              "\t<tr><td>918913</td><td>46220000</td><td>49980000</td></tr>\n",
              "\t<tr><td>494699</td><td>46300000</td><td>46860000</td></tr>\n",
              "\t<tr><td>751631</td><td>47480000</td><td>45850000</td></tr>\n",
              "\t<tr><td>202841</td><td>44350000</td><td>48480000</td></tr>\n",
              "\t<tr><td>491593</td><td>48520000</td><td>47830000</td></tr>\n",
              "</tbody>\n",
              "</table>\n"
            ],
            "text/markdown": "\nA data.table: 50 × 3\n\n| semilla &lt;int&gt; | ganancia1 &lt;dbl&gt; | ganancia2 &lt;dbl&gt; |\n|---|---|---|\n| 570643 | 47590000 | 43590000 |\n| 654127 | 45550000 | 45330000 |\n| 300857 | 47310000 | 47220000 |\n| 474389 | 53610000 | 51780000 |\n| 696887 | 45290000 | 47330000 |\n| 759037 | 46850000 | 46650000 |\n| 272603 | 51350000 | 46500000 |\n| 691129 | 47060000 | 48040000 |\n| 643273 | 51180000 | 46600000 |\n| 509723 | 44590000 | 43000000 |\n| 468889 | 54380000 | 52730000 |\n| 729451 | 47240000 | 44430000 |\n| 244303 | 39100000 | 41690000 |\n| 656701 | 45510000 | 47530000 |\n| 633877 | 42840000 | 44840000 |\n| 104233 | 45010000 | 54040000 |\n| 848567 | 46260000 | 45760000 |\n| 270937 | 51360000 | 46810000 |\n| 250919 | 47000000 | 45960000 |\n| 318737 | 50160000 | 50750000 |\n| 180883 | 48500000 | 46760000 |\n| 367019 | 49650000 | 48590000 |\n| 801557 | 50970000 | 45440000 |\n| 144889 | 51220000 | 47400000 |\n| 293207 | 52640000 | 53360000 |\n| 193451 | 48630000 | 47090000 |\n| 151883 | 46630000 | 45690000 |\n| 526423 | 52360000 | 49470000 |\n| 824779 | 48150000 | 48060000 |\n| 337691 | 46650000 | 46060000 |\n| 203017 | 49620000 | 50930000 |\n| 491327 | 48080000 | 47770000 |\n| 967111 | 53570000 | 51320000 |\n| 675923 | 49580000 | 52150000 |\n| 987509 | 47600000 | 48000000 |\n| 361649 | 42340000 | 42970000 |\n| 203387 | 48430000 | 51190000 |\n| 899237 | 52860000 | 48840000 |\n| 362059 | 53650000 | 58060000 |\n| 898147 | 48340000 | 47740000 |\n| 782189 | 47160000 | 48500000 |\n| 163859 | 43220000 | 45530000 |\n| 380189 | 44830000 | 39790000 |\n| 168643 | 53270000 | 49560000 |\n| 405869 | 51860000 | 50490000 |\n| 918913 | 46220000 | 49980000 |\n| 494699 | 46300000 | 46860000 |\n| 751631 | 47480000 | 45850000 |\n| 202841 | 44350000 | 48480000 |\n| 491593 | 48520000 | 47830000 |\n\n",
            "text/latex": "A data.table: 50 × 3\n\\begin{tabular}{lll}\n semilla & ganancia1 & ganancia2\\\\\n <int> & <dbl> & <dbl>\\\\\n\\hline\n\t 570643 & 47590000 & 43590000\\\\\n\t 654127 & 45550000 & 45330000\\\\\n\t 300857 & 47310000 & 47220000\\\\\n\t 474389 & 53610000 & 51780000\\\\\n\t 696887 & 45290000 & 47330000\\\\\n\t 759037 & 46850000 & 46650000\\\\\n\t 272603 & 51350000 & 46500000\\\\\n\t 691129 & 47060000 & 48040000\\\\\n\t 643273 & 51180000 & 46600000\\\\\n\t 509723 & 44590000 & 43000000\\\\\n\t 468889 & 54380000 & 52730000\\\\\n\t 729451 & 47240000 & 44430000\\\\\n\t 244303 & 39100000 & 41690000\\\\\n\t 656701 & 45510000 & 47530000\\\\\n\t 633877 & 42840000 & 44840000\\\\\n\t 104233 & 45010000 & 54040000\\\\\n\t 848567 & 46260000 & 45760000\\\\\n\t 270937 & 51360000 & 46810000\\\\\n\t 250919 & 47000000 & 45960000\\\\\n\t 318737 & 50160000 & 50750000\\\\\n\t 180883 & 48500000 & 46760000\\\\\n\t 367019 & 49650000 & 48590000\\\\\n\t 801557 & 50970000 & 45440000\\\\\n\t 144889 & 51220000 & 47400000\\\\\n\t 293207 & 52640000 & 53360000\\\\\n\t 193451 & 48630000 & 47090000\\\\\n\t 151883 & 46630000 & 45690000\\\\\n\t 526423 & 52360000 & 49470000\\\\\n\t 824779 & 48150000 & 48060000\\\\\n\t 337691 & 46650000 & 46060000\\\\\n\t 203017 & 49620000 & 50930000\\\\\n\t 491327 & 48080000 & 47770000\\\\\n\t 967111 & 53570000 & 51320000\\\\\n\t 675923 & 49580000 & 52150000\\\\\n\t 987509 & 47600000 & 48000000\\\\\n\t 361649 & 42340000 & 42970000\\\\\n\t 203387 & 48430000 & 51190000\\\\\n\t 899237 & 52860000 & 48840000\\\\\n\t 362059 & 53650000 & 58060000\\\\\n\t 898147 & 48340000 & 47740000\\\\\n\t 782189 & 47160000 & 48500000\\\\\n\t 163859 & 43220000 & 45530000\\\\\n\t 380189 & 44830000 & 39790000\\\\\n\t 168643 & 53270000 & 49560000\\\\\n\t 405869 & 51860000 & 50490000\\\\\n\t 918913 & 46220000 & 49980000\\\\\n\t 494699 & 46300000 & 46860000\\\\\n\t 751631 & 47480000 & 45850000\\\\\n\t 202841 & 44350000 & 48480000\\\\\n\t 491593 & 48520000 & 47830000\\\\\n\\end{tabular}\n",
            "text/plain": [
              "   semilla ganancia1 ganancia2\n",
              "1  570643  47590000  43590000 \n",
              "2  654127  45550000  45330000 \n",
              "3  300857  47310000  47220000 \n",
              "4  474389  53610000  51780000 \n",
              "5  696887  45290000  47330000 \n",
              "6  759037  46850000  46650000 \n",
              "7  272603  51350000  46500000 \n",
              "8  691129  47060000  48040000 \n",
              "9  643273  51180000  46600000 \n",
              "10 509723  44590000  43000000 \n",
              "11 468889  54380000  52730000 \n",
              "12 729451  47240000  44430000 \n",
              "13 244303  39100000  41690000 \n",
              "14 656701  45510000  47530000 \n",
              "15 633877  42840000  44840000 \n",
              "16 104233  45010000  54040000 \n",
              "17 848567  46260000  45760000 \n",
              "18 270937  51360000  46810000 \n",
              "19 250919  47000000  45960000 \n",
              "20 318737  50160000  50750000 \n",
              "21 180883  48500000  46760000 \n",
              "22 367019  49650000  48590000 \n",
              "23 801557  50970000  45440000 \n",
              "24 144889  51220000  47400000 \n",
              "25 293207  52640000  53360000 \n",
              "26 193451  48630000  47090000 \n",
              "27 151883  46630000  45690000 \n",
              "28 526423  52360000  49470000 \n",
              "29 824779  48150000  48060000 \n",
              "30 337691  46650000  46060000 \n",
              "31 203017  49620000  50930000 \n",
              "32 491327  48080000  47770000 \n",
              "33 967111  53570000  51320000 \n",
              "34 675923  49580000  52150000 \n",
              "35 987509  47600000  48000000 \n",
              "36 361649  42340000  42970000 \n",
              "37 203387  48430000  51190000 \n",
              "38 899237  52860000  48840000 \n",
              "39 362059  53650000  58060000 \n",
              "40 898147  48340000  47740000 \n",
              "41 782189  47160000  48500000 \n",
              "42 163859  43220000  45530000 \n",
              "43 380189  44830000  39790000 \n",
              "44 168643  53270000  49560000 \n",
              "45 405869  51860000  50490000 \n",
              "46 918913  46220000  49980000 \n",
              "47 494699  46300000  46860000 \n",
              "48 751631  47480000  45850000 \n",
              "49 202841  44350000  48480000 \n",
              "50 491593  48520000  47830000 "
            ]
          },
          "metadata": {}
        }
      ]
    },
    {
      "cell_type": "code",
      "source": [
        "grafico <- ggplot( tb_salida, aes(x=ganancia1), fill=\"green\", color=\"green\") + geom_density(alpha=0.25)  +\n",
        "             geom_density(data=tb_salida, aes(x=ganancia2), fill=\"purple\", color=\"purple\",  alpha=0.10)\n",
        "\n",
        "print(grafico)"
      ],
      "metadata": {
        "id": "6vf28ujAdsE6",
        "colab": {
          "base_uri": "https://localhost:8080/",
          "height": 541
        },
        "outputId": "e4f6fdb3-425d-41ae-8750-38d54670ee60"
      },
      "execution_count": 49,
      "outputs": [
        {
          "output_type": "stream",
          "name": "stderr",
          "text": [
            "Warning message in fortify(data, ...):\n",
            "“\u001b[1m\u001b[22mArguments in `...` must be used.\n",
            "\u001b[31m✖\u001b[39m Problematic arguments:\n",
            "\u001b[36m•\u001b[39m fill = \"green\"\n",
            "\u001b[36m•\u001b[39m color = \"green\"\n",
            "\u001b[36mℹ\u001b[39m Did you misspell an argument name?”\n"
          ]
        },
        {
          "output_type": "display_data",
          "data": {
            "text/plain": [
              "plot without title"
            ],
            "image/png": "[encoded data removed]"
          },
          "metadata": {
            "image/png": {
              "width": 420,
              "height": 420
            }
          }
        }
      ]
    },
    {
      "cell_type": "code",
      "source": [
        "# imprimo en un .pdf  que va a la carpeta del experimento\n",
        "pdf(\"densidad_dos.pdf\")\n",
        "print(grafico)\n",
        "dev.off()"
      ],
      "metadata": {
        "id": "TA9lLa6-dsE6",
        "colab": {
          "base_uri": "https://localhost:8080/",
          "height": 34
        },
        "outputId": "fca23dcf-7797-4aec-db87-ebb7f2bc5ae5"
      },
      "execution_count": 50,
      "outputs": [
        {
          "output_type": "display_data",
          "data": {
            "text/html": [
              "<strong>agg_record_1197257289:</strong> 2"
            ],
            "text/markdown": "**agg_record_1197257289:** 2",
            "text/latex": "\\textbf{agg\\textbackslash{}\\_record\\textbackslash{}\\_1197257289:} 2",
            "text/plain": [
              "agg_record_1197257289 \n",
              "                    2 "
            ]
          },
          "metadata": {}
        }
      ]
    },
    {
      "cell_type": "code",
      "source": [
        "# medias de las ganancias\n",
        "print( tb_salida[ , list( \"arbol1\" = mean( ganancia1),  \"arbol2\" = mean(ganancia2) ) ] )\n"
      ],
      "metadata": {
        "id": "xAOpyZTqdsE7",
        "colab": {
          "base_uri": "https://localhost:8080/"
        },
        "outputId": "2da8bd5d-6603-45a7-8182-3af74bb4ab57"
      },
      "execution_count": 51,
      "outputs": [
        {
          "output_type": "stream",
          "name": "stdout",
          "text": [
            "     arbol1   arbol2\n",
            "      <num>    <num>\n",
            "1: 48238400 47806800\n"
          ]
        }
      ]
    },
    {
      "cell_type": "code",
      "source": [
        "# probabilidad que m1 sea mayor a m2\n",
        "print( tb_salida[ , list( \"prob( m1 > m2)\" = sum(ganancia1 > ganancia2 )/ .N ) ]  )"
      ],
      "metadata": {
        "id": "8rdPIcfzgob7",
        "colab": {
          "base_uri": "https://localhost:8080/"
        },
        "outputId": "555940c6-8a1f-414d-8c54-6c83e02e8427"
      },
      "execution_count": 52,
      "outputs": [
        {
          "output_type": "stream",
          "name": "stdout",
          "text": [
            "   prob( m1 > m2)\n",
            "            <num>\n",
            "1:           0.62\n"
          ]
        }
      ]
    },
    {
      "cell_type": "markdown",
      "source": [
        "### Acciones a realizar\n",
        "* Reportar la  los resultados en la planilla colaborativa hoja  **C2-dosBuenos**\n"
      ],
      "metadata": {
        "id": "nNNJWYRadsE7"
      }
    },
    {
      "cell_type": "markdown",
      "source": [
        "\n",
        "\n",
        "---\n",
        "\n"
      ],
      "metadata": {
        "id": "LTBEq6SEdsE8"
      }
    },
    {
      "cell_type": "markdown",
      "source": [],
      "metadata": {
        "id": "ebcTZX7Sg1Le"
      }
    },
    {
      "cell_type": "markdown",
      "source": [
        "# 8 Test de Wilcoxon\n",
        "## Clase 02  Experimento 8"
      ],
      "metadata": {
        "id": "RAtn4x6Bg1u1"
      }
    },
    {
      "cell_type": "markdown",
      "source": [],
      "metadata": {
        "id": "RWxjnSsVg_ol"
      }
    },
    {
      "cell_type": "markdown",
      "source": [
        "## 8.1  Objetivos\n",
        "\n",
        "¿Como calcular la cantidad mínima de semillas que hacen falta para tener cierta certeza que un modelo es superior a otro?"
      ],
      "metadata": {
        "id": "Gf0LF3ywhAEU"
      }
    },
    {
      "cell_type": "markdown",
      "source": [
        "## 8.2  Introduccion\n",
        "\n",
        "| Hiperparámetro | Arbol 1 | Arbol 2 |\n",
        "| --- | --: |  ---: |\n",
        "| cp | -1 | -1 |\n",
        "|minsplit | 170 | 250 |\n",
        "|minbucket | 70 | 125 |\n",
        "|maxdepth | 7 | 20 |\n",
        "\n",
        "<br>\n",
        "<br>\n",
        "\n",
        "\n",
        "| ordinal | semilla | ganancia1 | ganancia2 | p-value |\n",
        "| --- | --- |  --- |  --- |  --- |\n",
        "| 1 |378821 | 41,470,000 | 37,790,000 | 1.000 |\n",
        "| 2 | 964333  | 48,480,000  | 43,660,000 | 0.500 |\n",
        "| 3 | 187049 | 50,610,000 | 47,840,000 | 0.250 |\n",
        "| 4 | 205151 | 45,580,000 | 44,490,000 | 0.125 |\n",
        "| 5 | 813697 | 52,780,000 | 46,750,000 |  0.063 |\n",
        "| 6 | 344719 | 49,970,000 | 44,300,000 | 0.031 |\n",
        "|7 |127217  |52,810,000 | 42,840,000 |0.016 |\n",
        "| 8 | 464371 | 43,060,000 | 37,300,000 | 0.008 |\n",
        "| 9 | 645137 | 49,660,000 |43,730,000 | 0.004|\n",
        "\n",
        "\n"
      ],
      "metadata": {
        "id": "k4PJGTDViZne"
      }
    },
    {
      "cell_type": "markdown",
      "source": [
        "## 8.3 Codigo Test de Wilcoxon"
      ],
      "metadata": {
        "id": "gAeSRdWRhg61"
      }
    },
    {
      "cell_type": "code",
      "source": [
        "# 1 sola ganancia\n",
        "wilcox.test(\n",
        "  c(41470000),\n",
        "  c(37790000),\n",
        "  paired = TRUE\n",
        ")\n"
      ],
      "metadata": {
        "id": "6r5M0J0HdsE8"
      },
      "execution_count": null,
      "outputs": []
    },
    {
      "cell_type": "code",
      "source": [
        "# 2 ganancias\n",
        "wilcox.test(\n",
        "  c(41470000, 48480000),\n",
        "  c(37790000, 43660000),\n",
        "  paired = TRUE\n",
        ")\n"
      ],
      "metadata": {
        "id": "1pscqL9vLzYE"
      },
      "execution_count": null,
      "outputs": []
    },
    {
      "cell_type": "code",
      "source": [
        "# 3 ganancias\n",
        "wilcox.test(\n",
        "  c(41470000, 48480000, 50610000),\n",
        "  c(37790000, 43660000, 47840000),\n",
        "  paired = TRUE\n",
        ")"
      ],
      "metadata": {
        "id": "p3f_mtKwhSHA"
      },
      "execution_count": null,
      "outputs": []
    },
    {
      "cell_type": "code",
      "source": [
        "# 4 ganancias\n",
        "wilcox.test(\n",
        "  c(41470000, 48480000, 50610000, 45580000),\n",
        "  c(37790000, 43660000, 47840000, 44490000),\n",
        "  paired = TRUE\n",
        ")\n"
      ],
      "metadata": {
        "id": "-ijX69r9hT6Z"
      },
      "execution_count": null,
      "outputs": []
    },
    {
      "cell_type": "code",
      "source": [
        "# 5 ganancias\n",
        "wilcox.test(\n",
        "  c(41470000, 48480000, 50610000, 45580000, 52780000),\n",
        "  c(37790000, 43660000, 47840000, 44490000, 46750000),\n",
        "  paired = TRUE\n",
        ")"
      ],
      "metadata": {
        "id": "X9J_CHGehVfr"
      },
      "execution_count": null,
      "outputs": []
    },
    {
      "cell_type": "code",
      "source": [
        "# 6 ganancias\n",
        "wilcox.test(\n",
        "  c(41470000, 48480000, 50610000, 45580000, 52780000, 49970000),\n",
        "  c(37790000, 43660000, 47840000, 44490000, 46750000, 44300000),\n",
        "  paired = TRUE\n",
        ")"
      ],
      "metadata": {
        "id": "H3CNNonOhXp0"
      },
      "execution_count": null,
      "outputs": []
    },
    {
      "cell_type": "code",
      "source": [
        "# Finalmente el p-value es  0.03125  < 0.05\n",
        "# hicieron falta  SEIS semillas, seis ganancias, para\n",
        "#   afirmar que el modelo 1 es superior al modelo 2\n",
        "\n",
        "# 7 ganancias\n",
        "wilcox.test(\n",
        "  c(41470000, 48480000, 50610000, 45580000, 52780000, 49970000, 52810000),\n",
        "  c(37790000, 43660000, 47840000, 44490000, 46750000, 44300000, 42840000),\n",
        "  paired = TRUE\n",
        ")\n"
      ],
      "metadata": {
        "id": "NTW8kwY8hamz"
      },
      "execution_count": null,
      "outputs": []
    },
    {
      "cell_type": "code",
      "source": [
        "# 8 ganancias\n",
        "wilcox.test(\n",
        "  c(41470000, 48480000, 50610000, 45580000, 52780000, 49970000, 52810000, 43060000),\n",
        "  c(37790000, 43660000, 47840000, 44490000, 46750000, 44300000, 42840000, 37300000),\n",
        "  paired = TRUE\n",
        ")\n"
      ],
      "metadata": {
        "id": "Xks918w8hcgC"
      },
      "execution_count": null,
      "outputs": []
    },
    {
      "cell_type": "code",
      "source": [
        "# 9 ganancias\n",
        "wilcox.test(\n",
        "  c(41470000, 48480000, 50610000, 45580000, 52780000, 49970000, 52810000, 43060000, 49660000),\n",
        "  c(37790000, 43660000, 47840000, 44490000, 46750000, 44300000, 42840000, 37300000, 43730000),\n",
        "  paired = TRUE\n",
        ")"
      ],
      "metadata": {
        "id": "5x8L1PMGhdJR"
      },
      "execution_count": null,
      "outputs": []
    },
    {
      "cell_type": "markdown",
      "source": [
        "\n",
        "\n",
        "---\n",
        "\n"
      ],
      "metadata": {
        "id": "Qjay2WBIkhNm"
      }
    },
    {
      "cell_type": "markdown",
      "source": [
        "# 9 Comparando automaticamente modelos con test de Wilcoxon\n",
        "## Clase 02  Experimento 9"
      ],
      "metadata": {
        "id": "g2aqxlCIk3fk"
      }
    },
    {
      "cell_type": "markdown",
      "source": [],
      "metadata": {
        "id": "FhCY4sH8k3fw"
      }
    },
    {
      "cell_type": "markdown",
      "source": [
        "## 9.1  Objetivos\n",
        "\n",
        "Proveer un script que permita comparar dos arboles de decisión con la librería rpart utilizando la menor cantidad de cómputo que permita el Test de Wilxcoxon"
      ],
      "metadata": {
        "id": "a_ZVBKBHk3fx"
      }
    },
    {
      "cell_type": "markdown",
      "source": [
        "## 9.2  Introduccion\n",
        "\n",
        "| Hiperparámetro | Arbol 1 | Arbol 2 |\n",
        "| --- | --- |  --- |\n",
        "| cp | -1 | -1 |\n",
        "|minsplit | 1050 | 650 |\n",
        "|minbucket | 550 | 300 |\n",
        "|maxdepth |67 | 6 |\n",
        "\n",
        "\n"
      ],
      "metadata": {
        "id": "qCd56L0Ik3fx"
      }
    },
    {
      "cell_type": "markdown",
      "source": [
        "## 9.3 Codigo comparacion automatica Wilcoxon"
      ],
      "metadata": {
        "id": "NBtQsG3vk3fx"
      }
    },
    {
      "cell_type": "markdown",
      "source": [
        "Esta parte se debe correr con el runtime en lenguaje **R** Ir al menu, Runtime -> Change Runtime Tipe -> Runtime type -> R"
      ],
      "metadata": {
        "id": "-ARzDPORlpG6"
      }
    },
    {
      "cell_type": "markdown",
      "source": [
        "limpio el ambiente de R"
      ],
      "metadata": {
        "id": "-Sy-sLMXlpHI"
      }
    },
    {
      "cell_type": "code",
      "source": [
        "# limpio la memoria\n",
        "rm(list=ls(all.names=TRUE)) # remove all objects\n",
        "gc(full=TRUE, verbose=FALSE) # garbage collection"
      ],
      "metadata": {
        "id": "ZpST7lcHlpHI"
      },
      "execution_count": null,
      "outputs": []
    },
    {
      "cell_type": "markdown",
      "source": [
        "* Instalacion de la libreria  rpart.plot  para dibujar el arbol\n",
        "* invocacion de las librerias  **data.table** y  **rpart**"
      ],
      "metadata": {
        "id": "jHhAx3cvlpHJ"
      }
    },
    {
      "cell_type": "code",
      "source": [
        "# cargo las librerias que necesito\n",
        "require(\"data.table\")\n",
        "require(\"rpart\")\n",
        "require(\"parallel\")\n",
        "\n",
        "if (!require(\"primes\")) install.packages(\"primes\")\n",
        "require(\"primes\")\n",
        "\n",
        "require(\"ggplot2\")"
      ],
      "metadata": {
        "id": "cbPnXeeqlpHJ"
      },
      "execution_count": null,
      "outputs": []
    },
    {
      "cell_type": "markdown",
      "source": [
        "###  Accion a Realizar\n",
        "PARAM$semilla_primigenia  debe reemplazarse por SU primer semilla"
      ],
      "metadata": {
        "id": "_GQk_NEUlpHK"
      }
    },
    {
      "cell_type": "code",
      "source": [
        "PARAM <- list()\n",
        "PARAM$semilla_primigenia <- 102191\n",
        "PARAM$qsemillas_tope <- 50\n",
        "PARAM$training_pct <- 70L     # entre 1 y 100\n"
      ],
      "metadata": {
        "id": "Do801PIHlpHK"
      },
      "execution_count": null,
      "outputs": []
    },
    {
      "cell_type": "code",
      "source": [
        "# los dos arboles\n",
        "PARAM$rpart1 <- list (\n",
        "  \"cp\" = -1,\n",
        "  \"minsplit\" = 800,\n",
        "  \"minbucket\" = 400,\n",
        "  \"maxdepth\" = 7\n",
        ")\n",
        "\n",
        "\n",
        "PARAM$rpart2 <- list (\n",
        "  \"cp\" = -1,\n",
        "  \"minsplit\" = 650,\n",
        "  \"minbucket\" = 300,\n",
        "  \"maxdepth\" = 6\n",
        ")\n"
      ],
      "metadata": {
        "id": "KlC7gTc7lpHK"
      },
      "execution_count": null,
      "outputs": []
    },
    {
      "cell_type": "code",
      "source": [
        "# particionar agrega una columna llamada fold a un dataset\n",
        "#  que consiste en una particion estratificada segun agrupa\n",
        "\n",
        "# particionar( data=dataset, division=c(70,30),\n",
        "#  agrupa=clase_ternaria, seed=semilla)   crea una particion 70, 30\n",
        "\n",
        "particionar <- function(\n",
        "    data, division, agrupa = \"\",\n",
        "    campo = \"fold\", start = 1, seed = NA) {\n",
        "  if (!is.na(seed)) set.seed(seed)\n",
        "\n",
        "  bloque <- unlist(mapply(function(x, y) {\n",
        "    rep(y, x)\n",
        "  }, division, seq(from = start, length.out = length(division))))\n",
        "\n",
        "  data[, (campo) := sample(rep(bloque, ceiling(.N / length(bloque))))[1:.N],\n",
        "    by = agrupa\n",
        "  ]\n",
        "}\n"
      ],
      "metadata": {
        "id": "I7hOkZrxlpHL"
      },
      "execution_count": null,
      "outputs": []
    },
    {
      "cell_type": "code",
      "source": [
        "DosArbolesEstimarGanancia <- function(semilla, training_pct, param_rpart1, param_rpart2) {\n",
        "  # particiono estratificadamente el dataset\n",
        "  particionar(dataset,\n",
        "    division = c(training_pct, 100L -training_pct),\n",
        "    agrupa = \"clase_ternaria\",\n",
        "    seed = semilla # aqui se usa SU semilla\n",
        "  )\n",
        "\n",
        "  # genero el modelo\n",
        "  # predecir clase_ternaria a partir del resto\n",
        "  modelo1 <- rpart(\"clase_ternaria ~ .\",\n",
        "    data = dataset[fold == 1], # fold==1  es training,  el 70% de los datos\n",
        "    xval = 0,\n",
        "    control = param_rpart1\n",
        "  ) # aqui van los parametros del arbol\n",
        "\n",
        "  # aplico el modelo a los datos de testing\n",
        "  prediccion1 <- predict(modelo1, # el modelo que genere recien\n",
        "    dataset[fold == 2], # fold==2  es testing, el 30% de los datos\n",
        "    type = \"prob\"\n",
        "  ) # type= \"prob\"  es que devuelva la probabilidad\n",
        "\n",
        "\n",
        "  # calculo la ganancia en testing  qu es fold==2\n",
        "  ganancia_test1 <- dataset[\n",
        "    fold == 2,\n",
        "    sum(ifelse(prediccion1[, \"BAJA+2\"] > 0.025,\n",
        "      ifelse(clase_ternaria == \"BAJA+2\", 117000, -3000),\n",
        "      0\n",
        "    ))\n",
        "  ]\n",
        "\n",
        "  # escalo la ganancia como si fuera todo el dataset\n",
        "  ganancia_test_normalizada1 <- ganancia_test1 / (( 100 - training_pct ) / 100 )\n",
        "\n",
        "  modelo2 <- rpart(\"clase_ternaria ~ .\",\n",
        "    data = dataset[fold == 1], # fold==1  es training,  el 70% de los datos\n",
        "    xval = 0,\n",
        "    control = param_rpart2\n",
        "  ) # aqui van los parametros del arbol\n",
        "\n",
        "  # aplico el modelo a los datos de testing\n",
        "  prediccion2 <- predict(modelo2, # el modelo que genere recien\n",
        "    dataset[fold == 2], # fold==2  es testing, el 30% de los datos\n",
        "    type = \"prob\"\n",
        "  ) # type= \"prob\"  es que devuelva la probabilidad\n",
        "\n",
        "\n",
        "  # calculo la ganancia en testing  qu es fold==2\n",
        "  ganancia_test2 <- dataset[\n",
        "    fold == 2,\n",
        "    sum(ifelse(prediccion2[, \"BAJA+2\"] > 0.025,\n",
        "      ifelse(clase_ternaria == \"BAJA+2\", 117000, -3000),\n",
        "      0\n",
        "    ))\n",
        "  ]\n",
        "\n",
        "  # escalo la ganancia como si fuera todo el dataset\n",
        "  ganancia_test_normalizada2 <- ganancia_test2 / (( 100 - training_pct ) / 100 )\n",
        "\n",
        "  return(list(\n",
        "    \"semilla\" = semilla,\n",
        "    \"ganancia1\" = ganancia_test_normalizada1,\n",
        "    \"ganancia2\" = ganancia_test_normalizada2\n",
        "  ))\n",
        "}"
      ],
      "metadata": {
        "id": "vFpBSFBYlpHL"
      },
      "execution_count": null,
      "outputs": []
    },
    {
      "cell_type": "code",
      "source": [
        "# 1  ->  el modelo 1 es mejor\n",
        "# 2  ->  el modelo 2 es mejor\n",
        "# 0  ->  No se pudo determinar con el tope de qsemillas_tope\n",
        "\n",
        "\n",
        "MejorArbol <- function( qsemillas_tope, training_pct, param_rpart1, param_rpart2) {\n",
        "\n",
        "  # genero numeros primos\n",
        "  primos <- generate_primes(min = 100000, max = 1000000)\n",
        "  set.seed(PARAM$semilla_primigenia) # inicializo\n",
        "  # me quedo con PARAM$qsemillas   semillas\n",
        "  semillas <- sample(primos, qsemillas_tope )\n",
        "\n",
        "  pvalue <- 1.0\n",
        "  isem <- 1\n",
        "  vgan1 <- c() # almaceno ganancias del modelo1\n",
        "  vgan2 <- c() # almaceno ganancias del modelo2\n",
        "\n",
        "  while( (isem <= qsemillas_tope)  & (pvalue > 0.05) ) {\n",
        "\n",
        "    res <- DosArbolesEstimarGanancia(\n",
        "       semillas[ isem ],\n",
        "       training_pct,\n",
        "       param_rpart1,\n",
        "       param_rpart2\n",
        "    )\n",
        "\n",
        "    vgan1 <- c( vgan1, res$ganancia1 )\n",
        "    vgan2 <- c( vgan2, res$ganancia2 )\n",
        "\n",
        "    wt <- wilcox.test( vgan1, vgan2, paired=TRUE )\n",
        "    pvalue <- wt$p.value\n",
        "\n",
        "    cat( isem, res$ganancia1, res$ganancia2, pvalue, \"\\n\" )\n",
        "    flush.console()\n",
        "    isem <- isem + 1\n",
        "  }\n",
        "\n",
        "  out <- 0\n",
        "\n",
        "  if( pvalue < 0.05 & mean(vgan1) > mean(vgan2)  )  out <- 1\n",
        "  if( pvalue < 0.05 & mean(vgan1) < mean(vgan2)  )  out <- 2\n",
        "\n",
        "\n",
        "  return( list( \"out\" = out,\n",
        "    \"qsemillas\" = length(vgan1),\n",
        "    \"m1\" = mean( vgan1 ),\n",
        "    \"m2\" = mean( vgan2 )\n",
        "   ) )\n",
        "}\n"
      ],
      "metadata": {
        "id": "Cp8RnA_NmE8g"
      },
      "execution_count": null,
      "outputs": []
    },
    {
      "cell_type": "code",
      "source": [
        "# carpeta de trabajo\n",
        "setwd(\"/content/buckets/b1/exp\")\n",
        "experimento <- \"exp209\"\n",
        "dir.create(experimento, showWarnings=FALSE)\n",
        "setwd( paste0(\"/content/buckets/b1/exp/\", experimento ))"
      ],
      "metadata": {
        "id": "r1motpfOlpHM"
      },
      "execution_count": null,
      "outputs": []
    },
    {
      "cell_type": "code",
      "source": [
        "# lectura del dataset\n",
        "dataset <- fread(\"/content/datasets/dataset_pequeno.csv\")\n",
        "\n",
        "# trabajo solo con los datos con clase, es decir 202107\n",
        "dataset <- dataset[clase_ternaria != \"\"]"
      ],
      "metadata": {
        "id": "hT0LaKWumTSu"
      },
      "execution_count": null,
      "outputs": []
    },
    {
      "cell_type": "code",
      "source": [
        "Sys.time()\n",
        "\n",
        "comparacion <- MejorArbol(\n",
        "   PARAM$qsemillas_tope,\n",
        "   PARAM$training_pct,\n",
        "   PARAM$rpart1,\n",
        "   PARAM$rpart2\n",
        " )\n",
        "\n",
        "\n",
        "print( comparacion )\n",
        "\n",
        "Sys.time()"
      ],
      "metadata": {
        "id": "wsk0F77ambVW"
      },
      "execution_count": null,
      "outputs": []
    },
    {
      "cell_type": "markdown",
      "source": [
        "### Acciones a realizar\n",
        "* Reportar la  los resultados en la planilla colaborativa hoja  **C2-Wilcox**\n"
      ],
      "metadata": {
        "id": "d2br1bgJlpHQ"
      }
    },
    {
      "cell_type": "markdown",
      "source": [
        "\n",
        "\n",
        "---\n",
        "\n"
      ],
      "metadata": {
        "id": "x7SebtV2lpHQ"
      }
    }
  ]
}