{
  "nbformat": 4,
  "nbformat_minor": 0,
  "metadata": {
    "colab": {
      "provenance": [],
      "include_colab_link": true
    },
    "kernelspec": {
      "name": "ir",
      "display_name": "R"
    },
    "language_info": {
      "name": "R"
    }
  },
  "cells": [
    {
      "cell_type": "markdown",
      "metadata": {
        "id": "view-in-github",
        "colab_type": "text"
      },
      "source": [
        "<a href=\"https://colab.research.google.com/github/keiverdatascience/labo2025v/blob/main/src/rpart/290_TareaHogar_02.ipynb\" target=\"_parent\"><img src=\"https://colab.research.google.com/assets/colab-badge.svg\" alt=\"Open In Colab\"/></a>"
      ]
    },
    {
      "cell_type": "markdown",
      "source": [
        "# Tarea para el Hogar 02"
      ],
      "metadata": {
        "id": "F3r8aa3pBigj"
      }
    },
    {
      "cell_type": "markdown",
      "source": [
        "Esta Tarea para el Hogar 02 se entrega el final de la segunda clase\n",
        "<br> se espera de usted que intente avanzar con los desafios propuestos y que los traiga terminados para la Clase 03, ya que se analizarán los resultados"
      ],
      "metadata": {
        "id": "nBm4ktHUBmZt"
      }
    },
    {
      "cell_type": "markdown",
      "source": [
        "##  1. Ensembles de Modelos"
      ],
      "metadata": {
        "id": "TK-M04ElCESC"
      }
    },
    {
      "cell_type": "markdown",
      "source": [
        "Vea el siguiente video [BBC - The Code - The Wisdom of the Crowd](https://www.youtube.com/watch?v=iOucwX7Z1HU)    ( 5 min)\n"
      ],
      "metadata": {
        "id": "biPYxgobCOSS"
      }
    },
    {
      "cell_type": "markdown",
      "source": [
        "Lea los siguientes artículos\n",
        "\n",
        "\n",
        "*   [The Wisdom of Crowds (Vox Populi) by Francis Galton](https://www.all-about-psychology.com/the-wisdom-of-crowds.html)  (10 min)\n",
        "*   [A Gentle Introduction to Ensemble Learning](https://machinelearningmastery.com/what-is-ensemble-learning/)  (10 min)\n",
        "\n"
      ],
      "metadata": {
        "id": "FBszBRyNCcjp"
      }
    },
    {
      "cell_type": "markdown",
      "source": [
        "\n",
        "\n",
        "---\n",
        "\n"
      ],
      "metadata": {
        "id": "x7SebtV2lpHQ"
      }
    },
    {
      "cell_type": "markdown",
      "source": [
        "##  2.  Zero2Hero   primera parte\n",
        "Se han lanzado los primeros fascículos coleccionables llamados \"from Zero to Hero\" que muy detalladamente, paso a paso enseñan todo lo necesario de R para entender los scripts oficiales de la asignatura.\n",
        "Están en el repositorio oficial de la asignatura, carpeta  **src/zero2hero**"
      ],
      "metadata": {
        "id": "NQcY8u2MDSLT"
      }
    },
    {
      "cell_type": "markdown",
      "source": [
        "\n",
        "\n",
        "---\n",
        "\n"
      ],
      "metadata": {
        "id": "GcO0OSiIEAGy"
      }
    },
    {
      "cell_type": "markdown",
      "source": [
        "## 3.  Grid Search"
      ],
      "metadata": {
        "id": "6MStcyn0EBdT"
      }
    },
    {
      "cell_type": "markdown",
      "source": [
        "Busque en internet el precido significado de los hiperparámetros de la librería **rpart**  que está implementando el algoritmo **CART**  Classification and Regression Trees  propuesto en el año 1984 por Leo Brieman:\n",
        "\n",
        "*   cp\n",
        "*   maxdepth\n",
        "*   minsplit\n",
        "*   minbucket\n",
        "\n",
        "Entienda que valores es razonable tome cada hiperparámetro,  en particular profundice en el hiperparámetro  **cp**  y la posibilidad que tome valores negativos.  Es válido consultar a su amigo de *capacidades especiales*  ChatGPT\n"
      ],
      "metadata": {
        "id": "gM8RKXDgEIY0"
      }
    },
    {
      "cell_type": "markdown",
      "source": [
        "En las siguientes celdas a un notebook incompleto, un esqueleto de codigo brindado a modo de facilitarle la tarea de codeo y permitir que su valiosa cognición se concentre temas conceptuales de Ciencia de Datos\n",
        "\n",
        "Modifiquelo agregando loops para que recorra TODOS los hiperparámetros de rpart  < cp, maxdepth, minsplit, minbucket >, y luego póngalo a correr. Recuerde cambiar por SU semilla\n",
        "Tenga muy presente la granularidad que eligirá para cada hiperparámetro."
      ],
      "metadata": {
        "id": "_k7eT3HIFy9y"
      }
    },
    {
      "cell_type": "markdown",
      "source": [
        "### Seteo del ambiente en Google Colab"
      ],
      "metadata": {
        "id": "kmLygy1TYPfg"
      }
    },
    {
      "cell_type": "markdown",
      "source": [
        "Esta parte se debe correr con el runtime en Python3\n",
        "<br>Ir al menu, Runtime -> Change Runtime Tipe -> Runtime type ->  **Python 3**"
      ],
      "metadata": {
        "id": "OikOm5K2YU3X"
      }
    },
    {
      "cell_type": "markdown",
      "source": [
        "Conectar la virtual machine donde esta corriendo Google Colab con el  Google Drive, para poder tener persistencia de archivos"
      ],
      "metadata": {
        "id": "4fmV5LyZdFyI"
      }
    },
    {
      "cell_type": "code",
      "source": [
        "# primero establecer el Runtime de Python 3\n",
        "from google.colab import drive\n",
        "drive.mount('/content/.drive')"
      ],
      "metadata": {
        "id": "ilEZ-bE2VybW",
        "outputId": "9cf183e7-1bfb-43ac-a2c5-56accbb00f36",
        "colab": {
          "base_uri": "https://localhost:8080/"
        }
      },
      "execution_count": 1,
      "outputs": [
        {
          "output_type": "stream",
          "name": "stdout",
          "text": [
            "Mounted at /content/.drive\n"
          ]
        }
      ]
    },
    {
      "cell_type": "markdown",
      "source": [
        "Para correr la siguiente celda es fundamental en Arranque en Frio haber copiado el archivo kaggle.json al Google Drive, en la carpeta indicada en el instructivo\n",
        "\n",
        "<br>los siguientes comando estan en shell script de Linux\n",
        "*   Crear las carpetas en el Google Drive\n",
        "*   \"instalar\" el archivo kaggle.json desde el Google Drive a la virtual machine para que pueda ser utilizado por la libreria  kaggle de Python\n",
        "*   Bajar el  **dataset_pequeno**  al  Google Drive  y tambien al disco local de la virtual machine que esta corriendo Google Colab\n",
        "\n"
      ],
      "metadata": {
        "id": "ilaKtqWldeWg"
      }
    },
    {
      "cell_type": "code",
      "source": [
        "%%shell\n",
        "\n",
        "mkdir -p \"/content/.drive/My Drive/labo1\"\n",
        "mkdir -p \"/content/buckets\"\n",
        "ln -s \"/content/.drive/My Drive/labo1\" /content/buckets/b1\n",
        "\n",
        "mkdir -p ~/.kaggle\n",
        "cp /content/buckets/b1/kaggle/kaggle.json  ~/.kaggle\n",
        "chmod 600 ~/.kaggle/kaggle.json\n",
        "\n",
        "\n",
        "mkdir -p /content/buckets/b1/exp\n",
        "mkdir -p /content/buckets/b1/datasets\n",
        "mkdir -p /content/datasets\n",
        "\n",
        "\n",
        "\n",
        "archivo_origen=\"https://storage.googleapis.com/open-courses/austral2025-af91/dataset_pequeno.csv\"\n",
        "archivo_destino=\"/content/datasets/dataset_pequeno.csv\"\n",
        "archivo_destino_bucket=\"/content/buckets/b1/datasets/dataset_pequeno.csv\"\n",
        "\n",
        "if ! test -f $archivo_destino_bucket; then\n",
        "  wget  $archivo_origen  -O $archivo_destino_bucket\n",
        "fi\n",
        "\n",
        "\n",
        "if ! test -f $archivo_destino; then\n",
        "  cp  $archivo_destino_bucket  $archivo_destino\n",
        "fi\n",
        "\n"
      ],
      "metadata": {
        "id": "W8dQFI5QYCFa",
        "outputId": "54d0047f-d4cb-40b4-fe02-5b97871f77c0",
        "colab": {
          "base_uri": "https://localhost:8080/"
        }
      },
      "execution_count": 2,
      "outputs": [
        {
          "output_type": "execute_result",
          "data": {
            "text/plain": []
          },
          "metadata": {},
          "execution_count": 2
        }
      ]
    },
    {
      "cell_type": "markdown",
      "source": [
        "limpio el ambiente de R"
      ],
      "metadata": {
        "id": "SE94XRhWsxkX"
      }
    },
    {
      "cell_type": "code",
      "source": [
        "# limpio la memoria\n",
        "rm(list=ls(all.names=TRUE)) # remove all objects\n",
        "gc(full=TRUE, verbose=FALSE) # garbage collection"
      ],
      "metadata": {
        "id": "oZG_4br6szlT",
        "outputId": "1fa8f1f1-b52a-47d5-f493-c570ea27bf37",
        "colab": {
          "base_uri": "https://localhost:8080/",
          "height": 129
        }
      },
      "execution_count": 8,
      "outputs": [
        {
          "output_type": "display_data",
          "data": {
            "text/html": [
              "<table class=\"dataframe\">\n",
              "<caption>A matrix: 2 × 6 of type dbl</caption>\n",
              "<thead>\n",
              "\t<tr><th></th><th scope=col>used</th><th scope=col>(Mb)</th><th scope=col>gc trigger</th><th scope=col>(Mb)</th><th scope=col>max used</th><th scope=col>(Mb)</th></tr>\n",
              "</thead>\n",
              "<tbody>\n",
              "\t<tr><th scope=row>Ncells</th><td> 763625</td><td>40.8</td><td>1454454</td><td>77.7</td><td>1454454</td><td>77.7</td></tr>\n",
              "\t<tr><th scope=row>Vcells</th><td>1404191</td><td>10.8</td><td>8388608</td><td>64.0</td><td>6074033</td><td>46.4</td></tr>\n",
              "</tbody>\n",
              "</table>\n"
            ],
            "text/markdown": "\nA matrix: 2 × 6 of type dbl\n\n| <!--/--> | used | (Mb) | gc trigger | (Mb) | max used | (Mb) |\n|---|---|---|---|---|---|---|\n| Ncells |  763625 | 40.8 | 1454454 | 77.7 | 1454454 | 77.7 |\n| Vcells | 1404191 | 10.8 | 8388608 | 64.0 | 6074033 | 46.4 |\n\n",
            "text/latex": "A matrix: 2 × 6 of type dbl\n\\begin{tabular}{r|llllll}\n  & used & (Mb) & gc trigger & (Mb) & max used & (Mb)\\\\\n\\hline\n\tNcells &  763625 & 40.8 & 1454454 & 77.7 & 1454454 & 77.7\\\\\n\tVcells & 1404191 & 10.8 & 8388608 & 64.0 & 6074033 & 46.4\\\\\n\\end{tabular}\n",
            "text/plain": [
              "       used    (Mb) gc trigger (Mb) max used (Mb)\n",
              "Ncells  763625 40.8 1454454    77.7 1454454  77.7\n",
              "Vcells 1404191 10.8 8388608    64.0 6074033  46.4"
            ]
          },
          "metadata": {}
        }
      ]
    },
    {
      "cell_type": "code",
      "source": [
        "# cargo las librerias que necesito\n",
        "require(\"data.table\")\n",
        "require(\"rpart\")\n",
        "require(\"parallel\")\n",
        "if (!require(\"primes\")) install.packages(\"primes\")\n",
        "require(\"primes\")"
      ],
      "metadata": {
        "id": "JO-12d7YHkWy"
      },
      "execution_count": 9,
      "outputs": []
    },
    {
      "cell_type": "markdown",
      "source": [
        "Aqui debe poner SU semiila primigenia"
      ],
      "metadata": {
        "id": "0MclPEJ6Q8Bp"
      }
    },
    {
      "cell_type": "code",
      "source": [
        "PARAM <- list()\n",
        "# reemplazar por su primer semilla\n",
        "PARAM$semilla_primigenia <- 245677\n",
        "PARAM$qsemillas <- 1\n",
        "\n",
        "PARAM$training_pct <- 70L  # entre  1L y 99L\n",
        "\n",
        "# elegir SU dataset comentando/ descomentando\n",
        "PARAM$dataset_nom <- \"~/datasets/dataset_pequeno.csv\""
      ],
      "metadata": {
        "id": "Vt5fC6bWHu5r"
      },
      "execution_count": 10,
      "outputs": []
    },
    {
      "cell_type": "code",
      "source": [
        "# particionar agrega una columna llamada fold a un dataset\n",
        "#  que consiste en una particion estratificada segun agrupa\n",
        "# particionar( data=dataset, division=c(70,30), agrupa=clase_ternaria, seed=semilla)\n",
        "#   crea una particion 70, 30\n",
        "\n",
        "particionar <- function(data, division, agrupa = \"\", campo = \"fold\", start = 1, seed = NA) {\n",
        "  if (!is.na(seed)) set.seed(seed)\n",
        "\n",
        "  bloque <- unlist(mapply(function(x, y) {\n",
        "    rep(y, x)\n",
        "  }, division, seq(from = start, length.out = length(division))))\n",
        "\n",
        "  data[, (campo) := sample(rep(bloque, ceiling(.N / length(bloque))))[1:.N],\n",
        "    by = agrupa\n",
        "  ]\n",
        "}\n"
      ],
      "metadata": {
        "id": "Z1dchsrWH4MD"
      },
      "execution_count": 11,
      "outputs": []
    },
    {
      "cell_type": "code",
      "source": [
        "ArbolEstimarGanancia <- function(semilla, training_pct, param_basicos) {\n",
        "  # particiono estratificadamente el dataset\n",
        "  particionar(dataset,\n",
        "    division = c(training_pct, 100L -training_pct),\n",
        "    agrupa = \"clase_ternaria\",\n",
        "    seed = semilla # aqui se usa SU semilla\n",
        "  )\n",
        "\n",
        "  # genero el modelo\n",
        "  # predecir clase_ternaria a partir del resto\n",
        "  modelo <- rpart(\"clase_ternaria ~ .\",\n",
        "    data = dataset[fold == 1], # fold==1  es training,  el 70% de los datos\n",
        "    xval = 0,\n",
        "    control = param_basicos\n",
        "  ) # aqui van los parametros del arbol\n",
        "\n",
        "  # aplico el modelo a los datos de testing\n",
        "  prediccion <- predict(modelo, # el modelo que genere recien\n",
        "    dataset[fold == 2], # fold==2  es testing, el 30% de los datos\n",
        "    type = \"prob\"\n",
        "  ) # type= \"prob\"  es que devuelva la probabilidad\n",
        "\n",
        "  # prediccion es una matriz con TRES columnas,\n",
        "  #  llamadas \"BAJA+1\", \"BAJA+2\"  y \"CONTINUA\"\n",
        "  # cada columna es el vector de probabilidades\n",
        "\n",
        "\n",
        "  # calculo la ganancia en testing  qu es fold==2\n",
        "  ganancia_test <- dataset[\n",
        "    fold == 2,\n",
        "    sum(ifelse(prediccion[, \"BAJA+2\"] > 0.025,\n",
        "      ifelse(clase_ternaria == \"BAJA+2\", 117000, -3000),\n",
        "      0\n",
        "    ))\n",
        "  ]\n",
        "\n",
        "  # escalo la ganancia como si fuera todo el dataset\n",
        "  ganancia_test_normalizada <- ganancia_test / (( 100 - PARAM$training_pct ) / 100 )\n",
        "\n",
        "  return(\n",
        "    c( list(\"semilla\" = semilla),\n",
        "      param_basicos,\n",
        "      list( \"ganancia_test\" = ganancia_test_normalizada )\n",
        "     )\n",
        "  )\n",
        "}\n"
      ],
      "metadata": {
        "id": "xsHwS1CzIA70"
      },
      "execution_count": 12,
      "outputs": []
    },
    {
      "cell_type": "code",
      "source": [
        "ArbolesMontecarlo <- function(semillas, param_basicos) {\n",
        "\n",
        "  # la funcion mcmapply  llama a la funcion ArbolEstimarGanancia\n",
        "  #  tantas veces como valores tenga el vector  PARAM$semillas\n",
        "  salida <- mcmapply(ArbolEstimarGanancia,\n",
        "    semillas, # paso el vector de semillas\n",
        "    MoreArgs = list(PARAM$training_pct, param_basicos), # aqui paso el segundo parametro\n",
        "    SIMPLIFY = FALSE,\n",
        "    mc.cores = detectCores()\n",
        "  )\n",
        "\n",
        "  return(salida)\n",
        "}\n"
      ],
      "metadata": {
        "id": "BvBVOuhqIEjD"
      },
      "execution_count": 13,
      "outputs": []
    },
    {
      "cell_type": "code",
      "source": [
        "# carpeta de trabajo\n",
        "# por favor cambiar numero de experimento si se cambia el loop principal\n",
        "setwd(\"/content/buckets/b1/exp\")\n",
        "experimento <- \"HT2900\"\n",
        "dir.create(experimento, showWarnings=FALSE)\n",
        "setwd( paste0(\"/content/buckets/b1/exp/\", experimento ))"
      ],
      "metadata": {
        "id": "L-DOGHOjIG7G"
      },
      "execution_count": 14,
      "outputs": []
    },
    {
      "cell_type": "code",
      "source": [
        "# lectura del dataset\n",
        "dataset <- fread(\"/content/datasets/dataset_pequeno.csv\")\n",
        "\n",
        "# trabajo solo con los datos con clase, es decir 202107\n",
        "dataset <- dataset[clase_ternaria != \"\"]"
      ],
      "metadata": {
        "id": "NM-mrLWcIPo6"
      },
      "execution_count": 15,
      "outputs": []
    },
    {
      "cell_type": "code",
      "source": [
        "\n",
        "# genero numeros primos\n",
        "primos <- generate_primes(min = 100000, max = 1000000)\n",
        "set.seed(PARAM$semilla_primigenia) # inicializo\n",
        "# me quedo con PARAM$qsemillas   semillas\n",
        "PARAM$semillas <- sample(primos, PARAM$qsemillas )\n"
      ],
      "metadata": {
        "id": "tSlY0EcgIWdi"
      },
      "execution_count": 16,
      "outputs": []
    },
    {
      "cell_type": "code",
      "source": [
        "# genero la data.table donde van los resultados detallados del Grid Search\n",
        "# un registro para cada combinacion de < semilla, parametros >\n",
        "\n",
        "if(file.exists(\"gridsearch_detalle.txt\")){\n",
        "  tb_grid_search_detalle <- fread(\"gridsearch_detalle.txt\")\n",
        "}else{\n",
        "  tb_grid_search_detalle <- data.table(\n",
        "    semilla = integer(),\n",
        "    cp = numeric(),\n",
        "    maxdepth = integer(),\n",
        "   minsplit = integer(),\n",
        "    minbucket = integer(),\n",
        "    ganancia_test = numeric()\n",
        "  )\n",
        "}\n",
        "\n",
        "nrow( tb_grid_search_detalle )"
      ],
      "metadata": {
        "id": "xxCAwIKyIaTl",
        "outputId": "e675f535-092a-457e-adb9-7aedd47422d9",
        "colab": {
          "base_uri": "https://localhost:8080/",
          "height": 34
        }
      },
      "execution_count": 20,
      "outputs": [
        {
          "output_type": "display_data",
          "data": {
            "text/html": [
              "0"
            ],
            "text/markdown": "0",
            "text/latex": "0",
            "text/plain": [
              "[1] 0"
            ]
          },
          "metadata": {}
        }
      ]
    },
    {
      "cell_type": "markdown",
      "source": [
        "Esta es la parte del código que usted debe expandir a TODOS los hiperparámetros de rpart,\n",
        "<br>ya que actualmente apenas recorre  maxdepth y  minsplit  dejando fijos  cp=-0.5  y minbucket=5"
      ],
      "metadata": {
        "id": "eAuGBNL8IkOD"
      }
    },
    {
      "cell_type": "code",
      "source": [
        "\n",
        "# itero por los loops anidados para cada hiperparametro\n",
        "iter <- 0\n",
        "\n",
        "# Inicializar barra de progreso\n",
        "pb <- txtProgressBar(min = 0, max = 1764, style = 3)\n",
        "\n",
        "for (vmax_depth in c(4, 6, 8, 10, 12, 14)) {\n",
        "  for (vmin_split in c(2000, 1000, 800, 600, 400, 200, 100)) {\n",
        "    for (vmin_bucket in c(1000, 500, 200, 100, 50, 10, 5)) {\n",
        "      for (vcp in c(-0.5, 0.0005, 0.001, 0.005, 0.01, 0.02)) {\n",
        "\n",
        "        # Evito combinaciones inválidas: minbucket no puede ser mayor que la mitad de minsplit\n",
        "        if (vmin_bucket > vmin_split/2) {\n",
        "          # opcional: print para debug si querés ver qué combos se saltan\n",
        "          cat(\" - Skipping: minbucket >\", vmin_split, \"\\n\")\n",
        "          next\n",
        "        }\n",
        "\n",
        "    # notar como se agrega\n",
        "\n",
        "    iter <- iter + 1\n",
        "    cat( iter, \" \" )\n",
        "    flush.console()\n",
        "    if( iter*PARAM$qsemillas < nrow(tb_grid_search_detalle)+1 ) next\n",
        "\n",
        "    # vminsplit  minima cantidad de registros en un nodo para hacer el split\n",
        "    param_basicos <- list(\n",
        "      \"cp\" = vcp, # complejidad minima\n",
        "      \"maxdepth\" = vmax_depth, # profundidad máxima del arbol\n",
        "      \"minsplit\" = vmin_split, # tamaño minimo de nodo para hacer split\n",
        "      \"minbucket\" = vmin_bucket # minima cantidad de registros en una hoja\n",
        "    )\n",
        "\n",
        "    # Un solo llamado, con la semilla 17\n",
        "    ganancias <- ArbolesMontecarlo(PARAM$semillas, param_basicos)\n",
        "\n",
        "    # agrego a la tabla\n",
        "    tb_grid_search_detalle <- rbindlist(\n",
        "      list( tb_grid_search_detalle,\n",
        "            rbindlist(ganancias) )\n",
        "    )\n",
        "\n",
        "    # Actualizar barra de progreso\n",
        "        setTxtProgressBar(pb, iter)\n",
        "\n",
        "      }\n",
        "    }\n",
        "  }\n",
        "\n",
        "  # grabo cada vez TODA la tabla en el loop mas externo\n",
        "  fwrite( tb_grid_search_detalle,\n",
        "          file = \"gridsearch_detalle.txt\",\n",
        "          sep = \"\\t\" )\n",
        "}\n",
        "\n",
        "close(pb)\n"
      ],
      "metadata": {
        "id": "ipLHm3STIfmb",
        "outputId": "fac27717-bea7-4f1e-9242-36f25959ccbe",
        "colab": {
          "base_uri": "https://localhost:8080/"
        }
      },
      "execution_count": 21,
      "outputs": [
        {
          "output_type": "stream",
          "name": "stdout",
          "text": [
            "  |==                                                                    |   2%39  40  41  42   - Skipping: minbucket > 1000 \n",
            " - Skipping: minbucket > 1000 \n",
            " - Skipping: minbucket > 1000 \n",
            " - Skipping: minbucket > 1000 \n",
            " - Skipping: minbucket > 1000 \n",
            " - Skipping: minbucket > 1000 \n",
            "  |===                                                                   |   4%65  66  67  68  69  70  71  72  73  74  75  76  77  78   - Skipping: minbucket > 800 \n",
            " - Skipping: minbucket > 800 \n",
            " - Skipping: minbucket > 800 \n",
            " - Skipping: minbucket > 800 \n",
            " - Skipping: minbucket > 800 \n",
            " - Skipping: minbucket > 800 \n",
            " - Skipping: minbucket > 800 \n",
            " - Skipping: minbucket > 800 \n",
            " - Skipping: minbucket > 800 \n",
            " - Skipping: minbucket > 800 \n",
            " - Skipping: minbucket > 800 \n",
            " - Skipping: minbucket > 800 \n",
            "  |====                                                                  |   6%99  100  101  102  103  104  105  106  107  108   - Skipping: minbucket > 600 \n",
            " - Skipping: minbucket > 600 \n",
            " - Skipping: minbucket > 600 \n",
            " - Skipping: minbucket > 600 \n",
            " - Skipping: minbucket > 600 \n",
            " - Skipping: minbucket > 600 \n",
            " - Skipping: minbucket > 600 \n",
            " - Skipping: minbucket > 600 \n",
            " - Skipping: minbucket > 600 \n",
            " - Skipping: minbucket > 600 \n",
            " - Skipping: minbucket > 600 \n",
            " - Skipping: minbucket > 600 \n",
            "  |=====                                                                 |   8%134  135  136  137  138   - Skipping: minbucket > 400 \n",
            " - Skipping: minbucket > 400 \n",
            " - Skipping: minbucket > 400 \n",
            " - Skipping: minbucket > 400 \n",
            " - Skipping: minbucket > 400 \n",
            " - Skipping: minbucket > 400 \n",
            " - Skipping: minbucket > 400 \n",
            " - Skipping: minbucket > 400 \n",
            " - Skipping: minbucket > 400 \n",
            " - Skipping: minbucket > 400 \n",
            " - Skipping: minbucket > 400 \n",
            " - Skipping: minbucket > 400 \n",
            "  |=======                                                               |  10% - Skipping: minbucket > 200 \n",
            " - Skipping: minbucket > 200 \n",
            " - Skipping: minbucket > 200 \n",
            " - Skipping: minbucket > 200 \n",
            " - Skipping: minbucket > 200 \n",
            " - Skipping: minbucket > 200 \n",
            " - Skipping: minbucket > 200 \n",
            " - Skipping: minbucket > 200 \n",
            " - Skipping: minbucket > 200 \n",
            " - Skipping: minbucket > 200 \n",
            " - Skipping: minbucket > 200 \n",
            " - Skipping: minbucket > 200 \n",
            " - Skipping: minbucket > 200 \n",
            " - Skipping: minbucket > 200 \n",
            " - Skipping: minbucket > 200 \n",
            " - Skipping: minbucket > 200 \n",
            " - Skipping: minbucket > 200 \n",
            " - Skipping: minbucket > 200 \n",
            "  |========                                                              |  11%190  191  192   - Skipping: minbucket > 100 \n",
            " - Skipping: minbucket > 100 \n",
            " - Skipping: minbucket > 100 \n",
            " - Skipping: minbucket > 100 \n",
            " - Skipping: minbucket > 100 \n",
            " - Skipping: minbucket > 100 \n",
            " - Skipping: minbucket > 100 \n",
            " - Skipping: minbucket > 100 \n",
            " - Skipping: minbucket > 100 \n",
            " - Skipping: minbucket > 100 \n",
            " - Skipping: minbucket > 100 \n",
            " - Skipping: minbucket > 100 \n",
            " - Skipping: minbucket > 100 \n",
            " - Skipping: minbucket > 100 \n",
            " - Skipping: minbucket > 100 \n",
            " - Skipping: minbucket > 100 \n",
            " - Skipping: minbucket > 100 \n",
            " - Skipping: minbucket > 100 \n",
            " - Skipping: minbucket > 100 \n",
            " - Skipping: minbucket > 100 \n",
            " - Skipping: minbucket > 100 \n",
            " - Skipping: minbucket > 100 \n",
            " - Skipping: minbucket > 100 \n",
            " - Skipping: minbucket > 100 \n",
            "  |==========                                                            |  14%241  242  243  244  245  246  247  248  249  250  251  252   - Skipping: minbucket > 1000 \n",
            " - Skipping: minbucket > 1000 \n",
            " - Skipping: minbucket > 1000 \n",
            " - Skipping: minbucket > 1000 \n",
            " - Skipping: minbucket > 1000 \n",
            " - Skipping: minbucket > 1000 \n",
            "  |===========                                                           |  16%275  276  277  278  279  280  281  282  283  284  285  286  287  288   - Skipping: minbucket > 800 \n",
            " - Skipping: minbucket > 800 \n",
            " - Skipping: minbucket > 800 \n",
            " - Skipping: minbucket > 800 \n",
            " - Skipping: minbucket > 800 \n",
            " - Skipping: minbucket > 800 \n",
            " - Skipping: minbucket > 800 \n",
            " - Skipping: minbucket > 800 \n",
            " - Skipping: minbucket > 800 \n",
            " - Skipping: minbucket > 800 \n",
            " - Skipping: minbucket > 800 \n",
            " - Skipping: minbucket > 800 \n",
            "  |=============                                                         |  18%317  318   - Skipping: minbucket > 600 \n",
            " - Skipping: minbucket > 600 \n",
            " - Skipping: minbucket > 600 \n",
            " - Skipping: minbucket > 600 \n",
            " - Skipping: minbucket > 600 \n",
            " - Skipping: minbucket > 600 \n",
            " - Skipping: minbucket > 600 \n",
            " - Skipping: minbucket > 600 \n",
            " - Skipping: minbucket > 600 \n",
            " - Skipping: minbucket > 600 \n",
            " - Skipping: minbucket > 600 \n",
            " - Skipping: minbucket > 600 \n",
            "  |==============                                                        |  20%345  346  347  348   - Skipping: minbucket > 400 \n",
            " - Skipping: minbucket > 400 \n",
            " - Skipping: minbucket > 400 \n",
            " - Skipping: minbucket > 400 \n",
            " - Skipping: minbucket > 400 \n",
            " - Skipping: minbucket > 400 \n",
            " - Skipping: minbucket > 400 \n",
            " - Skipping: minbucket > 400 \n",
            " - Skipping: minbucket > 400 \n",
            " - Skipping: minbucket > 400 \n",
            " - Skipping: minbucket > 400 \n",
            " - Skipping: minbucket > 400 \n",
            "  |===============                                                       |  21%367  368  369  370  371  372  373  374  375  376  377  378   - Skipping: minbucket > 200 \n",
            " - Skipping: minbucket > 200 \n",
            " - Skipping: minbucket > 200 \n",
            " - Skipping: minbucket > 200 \n",
            " - Skipping: minbucket > 200 \n",
            " - Skipping: minbucket > 200 \n",
            " - Skipping: minbucket > 200 \n",
            " - Skipping: minbucket > 200 \n",
            " - Skipping: minbucket > 200 \n",
            " - Skipping: minbucket > 200 \n",
            " - Skipping: minbucket > 200 \n",
            " - Skipping: minbucket > 200 \n",
            " - Skipping: minbucket > 200 \n",
            " - Skipping: minbucket > 200 \n",
            " - Skipping: minbucket > 200 \n",
            " - Skipping: minbucket > 200 \n",
            " - Skipping: minbucket > 200 \n",
            " - Skipping: minbucket > 200 \n",
            "  |================                                                      |  23%398  399  400  401  402   - Skipping: minbucket > 100 \n",
            " - Skipping: minbucket > 100 \n",
            " - Skipping: minbucket > 100 \n",
            " - Skipping: minbucket > 100 \n",
            " - Skipping: minbucket > 100 \n",
            " - Skipping: minbucket > 100 \n",
            " - Skipping: minbucket > 100 \n",
            " - Skipping: minbucket > 100 \n",
            " - Skipping: minbucket > 100 \n",
            " - Skipping: minbucket > 100 \n",
            " - Skipping: minbucket > 100 \n",
            " - Skipping: minbucket > 100 \n",
            " - Skipping: minbucket > 100 \n",
            " - Skipping: minbucket > 100 \n",
            " - Skipping: minbucket > 100 \n",
            " - Skipping: minbucket > 100 \n",
            " - Skipping: minbucket > 100 \n",
            " - Skipping: minbucket > 100 \n",
            " - Skipping: minbucket > 100 \n",
            " - Skipping: minbucket > 100 \n",
            " - Skipping: minbucket > 100 \n",
            " - Skipping: minbucket > 100 \n",
            " - Skipping: minbucket > 100 \n",
            " - Skipping: minbucket > 100 \n",
            "  |==================                                                    |  26%451  452  453  454  455  456  457  458  459  460  461  462   - Skipping: minbucket > 1000 \n",
            " - Skipping: minbucket > 1000 \n",
            " - Skipping: minbucket > 1000 \n",
            " - Skipping: minbucket > 1000 \n",
            " - Skipping: minbucket > 1000 \n",
            " - Skipping: minbucket > 1000 \n",
            "  |====================                                                  |  28%493  494  495  496  497  498   - Skipping: minbucket > 800 \n",
            " - Skipping: minbucket > 800 \n",
            " - Skipping: minbucket > 800 \n",
            " - Skipping: minbucket > 800 \n",
            " - Skipping: minbucket > 800 \n",
            " - Skipping: minbucket > 800 \n",
            " - Skipping: minbucket > 800 \n",
            " - Skipping: minbucket > 800 \n",
            " - Skipping: minbucket > 800 \n",
            " - Skipping: minbucket > 800 \n",
            " - Skipping: minbucket > 800 \n",
            " - Skipping: minbucket > 800 \n",
            "  |=====================                                                 |  30%522  523  524  525  526  527  528   - Skipping: minbucket > 600 \n",
            " - Skipping: minbucket > 600 \n",
            " - Skipping: minbucket > 600 \n",
            " - Skipping: minbucket > 600 \n",
            " - Skipping: minbucket > 600 \n",
            " - Skipping: minbucket > 600 \n",
            " - Skipping: minbucket > 600 \n",
            " - Skipping: minbucket > 600 \n",
            " - Skipping: minbucket > 600 \n",
            " - Skipping: minbucket > 600 \n",
            " - Skipping: minbucket > 600 \n",
            " - Skipping: minbucket > 600 \n",
            "  |======================                                                |  32%557  558   - Skipping: minbucket > 400 \n",
            " - Skipping: minbucket > 400 \n",
            " - Skipping: minbucket > 400 \n",
            " - Skipping: minbucket > 400 \n",
            " - Skipping: minbucket > 400 \n",
            " - Skipping: minbucket > 400 \n",
            " - Skipping: minbucket > 400 \n",
            " - Skipping: minbucket > 400 \n",
            " - Skipping: minbucket > 400 \n",
            " - Skipping: minbucket > 400 \n",
            " - Skipping: minbucket > 400 \n",
            " - Skipping: minbucket > 400 \n",
            "  |=======================                                               |  33%575  576  577  578  579  580  581  582  583  584  585  586  587  588   - Skipping: minbucket > 200 \n",
            " - Skipping: minbucket > 200 \n",
            " - Skipping: minbucket > 200 \n",
            " - Skipping: minbucket > 200 \n",
            " - Skipping: minbucket > 200 \n",
            " - Skipping: minbucket > 200 \n",
            " - Skipping: minbucket > 200 \n",
            " - Skipping: minbucket > 200 \n",
            " - Skipping: minbucket > 200 \n",
            " - Skipping: minbucket > 200 \n",
            " - Skipping: minbucket > 200 \n",
            " - Skipping: minbucket > 200 \n",
            " - Skipping: minbucket > 200 \n",
            " - Skipping: minbucket > 200 \n",
            " - Skipping: minbucket > 200 \n",
            " - Skipping: minbucket > 200 \n",
            " - Skipping: minbucket > 200 \n",
            " - Skipping: minbucket > 200 \n",
            "  |========================                                              |  35%610  611  612   - Skipping: minbucket > 100 \n",
            " - Skipping: minbucket > 100 \n",
            " - Skipping: minbucket > 100 \n",
            " - Skipping: minbucket > 100 \n",
            " - Skipping: minbucket > 100 \n",
            " - Skipping: minbucket > 100 \n",
            " - Skipping: minbucket > 100 \n",
            " - Skipping: minbucket > 100 \n",
            " - Skipping: minbucket > 100 \n",
            " - Skipping: minbucket > 100 \n",
            " - Skipping: minbucket > 100 \n",
            " - Skipping: minbucket > 100 \n",
            " - Skipping: minbucket > 100 \n",
            " - Skipping: minbucket > 100 \n",
            " - Skipping: minbucket > 100 \n",
            " - Skipping: minbucket > 100 \n",
            " - Skipping: minbucket > 100 \n",
            " - Skipping: minbucket > 100 \n",
            " - Skipping: minbucket > 100 \n",
            " - Skipping: minbucket > 100 \n",
            " - Skipping: minbucket > 100 \n",
            " - Skipping: minbucket > 100 \n",
            " - Skipping: minbucket > 100 \n",
            " - Skipping: minbucket > 100 \n",
            "  |===========================                                           |  38%669  670  671  672   - Skipping: minbucket > 1000 \n",
            " - Skipping: minbucket > 1000 \n",
            " - Skipping: minbucket > 1000 \n",
            " - Skipping: minbucket > 1000 \n",
            " - Skipping: minbucket > 1000 \n",
            " - Skipping: minbucket > 1000 \n",
            "  |============================                                          |  40%698  699  700  701  702  703  704  705  706  707  708   - Skipping: minbucket > 800 \n",
            " - Skipping: minbucket > 800 \n",
            " - Skipping: minbucket > 800 \n",
            " - Skipping: minbucket > 800 \n",
            " - Skipping: minbucket > 800 \n",
            " - Skipping: minbucket > 800 \n",
            " - Skipping: minbucket > 800 \n",
            " - Skipping: minbucket > 800 \n",
            " - Skipping: minbucket > 800 \n",
            " - Skipping: minbucket > 800 \n",
            " - Skipping: minbucket > 800 \n",
            " - Skipping: minbucket > 800 \n",
            "  |=============================                                         |  42%734  735  736  737  738   - Skipping: minbucket > 600 \n",
            " - Skipping: minbucket > 600 \n",
            " - Skipping: minbucket > 600 \n",
            " - Skipping: minbucket > 600 \n",
            " - Skipping: minbucket > 600 \n",
            " - Skipping: minbucket > 600 \n",
            " - Skipping: minbucket > 600 \n",
            " - Skipping: minbucket > 600 \n",
            " - Skipping: minbucket > 600 \n",
            " - Skipping: minbucket > 600 \n",
            " - Skipping: minbucket > 600 \n",
            " - Skipping: minbucket > 600 \n",
            "  |==============================                                        |  44% - Skipping: minbucket > 400 \n",
            " - Skipping: minbucket > 400 \n",
            " - Skipping: minbucket > 400 \n",
            " - Skipping: minbucket > 400 \n",
            " - Skipping: minbucket > 400 \n",
            " - Skipping: minbucket > 400 \n",
            " - Skipping: minbucket > 400 \n",
            " - Skipping: minbucket > 400 \n",
            " - Skipping: minbucket > 400 \n",
            " - Skipping: minbucket > 400 \n",
            " - Skipping: minbucket > 400 \n",
            " - Skipping: minbucket > 400 \n",
            "  |================================                                      |  45%795  796  797  798   - Skipping: minbucket > 200 \n",
            " - Skipping: minbucket > 200 \n",
            " - Skipping: minbucket > 200 \n",
            " - Skipping: minbucket > 200 \n",
            " - Skipping: minbucket > 200 \n",
            " - Skipping: minbucket > 200 \n",
            " - Skipping: minbucket > 200 \n",
            " - Skipping: minbucket > 200 \n",
            " - Skipping: minbucket > 200 \n",
            " - Skipping: minbucket > 200 \n",
            " - Skipping: minbucket > 200 \n",
            " - Skipping: minbucket > 200 \n",
            " - Skipping: minbucket > 200 \n",
            " - Skipping: minbucket > 200 \n",
            " - Skipping: minbucket > 200 \n",
            " - Skipping: minbucket > 200 \n",
            " - Skipping: minbucket > 200 \n",
            " - Skipping: minbucket > 200 \n",
            "  |=================================                                     |  47%822   - Skipping: minbucket > 100 \n",
            " - Skipping: minbucket > 100 \n",
            " - Skipping: minbucket > 100 \n",
            " - Skipping: minbucket > 100 \n",
            " - Skipping: minbucket > 100 \n",
            " - Skipping: minbucket > 100 \n",
            " - Skipping: minbucket > 100 \n",
            " - Skipping: minbucket > 100 \n",
            " - Skipping: minbucket > 100 \n",
            " - Skipping: minbucket > 100 \n",
            " - Skipping: minbucket > 100 \n",
            " - Skipping: minbucket > 100 \n",
            " - Skipping: minbucket > 100 \n",
            " - Skipping: minbucket > 100 \n",
            " - Skipping: minbucket > 100 \n",
            " - Skipping: minbucket > 100 \n",
            " - Skipping: minbucket > 100 \n",
            " - Skipping: minbucket > 100 \n",
            " - Skipping: minbucket > 100 \n",
            " - Skipping: minbucket > 100 \n",
            " - Skipping: minbucket > 100 \n",
            " - Skipping: minbucket > 100 \n",
            " - Skipping: minbucket > 100 \n",
            " - Skipping: minbucket > 100 \n",
            "  |===================================                                   |  50%875  876  877  878  879  880  881  882   - Skipping: minbucket > 1000 \n",
            " - Skipping: minbucket > 1000 \n",
            " - Skipping: minbucket > 1000 \n",
            " - Skipping: minbucket > 1000 \n",
            " - Skipping: minbucket > 1000 \n",
            " - Skipping: minbucket > 1000 \n",
            "  |====================================                                  |  52%910  911  912  913  914  915  916  917  918   - Skipping: minbucket > 800 \n",
            " - Skipping: minbucket > 800 \n",
            " - Skipping: minbucket > 800 \n",
            " - Skipping: minbucket > 800 \n",
            " - Skipping: minbucket > 800 \n",
            " - Skipping: minbucket > 800 \n",
            " - Skipping: minbucket > 800 \n",
            " - Skipping: minbucket > 800 \n",
            " - Skipping: minbucket > 800 \n",
            " - Skipping: minbucket > 800 \n",
            " - Skipping: minbucket > 800 \n",
            " - Skipping: minbucket > 800 \n",
            "  |======================================                                |  54%946  947  948   - Skipping: minbucket > 600 \n",
            " - Skipping: minbucket > 600 \n",
            " - Skipping: minbucket > 600 \n",
            " - Skipping: minbucket > 600 \n",
            " - Skipping: minbucket > 600 \n",
            " - Skipping: minbucket > 600 \n",
            " - Skipping: minbucket > 600 \n",
            " - Skipping: minbucket > 600 \n",
            " - Skipping: minbucket > 600 \n",
            " - Skipping: minbucket > 600 \n",
            " - Skipping: minbucket > 600 \n",
            " - Skipping: minbucket > 600 \n",
            "  |=======================================                               |  55%972  973  974  975  976  977  978   - Skipping: minbucket > 400 \n",
            " - Skipping: minbucket > 400 \n",
            " - Skipping: minbucket > 400 \n",
            " - Skipping: minbucket > 400 \n",
            " - Skipping: minbucket > 400 \n",
            " - Skipping: minbucket > 400 \n",
            " - Skipping: minbucket > 400 \n",
            " - Skipping: minbucket > 400 \n",
            " - Skipping: minbucket > 400 \n",
            " - Skipping: minbucket > 400 \n",
            " - Skipping: minbucket > 400 \n",
            " - Skipping: minbucket > 400 \n",
            "  |========================================                              |  57%998  999  1000  1001  1002  1003  1004  1005  1006  1007  1008   - Skipping: minbucket > 200 \n",
            " - Skipping: minbucket > 200 \n",
            " - Skipping: minbucket > 200 \n",
            " - Skipping: minbucket > 200 \n",
            " - Skipping: minbucket > 200 \n",
            " - Skipping: minbucket > 200 \n",
            " - Skipping: minbucket > 200 \n",
            " - Skipping: minbucket > 200 \n",
            " - Skipping: minbucket > 200 \n",
            " - Skipping: minbucket > 200 \n",
            " - Skipping: minbucket > 200 \n",
            " - Skipping: minbucket > 200 \n",
            " - Skipping: minbucket > 200 \n",
            " - Skipping: minbucket > 200 \n",
            " - Skipping: minbucket > 200 \n",
            " - Skipping: minbucket > 200 \n",
            " - Skipping: minbucket > 200 \n",
            " - Skipping: minbucket > 200 \n",
            "  |=========================================                             |  59% - Skipping: minbucket > 100 \n",
            " - Skipping: minbucket > 100 \n",
            " - Skipping: minbucket > 100 \n",
            " - Skipping: minbucket > 100 \n",
            " - Skipping: minbucket > 100 \n",
            " - Skipping: minbucket > 100 \n",
            " - Skipping: minbucket > 100 \n",
            " - Skipping: minbucket > 100 \n",
            " - Skipping: minbucket > 100 \n",
            " - Skipping: minbucket > 100 \n",
            " - Skipping: minbucket > 100 \n",
            " - Skipping: minbucket > 100 \n",
            " - Skipping: minbucket > 100 \n",
            " - Skipping: minbucket > 100 \n",
            " - Skipping: minbucket > 100 \n",
            " - Skipping: minbucket > 100 \n",
            " - Skipping: minbucket > 100 \n",
            " - Skipping: minbucket > 100 \n",
            " - Skipping: minbucket > 100 \n",
            " - Skipping: minbucket > 100 \n",
            " - Skipping: minbucket > 100 \n",
            " - Skipping: minbucket > 100 \n",
            " - Skipping: minbucket > 100 \n",
            " - Skipping: minbucket > 100 \n",
            "  |===========================================                           |  62%1086  1087  1088  1089  1090  1091  1092   - Skipping: minbucket > 1000 \n",
            " - Skipping: minbucket > 1000 \n",
            " - Skipping: minbucket > 1000 \n",
            " - Skipping: minbucket > 1000 \n",
            " - Skipping: minbucket > 1000 \n",
            " - Skipping: minbucket > 1000 \n",
            "  |=============================================                         |  64%1123  1124  1125  1126  1127  1128   - Skipping: minbucket > 800 \n",
            " - Skipping: minbucket > 800 \n",
            " - Skipping: minbucket > 800 \n",
            " - Skipping: minbucket > 800 \n",
            " - Skipping: minbucket > 800 \n",
            " - Skipping: minbucket > 800 \n",
            " - Skipping: minbucket > 800 \n",
            " - Skipping: minbucket > 800 \n",
            " - Skipping: minbucket > 800 \n",
            " - Skipping: minbucket > 800 \n",
            " - Skipping: minbucket > 800 \n",
            " - Skipping: minbucket > 800 \n",
            "  |==============================================                        |  66%1157  1158   - Skipping: minbucket > 600 \n",
            " - Skipping: minbucket > 600 \n",
            " - Skipping: minbucket > 600 \n",
            " - Skipping: minbucket > 600 \n",
            " - Skipping: minbucket > 600 \n",
            " - Skipping: minbucket > 600 \n",
            " - Skipping: minbucket > 600 \n",
            " - Skipping: minbucket > 600 \n",
            " - Skipping: minbucket > 600 \n",
            " - Skipping: minbucket > 600 \n",
            " - Skipping: minbucket > 600 \n",
            " - Skipping: minbucket > 600 \n",
            "  |===============================================                       |  67%1175  1176  1177  1178  1179  1180  1181  1182  1183  1184  1185  1186  1187  1188   - Skipping: minbucket > 400 \n",
            " - Skipping: minbucket > 400 \n",
            " - Skipping: minbucket > 400 \n",
            " - Skipping: minbucket > 400 \n",
            " - Skipping: minbucket > 400 \n",
            " - Skipping: minbucket > 400 \n",
            " - Skipping: minbucket > 400 \n",
            " - Skipping: minbucket > 400 \n",
            " - Skipping: minbucket > 400 \n",
            " - Skipping: minbucket > 400 \n",
            " - Skipping: minbucket > 400 \n",
            " - Skipping: minbucket > 400 \n",
            "  |================================================                      |  69%1210  1211  1212  1213  1214  1215  1216  1217  1218   - Skipping: minbucket > 200 \n",
            " - Skipping: minbucket > 200 \n",
            " - Skipping: minbucket > 200 \n",
            " - Skipping: minbucket > 200 \n",
            " - Skipping: minbucket > 200 \n",
            " - Skipping: minbucket > 200 \n",
            " - Skipping: minbucket > 200 \n",
            " - Skipping: minbucket > 200 \n",
            " - Skipping: minbucket > 200 \n",
            " - Skipping: minbucket > 200 \n",
            " - Skipping: minbucket > 200 \n",
            " - Skipping: minbucket > 200 \n",
            " - Skipping: minbucket > 200 \n",
            " - Skipping: minbucket > 200 \n",
            " - Skipping: minbucket > 200 \n",
            " - Skipping: minbucket > 200 \n",
            " - Skipping: minbucket > 200 \n",
            " - Skipping: minbucket > 200 \n",
            "  |=================================================                     |  70%1227  1228  1229  1230  1231  1232  1233  1234  1235  1236  1237  1238  1239  1240  1241  1242   - Skipping: minbucket > 100 \n",
            " - Skipping: minbucket > 100 \n",
            " - Skipping: minbucket > 100 \n",
            " - Skipping: minbucket > 100 \n",
            " - Skipping: minbucket > 100 \n",
            " - Skipping: minbucket > 100 \n",
            " - Skipping: minbucket > 100 \n",
            " - Skipping: minbucket > 100 \n",
            " - Skipping: minbucket > 100 \n",
            " - Skipping: minbucket > 100 \n",
            " - Skipping: minbucket > 100 \n",
            " - Skipping: minbucket > 100 \n",
            " - Skipping: minbucket > 100 \n",
            " - Skipping: minbucket > 100 \n",
            " - Skipping: minbucket > 100 \n",
            " - Skipping: minbucket > 100 \n",
            " - Skipping: minbucket > 100 \n",
            " - Skipping: minbucket > 100 \n",
            " - Skipping: minbucket > 100 \n",
            " - Skipping: minbucket > 100 \n",
            " - Skipping: minbucket > 100 \n",
            " - Skipping: minbucket > 100 \n",
            " - Skipping: minbucket > 100 \n",
            " - Skipping: minbucket > 100 \n",
            "  |==================================================                    |  71%1249  1250  1251  1252  1253  1254  1255  1256  1257  1258  1259  1260  \n"
          ]
        }
      ]
    },
    {
      "cell_type": "code",
      "source": [
        "fwrite( tb_grid_search_detalle,\n",
        "   file = \"gridsearch_detalle.txt\",\n",
        "   sep = \"\\t\"\n",
        ")"
      ],
      "metadata": {
        "id": "WZaSqYBxiDFu"
      },
      "execution_count": 22,
      "outputs": []
    },
    {
      "cell_type": "code",
      "source": [
        "# cantidad de registros de la tabla\n",
        "nrow(tb_grid_search_detalle)"
      ],
      "metadata": {
        "id": "STp0duM-RYVJ",
        "outputId": "fe39b5eb-d991-4bca-82f6-0c77a21e11e1",
        "colab": {
          "base_uri": "https://localhost:8080/",
          "height": 34
        }
      },
      "execution_count": 23,
      "outputs": [
        {
          "output_type": "display_data",
          "data": {
            "text/html": [
              "1260"
            ],
            "text/markdown": "1260",
            "text/latex": "1260",
            "text/plain": [
              "[1] 1260"
            ]
          },
          "metadata": {}
        }
      ]
    },
    {
      "cell_type": "code",
      "source": [
        "# muestro la tabla\n",
        "tb_grid_search_detalle"
      ],
      "metadata": {
        "id": "k7fhk_H0iNez",
        "outputId": "c1929017-e454-42f4-e7b4-28651314cfd3",
        "colab": {
          "base_uri": "https://localhost:8080/",
          "height": 1000
        }
      },
      "execution_count": 24,
      "outputs": [
        {
          "output_type": "display_data",
          "data": {
            "text/html": [
              "<table class=\"dataframe\">\n",
              "<caption>A data.table: 1260 × 6</caption>\n",
              "<thead>\n",
              "\t<tr><th scope=col>semilla</th><th scope=col>cp</th><th scope=col>maxdepth</th><th scope=col>minsplit</th><th scope=col>minbucket</th><th scope=col>ganancia_test</th></tr>\n",
              "\t<tr><th scope=col>&lt;int&gt;</th><th scope=col>&lt;dbl&gt;</th><th scope=col>&lt;dbl&gt;</th><th scope=col>&lt;dbl&gt;</th><th scope=col>&lt;dbl&gt;</th><th scope=col>&lt;dbl&gt;</th></tr>\n",
              "</thead>\n",
              "<tbody>\n",
              "\t<tr><td>394367</td><td>-5e-01</td><td>4</td><td>2000</td><td>1000</td><td>47950000</td></tr>\n",
              "\t<tr><td>394367</td><td> 5e-04</td><td>4</td><td>2000</td><td>1000</td><td>       0</td></tr>\n",
              "\t<tr><td>394367</td><td> 1e-03</td><td>4</td><td>2000</td><td>1000</td><td>       0</td></tr>\n",
              "\t<tr><td>394367</td><td> 5e-03</td><td>4</td><td>2000</td><td>1000</td><td>       0</td></tr>\n",
              "\t<tr><td>394367</td><td> 1e-02</td><td>4</td><td>2000</td><td>1000</td><td>       0</td></tr>\n",
              "\t<tr><td>394367</td><td> 2e-02</td><td>4</td><td>2000</td><td>1000</td><td>       0</td></tr>\n",
              "\t<tr><td>394367</td><td>-5e-01</td><td>4</td><td>2000</td><td> 500</td><td>50960000</td></tr>\n",
              "\t<tr><td>394367</td><td> 5e-04</td><td>4</td><td>2000</td><td> 500</td><td>       0</td></tr>\n",
              "\t<tr><td>394367</td><td> 1e-03</td><td>4</td><td>2000</td><td> 500</td><td>       0</td></tr>\n",
              "\t<tr><td>394367</td><td> 5e-03</td><td>4</td><td>2000</td><td> 500</td><td>       0</td></tr>\n",
              "\t<tr><td>394367</td><td> 1e-02</td><td>4</td><td>2000</td><td> 500</td><td>       0</td></tr>\n",
              "\t<tr><td>394367</td><td> 2e-02</td><td>4</td><td>2000</td><td> 500</td><td>       0</td></tr>\n",
              "\t<tr><td>394367</td><td>-5e-01</td><td>4</td><td>2000</td><td> 200</td><td>51140000</td></tr>\n",
              "\t<tr><td>394367</td><td> 5e-04</td><td>4</td><td>2000</td><td> 200</td><td>       0</td></tr>\n",
              "\t<tr><td>394367</td><td> 1e-03</td><td>4</td><td>2000</td><td> 200</td><td>       0</td></tr>\n",
              "\t<tr><td>394367</td><td> 5e-03</td><td>4</td><td>2000</td><td> 200</td><td>       0</td></tr>\n",
              "\t<tr><td>394367</td><td> 1e-02</td><td>4</td><td>2000</td><td> 200</td><td>       0</td></tr>\n",
              "\t<tr><td>394367</td><td> 2e-02</td><td>4</td><td>2000</td><td> 200</td><td>       0</td></tr>\n",
              "\t<tr><td>394367</td><td>-5e-01</td><td>4</td><td>2000</td><td> 100</td><td>49160000</td></tr>\n",
              "\t<tr><td>394367</td><td> 5e-04</td><td>4</td><td>2000</td><td> 100</td><td>       0</td></tr>\n",
              "\t<tr><td>394367</td><td> 1e-03</td><td>4</td><td>2000</td><td> 100</td><td>       0</td></tr>\n",
              "\t<tr><td>394367</td><td> 5e-03</td><td>4</td><td>2000</td><td> 100</td><td>       0</td></tr>\n",
              "\t<tr><td>394367</td><td> 1e-02</td><td>4</td><td>2000</td><td> 100</td><td>       0</td></tr>\n",
              "\t<tr><td>394367</td><td> 2e-02</td><td>4</td><td>2000</td><td> 100</td><td>       0</td></tr>\n",
              "\t<tr><td>394367</td><td>-5e-01</td><td>4</td><td>2000</td><td>  50</td><td>48980000</td></tr>\n",
              "\t<tr><td>394367</td><td> 5e-04</td><td>4</td><td>2000</td><td>  50</td><td>       0</td></tr>\n",
              "\t<tr><td>394367</td><td> 1e-03</td><td>4</td><td>2000</td><td>  50</td><td>       0</td></tr>\n",
              "\t<tr><td>394367</td><td> 5e-03</td><td>4</td><td>2000</td><td>  50</td><td>       0</td></tr>\n",
              "\t<tr><td>394367</td><td> 1e-02</td><td>4</td><td>2000</td><td>  50</td><td>       0</td></tr>\n",
              "\t<tr><td>394367</td><td> 2e-02</td><td>4</td><td>2000</td><td>  50</td><td>       0</td></tr>\n",
              "\t<tr><td>⋮</td><td>⋮</td><td>⋮</td><td>⋮</td><td>⋮</td><td>⋮</td></tr>\n",
              "\t<tr><td>394367</td><td>-5e-01</td><td>14</td><td>200</td><td>10</td><td>48260000</td></tr>\n",
              "\t<tr><td>394367</td><td> 5e-04</td><td>14</td><td>200</td><td>10</td><td>       0</td></tr>\n",
              "\t<tr><td>394367</td><td> 1e-03</td><td>14</td><td>200</td><td>10</td><td>       0</td></tr>\n",
              "\t<tr><td>394367</td><td> 5e-03</td><td>14</td><td>200</td><td>10</td><td>       0</td></tr>\n",
              "\t<tr><td>394367</td><td> 1e-02</td><td>14</td><td>200</td><td>10</td><td>       0</td></tr>\n",
              "\t<tr><td>394367</td><td> 2e-02</td><td>14</td><td>200</td><td>10</td><td>       0</td></tr>\n",
              "\t<tr><td>394367</td><td>-5e-01</td><td>14</td><td>200</td><td> 5</td><td>45270000</td></tr>\n",
              "\t<tr><td>394367</td><td> 5e-04</td><td>14</td><td>200</td><td> 5</td><td>       0</td></tr>\n",
              "\t<tr><td>394367</td><td> 1e-03</td><td>14</td><td>200</td><td> 5</td><td>       0</td></tr>\n",
              "\t<tr><td>394367</td><td> 5e-03</td><td>14</td><td>200</td><td> 5</td><td>       0</td></tr>\n",
              "\t<tr><td>394367</td><td> 1e-02</td><td>14</td><td>200</td><td> 5</td><td>       0</td></tr>\n",
              "\t<tr><td>394367</td><td> 2e-02</td><td>14</td><td>200</td><td> 5</td><td>       0</td></tr>\n",
              "\t<tr><td>394367</td><td>-5e-01</td><td>14</td><td>100</td><td>50</td><td>40310000</td></tr>\n",
              "\t<tr><td>394367</td><td> 5e-04</td><td>14</td><td>100</td><td>50</td><td>       0</td></tr>\n",
              "\t<tr><td>394367</td><td> 1e-03</td><td>14</td><td>100</td><td>50</td><td>       0</td></tr>\n",
              "\t<tr><td>394367</td><td> 5e-03</td><td>14</td><td>100</td><td>50</td><td>       0</td></tr>\n",
              "\t<tr><td>394367</td><td> 1e-02</td><td>14</td><td>100</td><td>50</td><td>       0</td></tr>\n",
              "\t<tr><td>394367</td><td> 2e-02</td><td>14</td><td>100</td><td>50</td><td>       0</td></tr>\n",
              "\t<tr><td>394367</td><td>-5e-01</td><td>14</td><td>100</td><td>10</td><td>47210000</td></tr>\n",
              "\t<tr><td>394367</td><td> 5e-04</td><td>14</td><td>100</td><td>10</td><td>48630000</td></tr>\n",
              "\t<tr><td>394367</td><td> 1e-03</td><td>14</td><td>100</td><td>10</td><td>       0</td></tr>\n",
              "\t<tr><td>394367</td><td> 5e-03</td><td>14</td><td>100</td><td>10</td><td>       0</td></tr>\n",
              "\t<tr><td>394367</td><td> 1e-02</td><td>14</td><td>100</td><td>10</td><td>       0</td></tr>\n",
              "\t<tr><td>394367</td><td> 2e-02</td><td>14</td><td>100</td><td>10</td><td>       0</td></tr>\n",
              "\t<tr><td>394367</td><td>-5e-01</td><td>14</td><td>100</td><td> 5</td><td>44850000</td></tr>\n",
              "\t<tr><td>394367</td><td> 5e-04</td><td>14</td><td>100</td><td> 5</td><td>48640000</td></tr>\n",
              "\t<tr><td>394367</td><td> 1e-03</td><td>14</td><td>100</td><td> 5</td><td>       0</td></tr>\n",
              "\t<tr><td>394367</td><td> 5e-03</td><td>14</td><td>100</td><td> 5</td><td>       0</td></tr>\n",
              "\t<tr><td>394367</td><td> 1e-02</td><td>14</td><td>100</td><td> 5</td><td>       0</td></tr>\n",
              "\t<tr><td>394367</td><td> 2e-02</td><td>14</td><td>100</td><td> 5</td><td>       0</td></tr>\n",
              "</tbody>\n",
              "</table>\n"
            ],
            "text/markdown": "\nA data.table: 1260 × 6\n\n| semilla &lt;int&gt; | cp &lt;dbl&gt; | maxdepth &lt;dbl&gt; | minsplit &lt;dbl&gt; | minbucket &lt;dbl&gt; | ganancia_test &lt;dbl&gt; |\n|---|---|---|---|---|---|\n| 394367 | -5e-01 | 4 | 2000 | 1000 | 47950000 |\n| 394367 |  5e-04 | 4 | 2000 | 1000 |        0 |\n| 394367 |  1e-03 | 4 | 2000 | 1000 |        0 |\n| 394367 |  5e-03 | 4 | 2000 | 1000 |        0 |\n| 394367 |  1e-02 | 4 | 2000 | 1000 |        0 |\n| 394367 |  2e-02 | 4 | 2000 | 1000 |        0 |\n| 394367 | -5e-01 | 4 | 2000 |  500 | 50960000 |\n| 394367 |  5e-04 | 4 | 2000 |  500 |        0 |\n| 394367 |  1e-03 | 4 | 2000 |  500 |        0 |\n| 394367 |  5e-03 | 4 | 2000 |  500 |        0 |\n| 394367 |  1e-02 | 4 | 2000 |  500 |        0 |\n| 394367 |  2e-02 | 4 | 2000 |  500 |        0 |\n| 394367 | -5e-01 | 4 | 2000 |  200 | 51140000 |\n| 394367 |  5e-04 | 4 | 2000 |  200 |        0 |\n| 394367 |  1e-03 | 4 | 2000 |  200 |        0 |\n| 394367 |  5e-03 | 4 | 2000 |  200 |        0 |\n| 394367 |  1e-02 | 4 | 2000 |  200 |        0 |\n| 394367 |  2e-02 | 4 | 2000 |  200 |        0 |\n| 394367 | -5e-01 | 4 | 2000 |  100 | 49160000 |\n| 394367 |  5e-04 | 4 | 2000 |  100 |        0 |\n| 394367 |  1e-03 | 4 | 2000 |  100 |        0 |\n| 394367 |  5e-03 | 4 | 2000 |  100 |        0 |\n| 394367 |  1e-02 | 4 | 2000 |  100 |        0 |\n| 394367 |  2e-02 | 4 | 2000 |  100 |        0 |\n| 394367 | -5e-01 | 4 | 2000 |   50 | 48980000 |\n| 394367 |  5e-04 | 4 | 2000 |   50 |        0 |\n| 394367 |  1e-03 | 4 | 2000 |   50 |        0 |\n| 394367 |  5e-03 | 4 | 2000 |   50 |        0 |\n| 394367 |  1e-02 | 4 | 2000 |   50 |        0 |\n| 394367 |  2e-02 | 4 | 2000 |   50 |        0 |\n| ⋮ | ⋮ | ⋮ | ⋮ | ⋮ | ⋮ |\n| 394367 | -5e-01 | 14 | 200 | 10 | 48260000 |\n| 394367 |  5e-04 | 14 | 200 | 10 |        0 |\n| 394367 |  1e-03 | 14 | 200 | 10 |        0 |\n| 394367 |  5e-03 | 14 | 200 | 10 |        0 |\n| 394367 |  1e-02 | 14 | 200 | 10 |        0 |\n| 394367 |  2e-02 | 14 | 200 | 10 |        0 |\n| 394367 | -5e-01 | 14 | 200 |  5 | 45270000 |\n| 394367 |  5e-04 | 14 | 200 |  5 |        0 |\n| 394367 |  1e-03 | 14 | 200 |  5 |        0 |\n| 394367 |  5e-03 | 14 | 200 |  5 |        0 |\n| 394367 |  1e-02 | 14 | 200 |  5 |        0 |\n| 394367 |  2e-02 | 14 | 200 |  5 |        0 |\n| 394367 | -5e-01 | 14 | 100 | 50 | 40310000 |\n| 394367 |  5e-04 | 14 | 100 | 50 |        0 |\n| 394367 |  1e-03 | 14 | 100 | 50 |        0 |\n| 394367 |  5e-03 | 14 | 100 | 50 |        0 |\n| 394367 |  1e-02 | 14 | 100 | 50 |        0 |\n| 394367 |  2e-02 | 14 | 100 | 50 |        0 |\n| 394367 | -5e-01 | 14 | 100 | 10 | 47210000 |\n| 394367 |  5e-04 | 14 | 100 | 10 | 48630000 |\n| 394367 |  1e-03 | 14 | 100 | 10 |        0 |\n| 394367 |  5e-03 | 14 | 100 | 10 |        0 |\n| 394367 |  1e-02 | 14 | 100 | 10 |        0 |\n| 394367 |  2e-02 | 14 | 100 | 10 |        0 |\n| 394367 | -5e-01 | 14 | 100 |  5 | 44850000 |\n| 394367 |  5e-04 | 14 | 100 |  5 | 48640000 |\n| 394367 |  1e-03 | 14 | 100 |  5 |        0 |\n| 394367 |  5e-03 | 14 | 100 |  5 |        0 |\n| 394367 |  1e-02 | 14 | 100 |  5 |        0 |\n| 394367 |  2e-02 | 14 | 100 |  5 |        0 |\n\n",
            "text/latex": "A data.table: 1260 × 6\n\\begin{tabular}{llllll}\n semilla & cp & maxdepth & minsplit & minbucket & ganancia\\_test\\\\\n <int> & <dbl> & <dbl> & <dbl> & <dbl> & <dbl>\\\\\n\\hline\n\t 394367 & -5e-01 & 4 & 2000 & 1000 & 47950000\\\\\n\t 394367 &  5e-04 & 4 & 2000 & 1000 &        0\\\\\n\t 394367 &  1e-03 & 4 & 2000 & 1000 &        0\\\\\n\t 394367 &  5e-03 & 4 & 2000 & 1000 &        0\\\\\n\t 394367 &  1e-02 & 4 & 2000 & 1000 &        0\\\\\n\t 394367 &  2e-02 & 4 & 2000 & 1000 &        0\\\\\n\t 394367 & -5e-01 & 4 & 2000 &  500 & 50960000\\\\\n\t 394367 &  5e-04 & 4 & 2000 &  500 &        0\\\\\n\t 394367 &  1e-03 & 4 & 2000 &  500 &        0\\\\\n\t 394367 &  5e-03 & 4 & 2000 &  500 &        0\\\\\n\t 394367 &  1e-02 & 4 & 2000 &  500 &        0\\\\\n\t 394367 &  2e-02 & 4 & 2000 &  500 &        0\\\\\n\t 394367 & -5e-01 & 4 & 2000 &  200 & 51140000\\\\\n\t 394367 &  5e-04 & 4 & 2000 &  200 &        0\\\\\n\t 394367 &  1e-03 & 4 & 2000 &  200 &        0\\\\\n\t 394367 &  5e-03 & 4 & 2000 &  200 &        0\\\\\n\t 394367 &  1e-02 & 4 & 2000 &  200 &        0\\\\\n\t 394367 &  2e-02 & 4 & 2000 &  200 &        0\\\\\n\t 394367 & -5e-01 & 4 & 2000 &  100 & 49160000\\\\\n\t 394367 &  5e-04 & 4 & 2000 &  100 &        0\\\\\n\t 394367 &  1e-03 & 4 & 2000 &  100 &        0\\\\\n\t 394367 &  5e-03 & 4 & 2000 &  100 &        0\\\\\n\t 394367 &  1e-02 & 4 & 2000 &  100 &        0\\\\\n\t 394367 &  2e-02 & 4 & 2000 &  100 &        0\\\\\n\t 394367 & -5e-01 & 4 & 2000 &   50 & 48980000\\\\\n\t 394367 &  5e-04 & 4 & 2000 &   50 &        0\\\\\n\t 394367 &  1e-03 & 4 & 2000 &   50 &        0\\\\\n\t 394367 &  5e-03 & 4 & 2000 &   50 &        0\\\\\n\t 394367 &  1e-02 & 4 & 2000 &   50 &        0\\\\\n\t 394367 &  2e-02 & 4 & 2000 &   50 &        0\\\\\n\t ⋮ & ⋮ & ⋮ & ⋮ & ⋮ & ⋮\\\\\n\t 394367 & -5e-01 & 14 & 200 & 10 & 48260000\\\\\n\t 394367 &  5e-04 & 14 & 200 & 10 &        0\\\\\n\t 394367 &  1e-03 & 14 & 200 & 10 &        0\\\\\n\t 394367 &  5e-03 & 14 & 200 & 10 &        0\\\\\n\t 394367 &  1e-02 & 14 & 200 & 10 &        0\\\\\n\t 394367 &  2e-02 & 14 & 200 & 10 &        0\\\\\n\t 394367 & -5e-01 & 14 & 200 &  5 & 45270000\\\\\n\t 394367 &  5e-04 & 14 & 200 &  5 &        0\\\\\n\t 394367 &  1e-03 & 14 & 200 &  5 &        0\\\\\n\t 394367 &  5e-03 & 14 & 200 &  5 &        0\\\\\n\t 394367 &  1e-02 & 14 & 200 &  5 &        0\\\\\n\t 394367 &  2e-02 & 14 & 200 &  5 &        0\\\\\n\t 394367 & -5e-01 & 14 & 100 & 50 & 40310000\\\\\n\t 394367 &  5e-04 & 14 & 100 & 50 &        0\\\\\n\t 394367 &  1e-03 & 14 & 100 & 50 &        0\\\\\n\t 394367 &  5e-03 & 14 & 100 & 50 &        0\\\\\n\t 394367 &  1e-02 & 14 & 100 & 50 &        0\\\\\n\t 394367 &  2e-02 & 14 & 100 & 50 &        0\\\\\n\t 394367 & -5e-01 & 14 & 100 & 10 & 47210000\\\\\n\t 394367 &  5e-04 & 14 & 100 & 10 & 48630000\\\\\n\t 394367 &  1e-03 & 14 & 100 & 10 &        0\\\\\n\t 394367 &  5e-03 & 14 & 100 & 10 &        0\\\\\n\t 394367 &  1e-02 & 14 & 100 & 10 &        0\\\\\n\t 394367 &  2e-02 & 14 & 100 & 10 &        0\\\\\n\t 394367 & -5e-01 & 14 & 100 &  5 & 44850000\\\\\n\t 394367 &  5e-04 & 14 & 100 &  5 & 48640000\\\\\n\t 394367 &  1e-03 & 14 & 100 &  5 &        0\\\\\n\t 394367 &  5e-03 & 14 & 100 &  5 &        0\\\\\n\t 394367 &  1e-02 & 14 & 100 &  5 &        0\\\\\n\t 394367 &  2e-02 & 14 & 100 &  5 &        0\\\\\n\\end{tabular}\n",
            "text/plain": [
              "     semilla cp     maxdepth minsplit minbucket ganancia_test\n",
              "1    394367  -5e-01 4        2000     1000      47950000     \n",
              "2    394367   5e-04 4        2000     1000             0     \n",
              "3    394367   1e-03 4        2000     1000             0     \n",
              "4    394367   5e-03 4        2000     1000             0     \n",
              "5    394367   1e-02 4        2000     1000             0     \n",
              "6    394367   2e-02 4        2000     1000             0     \n",
              "7    394367  -5e-01 4        2000      500      50960000     \n",
              "8    394367   5e-04 4        2000      500             0     \n",
              "9    394367   1e-03 4        2000      500             0     \n",
              "10   394367   5e-03 4        2000      500             0     \n",
              "11   394367   1e-02 4        2000      500             0     \n",
              "12   394367   2e-02 4        2000      500             0     \n",
              "13   394367  -5e-01 4        2000      200      51140000     \n",
              "14   394367   5e-04 4        2000      200             0     \n",
              "15   394367   1e-03 4        2000      200             0     \n",
              "16   394367   5e-03 4        2000      200             0     \n",
              "17   394367   1e-02 4        2000      200             0     \n",
              "18   394367   2e-02 4        2000      200             0     \n",
              "19   394367  -5e-01 4        2000      100      49160000     \n",
              "20   394367   5e-04 4        2000      100             0     \n",
              "21   394367   1e-03 4        2000      100             0     \n",
              "22   394367   5e-03 4        2000      100             0     \n",
              "23   394367   1e-02 4        2000      100             0     \n",
              "24   394367   2e-02 4        2000      100             0     \n",
              "25   394367  -5e-01 4        2000       50      48980000     \n",
              "26   394367   5e-04 4        2000       50             0     \n",
              "27   394367   1e-03 4        2000       50             0     \n",
              "28   394367   5e-03 4        2000       50             0     \n",
              "29   394367   1e-02 4        2000       50             0     \n",
              "30   394367   2e-02 4        2000       50             0     \n",
              "⋮    ⋮       ⋮      ⋮        ⋮        ⋮         ⋮            \n",
              "1231 394367  -5e-01 14       200      10        48260000     \n",
              "1232 394367   5e-04 14       200      10               0     \n",
              "1233 394367   1e-03 14       200      10               0     \n",
              "1234 394367   5e-03 14       200      10               0     \n",
              "1235 394367   1e-02 14       200      10               0     \n",
              "1236 394367   2e-02 14       200      10               0     \n",
              "1237 394367  -5e-01 14       200       5        45270000     \n",
              "1238 394367   5e-04 14       200       5               0     \n",
              "1239 394367   1e-03 14       200       5               0     \n",
              "1240 394367   5e-03 14       200       5               0     \n",
              "1241 394367   1e-02 14       200       5               0     \n",
              "1242 394367   2e-02 14       200       5               0     \n",
              "1243 394367  -5e-01 14       100      50        40310000     \n",
              "1244 394367   5e-04 14       100      50               0     \n",
              "1245 394367   1e-03 14       100      50               0     \n",
              "1246 394367   5e-03 14       100      50               0     \n",
              "1247 394367   1e-02 14       100      50               0     \n",
              "1248 394367   2e-02 14       100      50               0     \n",
              "1249 394367  -5e-01 14       100      10        47210000     \n",
              "1250 394367   5e-04 14       100      10        48630000     \n",
              "1251 394367   1e-03 14       100      10               0     \n",
              "1252 394367   5e-03 14       100      10               0     \n",
              "1253 394367   1e-02 14       100      10               0     \n",
              "1254 394367   2e-02 14       100      10               0     \n",
              "1255 394367  -5e-01 14       100       5        44850000     \n",
              "1256 394367   5e-04 14       100       5        48640000     \n",
              "1257 394367   1e-03 14       100       5               0     \n",
              "1258 394367   5e-03 14       100       5               0     \n",
              "1259 394367   1e-02 14       100       5               0     \n",
              "1260 394367   2e-02 14       100       5               0     "
            ]
          },
          "metadata": {}
        }
      ]
    },
    {
      "cell_type": "code",
      "source": [
        "# genero y grabo el resumen\n",
        "tb_grid_search <- tb_grid_search_detalle[,\n",
        "  list( \"ganancia_mean\" = mean(ganancia_test),\n",
        "    \"qty\" = .N ),\n",
        "  list( cp, maxdepth, minsplit, minbucket )\n",
        "]\n"
      ],
      "metadata": {
        "id": "DjCxtx8bIsgl"
      },
      "execution_count": 25,
      "outputs": []
    },
    {
      "cell_type": "code",
      "source": [
        "# ordeno descendente por ganancia\n",
        "setorder( tb_grid_search, -ganancia_mean )\n"
      ],
      "metadata": {
        "id": "LU29UhL1Ivg5"
      },
      "execution_count": 26,
      "outputs": []
    },
    {
      "cell_type": "code",
      "source": [
        "# veo los 10 mejores hiperparámetros\n",
        "tb_grid_search[1:10]"
      ],
      "metadata": {
        "id": "g-EjGY7aIyWL",
        "outputId": "d6cc22b4-0e4f-4e35-d80f-9d481f985d26",
        "colab": {
          "base_uri": "https://localhost:8080/",
          "height": 411
        }
      },
      "execution_count": 27,
      "outputs": [
        {
          "output_type": "display_data",
          "data": {
            "text/html": [
              "<table class=\"dataframe\">\n",
              "<caption>A data.table: 10 × 6</caption>\n",
              "<thead>\n",
              "\t<tr><th scope=col>cp</th><th scope=col>maxdepth</th><th scope=col>minsplit</th><th scope=col>minbucket</th><th scope=col>ganancia_mean</th><th scope=col>qty</th></tr>\n",
              "\t<tr><th scope=col>&lt;dbl&gt;</th><th scope=col>&lt;dbl&gt;</th><th scope=col>&lt;dbl&gt;</th><th scope=col>&lt;dbl&gt;</th><th scope=col>&lt;dbl&gt;</th><th scope=col>&lt;int&gt;</th></tr>\n",
              "</thead>\n",
              "<tbody>\n",
              "\t<tr><td>-0.5</td><td> 8</td><td> 800</td><td>200</td><td>53290000</td><td>1</td></tr>\n",
              "\t<tr><td>-0.5</td><td> 8</td><td>1000</td><td>500</td><td>53140000</td><td>1</td></tr>\n",
              "\t<tr><td>-0.5</td><td>10</td><td>1000</td><td>500</td><td>53140000</td><td>1</td></tr>\n",
              "\t<tr><td>-0.5</td><td>12</td><td>1000</td><td>500</td><td>53140000</td><td>1</td></tr>\n",
              "\t<tr><td>-0.5</td><td>14</td><td>1000</td><td>500</td><td>53140000</td><td>1</td></tr>\n",
              "\t<tr><td>-0.5</td><td> 8</td><td> 800</td><td>100</td><td>52580000</td><td>1</td></tr>\n",
              "\t<tr><td>-0.5</td><td> 8</td><td>1000</td><td>100</td><td>52570000</td><td>1</td></tr>\n",
              "\t<tr><td>-0.5</td><td> 8</td><td>1000</td><td>200</td><td>52550000</td><td>1</td></tr>\n",
              "\t<tr><td>-0.5</td><td>10</td><td>1000</td><td>100</td><td>52280000</td><td>1</td></tr>\n",
              "\t<tr><td>-0.5</td><td>12</td><td>1000</td><td>100</td><td>52280000</td><td>1</td></tr>\n",
              "</tbody>\n",
              "</table>\n"
            ],
            "text/markdown": "\nA data.table: 10 × 6\n\n| cp &lt;dbl&gt; | maxdepth &lt;dbl&gt; | minsplit &lt;dbl&gt; | minbucket &lt;dbl&gt; | ganancia_mean &lt;dbl&gt; | qty &lt;int&gt; |\n|---|---|---|---|---|---|\n| -0.5 |  8 |  800 | 200 | 53290000 | 1 |\n| -0.5 |  8 | 1000 | 500 | 53140000 | 1 |\n| -0.5 | 10 | 1000 | 500 | 53140000 | 1 |\n| -0.5 | 12 | 1000 | 500 | 53140000 | 1 |\n| -0.5 | 14 | 1000 | 500 | 53140000 | 1 |\n| -0.5 |  8 |  800 | 100 | 52580000 | 1 |\n| -0.5 |  8 | 1000 | 100 | 52570000 | 1 |\n| -0.5 |  8 | 1000 | 200 | 52550000 | 1 |\n| -0.5 | 10 | 1000 | 100 | 52280000 | 1 |\n| -0.5 | 12 | 1000 | 100 | 52280000 | 1 |\n\n",
            "text/latex": "A data.table: 10 × 6\n\\begin{tabular}{llllll}\n cp & maxdepth & minsplit & minbucket & ganancia\\_mean & qty\\\\\n <dbl> & <dbl> & <dbl> & <dbl> & <dbl> & <int>\\\\\n\\hline\n\t -0.5 &  8 &  800 & 200 & 53290000 & 1\\\\\n\t -0.5 &  8 & 1000 & 500 & 53140000 & 1\\\\\n\t -0.5 & 10 & 1000 & 500 & 53140000 & 1\\\\\n\t -0.5 & 12 & 1000 & 500 & 53140000 & 1\\\\\n\t -0.5 & 14 & 1000 & 500 & 53140000 & 1\\\\\n\t -0.5 &  8 &  800 & 100 & 52580000 & 1\\\\\n\t -0.5 &  8 & 1000 & 100 & 52570000 & 1\\\\\n\t -0.5 &  8 & 1000 & 200 & 52550000 & 1\\\\\n\t -0.5 & 10 & 1000 & 100 & 52280000 & 1\\\\\n\t -0.5 & 12 & 1000 & 100 & 52280000 & 1\\\\\n\\end{tabular}\n",
            "text/plain": [
              "   cp   maxdepth minsplit minbucket ganancia_mean qty\n",
              "1  -0.5  8        800     200       53290000      1  \n",
              "2  -0.5  8       1000     500       53140000      1  \n",
              "3  -0.5 10       1000     500       53140000      1  \n",
              "4  -0.5 12       1000     500       53140000      1  \n",
              "5  -0.5 14       1000     500       53140000      1  \n",
              "6  -0.5  8        800     100       52580000      1  \n",
              "7  -0.5  8       1000     100       52570000      1  \n",
              "8  -0.5  8       1000     200       52550000      1  \n",
              "9  -0.5 10       1000     100       52280000      1  \n",
              "10 -0.5 12       1000     100       52280000      1  "
            ]
          },
          "metadata": {}
        }
      ]
    },
    {
      "cell_type": "code",
      "source": [
        "# genero un id a la tabla\n",
        "tb_grid_search[, id := .I ]\n",
        "\n",
        "fwrite( tb_grid_search,\n",
        "  file = \"gridsearch.txt\",\n",
        "  sep = \"\\t\"\n",
        ")\n"
      ],
      "metadata": {
        "id": "K3S-I2PTI5ZE"
      },
      "execution_count": 28,
      "outputs": []
    },
    {
      "cell_type": "markdown",
      "source": [
        "# 4.  Análisis de resultados de Grid Search"
      ],
      "metadata": {
        "id": "1rYHk1YkI_9k"
      }
    },
    {
      "cell_type": "markdown",
      "source": [
        "La salida de la corrida anterior queda en ~/buckets/b1/exp/HT2900  que corresponde a su Google Drive\n",
        "<br>HT significa Hyperparameter Tuning\n",
        "<br>El Grid Search es un método de fuerza bruta de un altísimo costo computacional.\n",
        "<br>Queremos ver si es posible crear un algoritmo de optimización de hiperparámetros que se ahorre recorrer ciertas porciones muy malas del espacio de búsqueda. Algo del estilo “cada vez que pruebo una combinación de hiperparámetros donde  cp > 1 , la ganancia es muy mala, con lo cual ni vale la pena perder el tiempo explorando en esa region”\n"
      ],
      "metadata": {
        "id": "ZTJgPhMWJHTk"
      }
    },
    {
      "cell_type": "markdown",
      "source": [
        "<br>Levante el archivo de salida gridsearch.txt  a una planilla tipo Excel y analícelo detenidamente\n",
        "<br>Ordene por ganancia_mean descendente\n",
        "<br>\n",
        "<br>El de mayor ganancia_mean  decimos que es el primero del ranking\n",
        "En Zulip, correspondiente channel  #Tarea Hogar 02 , topic Analisis Grid Search   intente contestar estas preguntas:\n",
        "\n",
        "* ¿Qué combinaciones de hiperparámetros poseen una ganancia muy buena?\n",
        "* ¿Hay algun hiperparámetro que para cierto valor siempre genera una ganancia muy mala, a independientemente de lo que valgan los otros hiperparámetros ?\n",
        "* ¿Que combinaciones de hiperparámetros es pésima y hubiera sido bueno ahorrarse esas corridas ?\n",
        "\n",
        "( tiempo estimado 30 minutos, dificultad media )"
      ],
      "metadata": {
        "id": "IaVgMu4tPwyB"
      }
    }
  ]
}